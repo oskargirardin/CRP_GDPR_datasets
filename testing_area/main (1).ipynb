{
  "cells": [
    {
      "cell_type": "markdown",
      "source": [
        "This code generates synthetic data using the CTGAN and GaussianCopula models from the SDV library. The goal is to create synthetic data that closely resembles the original data, while also preserving the privacy of the data subjects. The code loads a CSV file containing the original data, and then uses the Generator class from the generator.py file to generate synthetic data. The generator object is created with specific metadata, including which columns are categorical and sensitive. The Generator class uses the SDV library to generate synthetic data using either the CTGAN or GaussianCopula model. The anonymized_data variable contains anonymized data generated using the faker_categorical() method from the Generator class. The df variable contains the final synthetic data, which is a combination of the anonymized data and the synthetic data generated using the SDV library. Finally, the SimilarityCheck class from the SimilarityCheck.py file is used to perform a similarity check between the generated data and the original data, and the quality of the synthetic data is evaluated using the TableEvaluator class from the table_evaluator.py file. "
      ],
      "metadata": {
        "id": "i-s6J39tf9qy"
      }
    },
    {
      "cell_type": "code",
      "execution_count": null,
      "metadata": {
        "id": "sP5JPFd1f7us",
        "outputId": "5275a2d7-788b-46c8-ddaf-358040a2476b"
      },
      "outputs": [
        {
          "ename": "ModuleNotFoundError",
          "evalue": "No module named 'sdv.tabular'",
          "output_type": "error",
          "traceback": [
            "\u001b[0;31m---------------------------------------------------------------------------\u001b[0m",
            "\u001b[0;31mModuleNotFoundError\u001b[0m                       Traceback (most recent call last)",
            "Cell \u001b[0;32mIn[4], line 8\u001b[0m\n\u001b[1;32m      6\u001b[0m \u001b[39mimport\u001b[39;00m \u001b[39mrandom\u001b[39;00m\n\u001b[1;32m      7\u001b[0m \u001b[39mfrom\u001b[39;00m \u001b[39mcollections\u001b[39;00m \u001b[39mimport\u001b[39;00m OrderedDict\n\u001b[0;32m----> 8\u001b[0m \u001b[39mfrom\u001b[39;00m \u001b[39msdv\u001b[39;00m\u001b[39m.\u001b[39;00m\u001b[39mtabular\u001b[39;00m \u001b[39mimport\u001b[39;00m CTGAN, GaussianCopula\n\u001b[1;32m      9\u001b[0m \u001b[39mfrom\u001b[39;00m \u001b[39msdv\u001b[39;00m\u001b[39m.\u001b[39;00m\u001b[39mevaluation\u001b[39;00m \u001b[39mimport\u001b[39;00m evaluate\n\u001b[1;32m     10\u001b[0m \u001b[39mfrom\u001b[39;00m \u001b[39mtable_evaluator\u001b[39;00m \u001b[39mimport\u001b[39;00m TableEvaluator\n",
            "\u001b[0;31mModuleNotFoundError\u001b[0m: No module named 'sdv.tabular'"
          ]
        }
      ],
      "source": [
        "import sys\n",
        "sys.path.append('..')\n",
        "import pandas as pd\n",
        "import numpy as np\n",
        "from faker import Faker\n",
        "import random\n",
        "from collections import OrderedDict\n",
        "from sdv.tabular import CTGAN, GaussianCopula\n",
        "from sdv.evaluation import evaluate\n",
        "from table_evaluator import TableEvaluator\n",
        "from src.utils import *\n",
        "import re\n",
        "from src.similarity_check.SimilarityCheck import *\n",
        "from src.synthetic_data_generation.generator import *"
      ]
    },
    {
      "cell_type": "code",
      "execution_count": null,
      "metadata": {
        "id": "qISsWjl5f7uv"
      },
      "outputs": [],
      "source": [
        "# define path to the data you want to test\n",
        "path_test_data = \"./Subsample_training.csv\"\n",
        "\n",
        "# take the comment out to see the first 10 rows of your data\n",
        "\n",
        "# indicate which columns are categorical, and which are sensitive\n",
        "cat_cols = ['Married/Single', 'House_Ownership', 'Car_Ownership', 'Profession', 'CITY', 'STATE', 'Risk_Flag']\n",
        "sensitive_cols = [\"first_name\", \"last_name\", \"email\", \"gender\", \"ip_address\", \"nationality\", \"city\"]\n",
        "\n",
        "my_metadata = {\n",
        "    'fields':\n",
        "        {\n",
        "            'Income': {'type': 'numerical', 'subtype': 'integer'},\n",
        "            'Age': {'type': 'numerical', 'subtype': 'integer'},\n",
        "            'Experience': {'type': 'numerical', 'subtype': 'integer'},\n",
        "            'CURRENT_JOB_YRS': {'type': 'numerical', 'subtype': 'integer'},\n",
        "            'CURRENT_HOUSE_YRS': {'type': 'numerical', 'subtype': 'integer'},\n",
        "            'Married/Single': {'type': 'categorical'},\n",
        "            'House_Ownership': {'type': 'categorical'},\n",
        "            'Car_Ownership': {'type': 'categorical'},\n",
        "            'Profession': {'type': 'categorical'},\n",
        "            'CITY': {'type': 'categorical'},\n",
        "            'STATE': {'type': 'categorical'},\n",
        "            'Risk_Flag': {'type': 'boolean'}\n",
        "        },\n",
        "    'constraints': [],\n",
        "    'model_kwargs': {},\n",
        "    'name': None,\n",
        "    'primary_key': None,\n",
        "    'sequence_index': None,\n",
        "    'entity_columns': [],\n",
        "    'context_columns': []\n",
        "}"
      ]
    },
    {
      "cell_type": "code",
      "execution_count": null,
      "metadata": {
        "id": "d0Vd_LCCf7uw"
      },
      "outputs": [],
      "source": [
        "data = get_data(path_test_data)\n",
        "# checking that it can deal with nan values\n",
        "data.iloc[3, 2] = float(\"nan\")\n",
        "print(data.head())\n",
        "# create object\n",
        "generator = Generator(n_epochs=1, n_samples=100, architecture='CTGAN',\n",
        "                        data=data,\n",
        "                        categorical_columns=cat_cols,\n",
        "                        sensitive_columns=sensitive_cols)\n",
        "print(\"Generating data\")\n",
        "synth_data = generator.generate().iloc[:, 2:]\n",
        "anonymized_data = generator.faker_categorical()\n",
        "df = pd.concat([anonymized_data, synth_data], axis=1)\n",
        "print(df.columns)\n",
        "df.drop(['CITY', 'STATE'], inplace=True, axis=1)\n",
        "print(df.head())\n",
        "#df.to_csv('synth_data.csv')"
      ]
    },
    {
      "cell_type": "code",
      "execution_count": null,
      "metadata": {
        "id": "wZ1fcWg9f7uw"
      },
      "outputs": [],
      "source": [
        "similarity_checker = SimilarityCheck(data.iloc[:, 2:], synth_data, cat_cols, my_metadata)"
      ]
    }
  ],
  "metadata": {
    "kernelspec": {
      "display_name": "CRP",
      "language": "python",
      "name": "python3"
    },
    "language_info": {
      "codemirror_mode": {
        "name": "ipython",
        "version": 3
      },
      "file_extension": ".py",
      "mimetype": "text/x-python",
      "name": "python",
      "nbconvert_exporter": "python",
      "pygments_lexer": "ipython3",
      "version": "3.10.9"
    },
    "orig_nbformat": 4,
    "vscode": {
      "interpreter": {
        "hash": "23718b0fc53f510def4b77533949d856a6d39c8aa2ba466fc8a03a72cd48b06e"
      }
    },
    "colab": {
      "provenance": []
    }
  },
  "nbformat": 4,
  "nbformat_minor": 0
}