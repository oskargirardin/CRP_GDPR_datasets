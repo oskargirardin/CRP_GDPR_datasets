{
 "cells": [
  {
   "cell_type": "code",
   "execution_count": 1,
   "metadata": {},
   "outputs": [
    {
     "name": "stderr",
     "output_type": "stream",
     "text": [
      "/opt/anaconda3/envs/CRP/lib/python3.10/site-packages/tqdm/auto.py:21: TqdmWarning: IProgress not found. Please update jupyter and ipywidgets. See https://ipywidgets.readthedocs.io/en/stable/user_install.html\n",
      "  from .autonotebook import tqdm as notebook_tqdm\n"
     ]
    }
   ],
   "source": [
    "import sys\n",
    "sys.path.append('../../src/')\n",
    "import pandas as pd\n",
    "from pathlib import Path\n",
    "from datetime import datetime\n",
    "import numpy as np\n",
    "import collections as coll\n",
    "from similarity_check.SimilarityCheck import *\n",
    "from synthetic_data_generation.generator import *\n",
    "from utils import *\n",
    "# Import libraries\n",
    "from privacy_check.privacy_check import PrivacyCheck\n",
    "from sdv.sequential.par import PARSynthesizer\n",
    "from sdv.datasets.local import load_csvs\n",
    "from sdv.metadata import SingleTableMetadata"
   ]
  },
  {
   "cell_type": "code",
   "execution_count": 2,
   "metadata": {},
   "outputs": [],
   "source": [
    "datasets = load_csvs(folder_name='./data/')"
   ]
  },
  {
   "cell_type": "code",
   "execution_count": 3,
   "metadata": {},
   "outputs": [],
   "source": [
    "df = datasets[\"energy_dataset\"]\n",
    "df = df[[\"time\", \"generation biomass\", \"generation fossil brown coal/lignite\", \"generation fossil gas\"]]\n",
    "df[\"id\"] = df.index\n",
    "df[\"time\"] = df[\"time\"].apply(lambda x: x[:-6])"
   ]
  },
  {
   "cell_type": "code",
   "execution_count": 4,
   "metadata": {},
   "outputs": [
    {
     "data": {
      "text/html": [
       "<div>\n",
       "<style scoped>\n",
       "    .dataframe tbody tr th:only-of-type {\n",
       "        vertical-align: middle;\n",
       "    }\n",
       "\n",
       "    .dataframe tbody tr th {\n",
       "        vertical-align: top;\n",
       "    }\n",
       "\n",
       "    .dataframe thead th {\n",
       "        text-align: right;\n",
       "    }\n",
       "</style>\n",
       "<table border=\"1\" class=\"dataframe\">\n",
       "  <thead>\n",
       "    <tr style=\"text-align: right;\">\n",
       "      <th></th>\n",
       "      <th>time</th>\n",
       "      <th>generation biomass</th>\n",
       "      <th>generation fossil brown coal/lignite</th>\n",
       "      <th>generation fossil gas</th>\n",
       "      <th>id</th>\n",
       "    </tr>\n",
       "  </thead>\n",
       "  <tbody>\n",
       "    <tr>\n",
       "      <th>0</th>\n",
       "      <td>2015-01-01 00:00:00</td>\n",
       "      <td>447.0</td>\n",
       "      <td>329.0</td>\n",
       "      <td>4844.0</td>\n",
       "      <td>0</td>\n",
       "    </tr>\n",
       "    <tr>\n",
       "      <th>1</th>\n",
       "      <td>2015-01-01 01:00:00</td>\n",
       "      <td>449.0</td>\n",
       "      <td>328.0</td>\n",
       "      <td>5196.0</td>\n",
       "      <td>1</td>\n",
       "    </tr>\n",
       "    <tr>\n",
       "      <th>2</th>\n",
       "      <td>2015-01-01 02:00:00</td>\n",
       "      <td>448.0</td>\n",
       "      <td>323.0</td>\n",
       "      <td>4857.0</td>\n",
       "      <td>2</td>\n",
       "    </tr>\n",
       "    <tr>\n",
       "      <th>3</th>\n",
       "      <td>2015-01-01 03:00:00</td>\n",
       "      <td>438.0</td>\n",
       "      <td>254.0</td>\n",
       "      <td>4314.0</td>\n",
       "      <td>3</td>\n",
       "    </tr>\n",
       "    <tr>\n",
       "      <th>4</th>\n",
       "      <td>2015-01-01 04:00:00</td>\n",
       "      <td>428.0</td>\n",
       "      <td>187.0</td>\n",
       "      <td>4130.0</td>\n",
       "      <td>4</td>\n",
       "    </tr>\n",
       "    <tr>\n",
       "      <th>...</th>\n",
       "      <td>...</td>\n",
       "      <td>...</td>\n",
       "      <td>...</td>\n",
       "      <td>...</td>\n",
       "      <td>...</td>\n",
       "    </tr>\n",
       "    <tr>\n",
       "      <th>35059</th>\n",
       "      <td>2018-12-31 19:00:00</td>\n",
       "      <td>297.0</td>\n",
       "      <td>0.0</td>\n",
       "      <td>7634.0</td>\n",
       "      <td>35059</td>\n",
       "    </tr>\n",
       "    <tr>\n",
       "      <th>35060</th>\n",
       "      <td>2018-12-31 20:00:00</td>\n",
       "      <td>296.0</td>\n",
       "      <td>0.0</td>\n",
       "      <td>7241.0</td>\n",
       "      <td>35060</td>\n",
       "    </tr>\n",
       "    <tr>\n",
       "      <th>35061</th>\n",
       "      <td>2018-12-31 21:00:00</td>\n",
       "      <td>292.0</td>\n",
       "      <td>0.0</td>\n",
       "      <td>7025.0</td>\n",
       "      <td>35061</td>\n",
       "    </tr>\n",
       "    <tr>\n",
       "      <th>35062</th>\n",
       "      <td>2018-12-31 22:00:00</td>\n",
       "      <td>293.0</td>\n",
       "      <td>0.0</td>\n",
       "      <td>6562.0</td>\n",
       "      <td>35062</td>\n",
       "    </tr>\n",
       "    <tr>\n",
       "      <th>35063</th>\n",
       "      <td>2018-12-31 23:00:00</td>\n",
       "      <td>290.0</td>\n",
       "      <td>0.0</td>\n",
       "      <td>6926.0</td>\n",
       "      <td>35063</td>\n",
       "    </tr>\n",
       "  </tbody>\n",
       "</table>\n",
       "<p>35064 rows × 5 columns</p>\n",
       "</div>"
      ],
      "text/plain": [
       "                      time  generation biomass  \\\n",
       "0      2015-01-01 00:00:00               447.0   \n",
       "1      2015-01-01 01:00:00               449.0   \n",
       "2      2015-01-01 02:00:00               448.0   \n",
       "3      2015-01-01 03:00:00               438.0   \n",
       "4      2015-01-01 04:00:00               428.0   \n",
       "...                    ...                 ...   \n",
       "35059  2018-12-31 19:00:00               297.0   \n",
       "35060  2018-12-31 20:00:00               296.0   \n",
       "35061  2018-12-31 21:00:00               292.0   \n",
       "35062  2018-12-31 22:00:00               293.0   \n",
       "35063  2018-12-31 23:00:00               290.0   \n",
       "\n",
       "       generation fossil brown coal/lignite  generation fossil gas     id  \n",
       "0                                     329.0                 4844.0      0  \n",
       "1                                     328.0                 5196.0      1  \n",
       "2                                     323.0                 4857.0      2  \n",
       "3                                     254.0                 4314.0      3  \n",
       "4                                     187.0                 4130.0      4  \n",
       "...                                     ...                    ...    ...  \n",
       "35059                                   0.0                 7634.0  35059  \n",
       "35060                                   0.0                 7241.0  35060  \n",
       "35061                                   0.0                 7025.0  35061  \n",
       "35062                                   0.0                 6562.0  35062  \n",
       "35063                                   0.0                 6926.0  35063  \n",
       "\n",
       "[35064 rows x 5 columns]"
      ]
     },
     "execution_count": 4,
     "metadata": {},
     "output_type": "execute_result"
    }
   ],
   "source": [
    "df"
   ]
  },
  {
   "cell_type": "code",
   "execution_count": 5,
   "metadata": {},
   "outputs": [],
   "source": [
    "metadata = SingleTableMetadata()\n",
    "metadata.detect_from_dataframe(df)\n",
    "metadata.update_column(\n",
    "    \"id\",\n",
    "    sdtype='id',\n",
    ")\n",
    "metadata.set_sequence_key(\"id\")\n",
    "metadata.update_column(\n",
    "    column_name='time',\n",
    "    sdtype='datetime',\n",
    "    datetime_format='%Y-%m-%d %H:%M:%S')\n",
    "metadata.set_sequence_index(column_name='time')"
   ]
  },
  {
   "cell_type": "code",
   "execution_count": 6,
   "metadata": {},
   "outputs": [
    {
     "data": {
      "text/plain": [
       "{\n",
       "    \"columns\": {\n",
       "        \"time\": {\n",
       "            \"sdtype\": \"datetime\",\n",
       "            \"datetime_format\": \"%Y-%m-%d %H:%M:%S\"\n",
       "        },\n",
       "        \"generation biomass\": {\n",
       "            \"sdtype\": \"numerical\"\n",
       "        },\n",
       "        \"generation fossil brown coal/lignite\": {\n",
       "            \"sdtype\": \"numerical\"\n",
       "        },\n",
       "        \"generation fossil gas\": {\n",
       "            \"sdtype\": \"numerical\"\n",
       "        },\n",
       "        \"id\": {\n",
       "            \"sdtype\": \"id\"\n",
       "        }\n",
       "    },\n",
       "    \"sequence_key\": \"id\",\n",
       "    \"sequence_index\": \"time\",\n",
       "    \"METADATA_SPEC_VERSION\": \"SINGLE_TABLE_V1\"\n",
       "}"
      ]
     },
     "execution_count": 6,
     "metadata": {},
     "output_type": "execute_result"
    }
   ],
   "source": [
    "metadata"
   ]
  },
  {
   "attachments": {},
   "cell_type": "markdown",
   "metadata": {},
   "source": [
    "# Possible methods\n",
    "For the generation of synthetic datasets with time series data, we have several methods at our disposal:\n",
    "- PARSynthesizer (```sdv```): Probabilistic AutoRegressive model that allows learning multi-type, multivariate timeseries data and later on generate new synthetic data that has the same format and properties as the learned one.\n",
    "- DGAN (```gretel-synthetics```)"
   ]
  },
  {
   "cell_type": "code",
   "execution_count": 7,
   "metadata": {},
   "outputs": [
    {
     "name": "stderr",
     "output_type": "stream",
     "text": [
      "/opt/anaconda3/envs/CRP/lib/python3.10/site-packages/deepecho/models/par.py:125: RuntimeWarning: Mean of empty slice\n",
      "  'mu': np.nanmean(x[i]),\n",
      "/opt/anaconda3/envs/CRP/lib/python3.10/site-packages/numpy/lib/nanfunctions.py:1872: RuntimeWarning: Degrees of freedom <= 0 for slice.\n",
      "  var = nanvar(a, axis=axis, dtype=dtype, out=out, ddof=ddof,\n",
      "  0%|          | 0/128 [00:10<?, ?it/s]\n"
     ]
    },
    {
     "ename": "KeyboardInterrupt",
     "evalue": "",
     "output_type": "error",
     "traceback": [
      "\u001b[0;31m---------------------------------------------------------------------------\u001b[0m",
      "\u001b[0;31mKeyboardInterrupt\u001b[0m                         Traceback (most recent call last)",
      "Cell \u001b[0;32mIn[7], line 5\u001b[0m\n\u001b[1;32m      2\u001b[0m synthesizer \u001b[39m=\u001b[39m PARSynthesizer(metadata, verbose \u001b[39m=\u001b[39m \u001b[39mTrue\u001b[39;00m)\n\u001b[1;32m      4\u001b[0m \u001b[39m# Step 2: Train the synthesizer\u001b[39;00m\n\u001b[0;32m----> 5\u001b[0m synthesizer\u001b[39m.\u001b[39;49mfit(df)\n\u001b[1;32m      7\u001b[0m \u001b[39m# Step 3: Generate synthetic data\u001b[39;00m\n\u001b[1;32m      8\u001b[0m synthetic_data \u001b[39m=\u001b[39m synthesizer\u001b[39m.\u001b[39msample(num_rows\u001b[39m=\u001b[39m\u001b[39m100\u001b[39m)\n",
      "File \u001b[0;32m/opt/anaconda3/envs/CRP/lib/python3.10/site-packages/sdv/single_table/base.py:469\u001b[0m, in \u001b[0;36mBaseSynthesizer.fit\u001b[0;34m(self, data)\u001b[0m\n\u001b[1;32m    467\u001b[0m \u001b[39mself\u001b[39m\u001b[39m.\u001b[39m_random_state_set \u001b[39m=\u001b[39m \u001b[39mFalse\u001b[39;00m\n\u001b[1;32m    468\u001b[0m processed_data \u001b[39m=\u001b[39m \u001b[39mself\u001b[39m\u001b[39m.\u001b[39m_preprocess(data)\n\u001b[0;32m--> 469\u001b[0m \u001b[39mself\u001b[39;49m\u001b[39m.\u001b[39;49mfit_processed_data(processed_data)\n",
      "File \u001b[0;32m/opt/anaconda3/envs/CRP/lib/python3.10/site-packages/sdv/single_table/base.py:453\u001b[0m, in \u001b[0;36mBaseSynthesizer.fit_processed_data\u001b[0;34m(self, processed_data)\u001b[0m\n\u001b[1;32m    446\u001b[0m \u001b[39mdef\u001b[39;00m \u001b[39mfit_processed_data\u001b[39m(\u001b[39mself\u001b[39m, processed_data):\n\u001b[1;32m    447\u001b[0m     \u001b[39m\"\"\"Fit this model to the transformed data.\u001b[39;00m\n\u001b[1;32m    448\u001b[0m \n\u001b[1;32m    449\u001b[0m \u001b[39m    Args:\u001b[39;00m\n\u001b[1;32m    450\u001b[0m \u001b[39m        processed_data (pandas.DataFrame):\u001b[39;00m\n\u001b[1;32m    451\u001b[0m \u001b[39m            The transformed data used to fit the model to.\u001b[39;00m\n\u001b[1;32m    452\u001b[0m \u001b[39m    \"\"\"\u001b[39;00m\n\u001b[0;32m--> 453\u001b[0m     \u001b[39mself\u001b[39;49m\u001b[39m.\u001b[39;49m_fit(processed_data)\n\u001b[1;32m    454\u001b[0m     \u001b[39mself\u001b[39m\u001b[39m.\u001b[39m_fitted \u001b[39m=\u001b[39m \u001b[39mTrue\u001b[39;00m\n\u001b[1;32m    455\u001b[0m     \u001b[39mself\u001b[39m\u001b[39m.\u001b[39m_fitted_date \u001b[39m=\u001b[39m datetime\u001b[39m.\u001b[39mdatetime\u001b[39m.\u001b[39mtoday()\u001b[39m.\u001b[39mstrftime(\u001b[39m'\u001b[39m\u001b[39m%\u001b[39m\u001b[39mY-\u001b[39m\u001b[39m%\u001b[39m\u001b[39mm-\u001b[39m\u001b[39m%d\u001b[39;00m\u001b[39m'\u001b[39m)\n",
      "File \u001b[0;32m/opt/anaconda3/envs/CRP/lib/python3.10/site-packages/sdv/sequential/par.py:264\u001b[0m, in \u001b[0;36mPARSynthesizer._fit\u001b[0;34m(self, processed_data)\u001b[0m\n\u001b[1;32m    261\u001b[0m     \u001b[39mself\u001b[39m\u001b[39m.\u001b[39m_fit_context_model(processed_data)\n\u001b[1;32m    263\u001b[0m LOGGER\u001b[39m.\u001b[39mdebug(\u001b[39mf\u001b[39m\u001b[39m'\u001b[39m\u001b[39mFitting \u001b[39m\u001b[39m{\u001b[39;00m\u001b[39mself\u001b[39m\u001b[39m.\u001b[39m\u001b[39m__class__\u001b[39m\u001b[39m.\u001b[39m\u001b[39m__name__\u001b[39m\u001b[39m}\u001b[39;00m\u001b[39m model to table\u001b[39m\u001b[39m'\u001b[39m)\n\u001b[0;32m--> 264\u001b[0m \u001b[39mself\u001b[39;49m\u001b[39m.\u001b[39;49m_fit_sequence_columns(processed_data)\n",
      "File \u001b[0;32m/opt/anaconda3/envs/CRP/lib/python3.10/site-packages/sdv/sequential/par.py:250\u001b[0m, in \u001b[0;36mPARSynthesizer._fit_sequence_columns\u001b[0;34m(self, timeseries_data)\u001b[0m\n\u001b[1;32m    247\u001b[0m     data_types\u001b[39m.\u001b[39mappend(\u001b[39m'\u001b[39m\u001b[39mcontinuous\u001b[39m\u001b[39m'\u001b[39m)\n\u001b[1;32m    249\u001b[0m \u001b[39m# Validate and fit\u001b[39;00m\n\u001b[0;32m--> 250\u001b[0m \u001b[39mself\u001b[39;49m\u001b[39m.\u001b[39;49m_model\u001b[39m.\u001b[39;49mfit_sequences(sequences, context_types, data_types)\n",
      "File \u001b[0;32m/opt/anaconda3/envs/CRP/lib/python3.10/site-packages/deepecho/models/par.py:334\u001b[0m, in \u001b[0;36mPARModel.fit_sequences\u001b[0;34m(self, sequences, context_types, data_types)\u001b[0m\n\u001b[1;32m    331\u001b[0m Y_padded, _ \u001b[39m=\u001b[39m torch\u001b[39m.\u001b[39mnn\u001b[39m.\u001b[39mutils\u001b[39m.\u001b[39mrnn\u001b[39m.\u001b[39mpad_packed_sequence(Y)\n\u001b[1;32m    333\u001b[0m optimizer\u001b[39m.\u001b[39mzero_grad()\n\u001b[0;32m--> 334\u001b[0m loss \u001b[39m=\u001b[39m \u001b[39mself\u001b[39;49m\u001b[39m.\u001b[39;49m_compute_loss(X_padded[\u001b[39m1\u001b[39;49m:, :, :], Y_padded[:\u001b[39m-\u001b[39;49m\u001b[39m1\u001b[39;49m, :, :], seq_len)\n\u001b[1;32m    335\u001b[0m loss\u001b[39m.\u001b[39mbackward()\n\u001b[1;32m    336\u001b[0m \u001b[39mif\u001b[39;00m \u001b[39mself\u001b[39m\u001b[39m.\u001b[39mverbose:\n",
      "File \u001b[0;32m/opt/anaconda3/envs/CRP/lib/python3.10/site-packages/deepecho/models/par.py:377\u001b[0m, in \u001b[0;36mPARModel._compute_loss\u001b[0;34m(self, X_padded, Y_padded, seq_len)\u001b[0m\n\u001b[1;32m    375\u001b[0m         p_true \u001b[39m=\u001b[39m X_padded[:seq_len[i], i, missing_idx]\n\u001b[1;32m    376\u001b[0m         p_pred \u001b[39m=\u001b[39m missing[:seq_len[i], i]\n\u001b[0;32m--> 377\u001b[0m         log_likelihood \u001b[39m+\u001b[39m\u001b[39m=\u001b[39m torch\u001b[39m.\u001b[39;49msum(p_true \u001b[39m*\u001b[39;49m p_pred)\n\u001b[1;32m    378\u001b[0m         log_likelihood \u001b[39m+\u001b[39m\u001b[39m=\u001b[39m torch\u001b[39m.\u001b[39msum((\u001b[39m1.0\u001b[39m \u001b[39m-\u001b[39m p_true) \u001b[39m*\u001b[39m torch\u001b[39m.\u001b[39mlog(\n\u001b[1;32m    379\u001b[0m             \u001b[39m1.0\u001b[39m \u001b[39m-\u001b[39m torch\u001b[39m.\u001b[39mexp(p_pred)))\n\u001b[1;32m    381\u001b[0m \u001b[39melif\u001b[39;00m props[\u001b[39m'\u001b[39m\u001b[39mtype\u001b[39m\u001b[39m'\u001b[39m] \u001b[39min\u001b[39;00m [\u001b[39m'\u001b[39m\u001b[39mcount\u001b[39m\u001b[39m'\u001b[39m]:\n",
      "\u001b[0;31mKeyboardInterrupt\u001b[0m: "
     ]
    }
   ],
   "source": [
    "# Step 1: Create the synthesizer\n",
    "synthesizer = PARSynthesizer(metadata, verbose = True)\n",
    "\n",
    "# Step 2: Train the synthesizer\n",
    "synthesizer.fit(df)\n",
    "\n",
    "# Step 3: Generate synthetic data\n",
    "synthetic_data = synthesizer.sample(num_rows=100)"
   ]
  },
  {
   "cell_type": "code",
   "execution_count": null,
   "metadata": {},
   "outputs": [],
   "source": []
  }
 ],
 "metadata": {
  "kernelspec": {
   "display_name": "CRP",
   "language": "python",
   "name": "python3"
  },
  "language_info": {
   "codemirror_mode": {
    "name": "ipython",
    "version": 3
   },
   "file_extension": ".py",
   "mimetype": "text/x-python",
   "name": "python",
   "nbconvert_exporter": "python",
   "pygments_lexer": "ipython3",
   "version": "3.10.9"
  },
  "orig_nbformat": 4,
  "vscode": {
   "interpreter": {
    "hash": "23718b0fc53f510def4b77533949d856a6d39c8aa2ba466fc8a03a72cd48b06e"
   }
  }
 },
 "nbformat": 4,
 "nbformat_minor": 2
}
