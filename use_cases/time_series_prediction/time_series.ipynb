{
 "cells": [
  {
   "cell_type": "code",
   "execution_count": 1,
   "metadata": {},
   "outputs": [
    {
     "name": "stderr",
     "output_type": "stream",
     "text": [
      "/opt/anaconda3/envs/CRP/lib/python3.10/site-packages/tqdm/auto.py:21: TqdmWarning: IProgress not found. Please update jupyter and ipywidgets. See https://ipywidgets.readthedocs.io/en/stable/user_install.html\n",
      "  from .autonotebook import tqdm as notebook_tqdm\n"
     ]
    }
   ],
   "source": [
    "import sys\n",
    "sys.path.append('../../src/')\n",
    "import pandas as pd\n",
    "from pathlib import Path\n",
    "from datetime import datetime\n",
    "import numpy as np\n",
    "import collections as coll\n",
    "from similarity_check.SimilarityCheck import *\n",
    "from synthetic_data_generation.generator import *\n",
    "from utils import *\n",
    "# Import libraries\n",
    "from privacy_check.privacy_check import PrivacyCheck\n",
    "from sdv.sequential.par import PARSynthesizer\n",
    "from sdv.datasets.local import load_csvs\n",
    "from sdv.metadata import SingleTableMetadata"
   ]
  },
  {
   "cell_type": "code",
   "execution_count": 2,
   "metadata": {},
   "outputs": [],
   "source": [
    "datasets = load_csvs(folder_name='./data/')"
   ]
  },
  {
   "cell_type": "code",
   "execution_count": 3,
   "metadata": {},
   "outputs": [],
   "source": [
    "df = datasets[\"energy_dataset\"]\n",
    "df = df[[\"time\", \"generation biomass\", \"generation fossil brown coal/lignite\", \"generation fossil gas\"]]\n",
    "df[\"id\"] = df.index\n",
    "df[\"time\"] = df[\"time\"].apply(lambda x: x[:-6])"
   ]
  },
  {
   "cell_type": "code",
   "execution_count": 4,
   "metadata": {},
   "outputs": [
    {
     "data": {
      "text/html": [
       "<div>\n",
       "<style scoped>\n",
       "    .dataframe tbody tr th:only-of-type {\n",
       "        vertical-align: middle;\n",
       "    }\n",
       "\n",
       "    .dataframe tbody tr th {\n",
       "        vertical-align: top;\n",
       "    }\n",
       "\n",
       "    .dataframe thead th {\n",
       "        text-align: right;\n",
       "    }\n",
       "</style>\n",
       "<table border=\"1\" class=\"dataframe\">\n",
       "  <thead>\n",
       "    <tr style=\"text-align: right;\">\n",
       "      <th></th>\n",
       "      <th>time</th>\n",
       "      <th>generation biomass</th>\n",
       "      <th>generation fossil brown coal/lignite</th>\n",
       "      <th>generation fossil gas</th>\n",
       "      <th>id</th>\n",
       "    </tr>\n",
       "  </thead>\n",
       "  <tbody>\n",
       "    <tr>\n",
       "      <th>0</th>\n",
       "      <td>2015-01-01 00:00:00</td>\n",
       "      <td>447.0</td>\n",
       "      <td>329.0</td>\n",
       "      <td>4844.0</td>\n",
       "      <td>0</td>\n",
       "    </tr>\n",
       "    <tr>\n",
       "      <th>1</th>\n",
       "      <td>2015-01-01 01:00:00</td>\n",
       "      <td>449.0</td>\n",
       "      <td>328.0</td>\n",
       "      <td>5196.0</td>\n",
       "      <td>1</td>\n",
       "    </tr>\n",
       "    <tr>\n",
       "      <th>2</th>\n",
       "      <td>2015-01-01 02:00:00</td>\n",
       "      <td>448.0</td>\n",
       "      <td>323.0</td>\n",
       "      <td>4857.0</td>\n",
       "      <td>2</td>\n",
       "    </tr>\n",
       "    <tr>\n",
       "      <th>3</th>\n",
       "      <td>2015-01-01 03:00:00</td>\n",
       "      <td>438.0</td>\n",
       "      <td>254.0</td>\n",
       "      <td>4314.0</td>\n",
       "      <td>3</td>\n",
       "    </tr>\n",
       "    <tr>\n",
       "      <th>4</th>\n",
       "      <td>2015-01-01 04:00:00</td>\n",
       "      <td>428.0</td>\n",
       "      <td>187.0</td>\n",
       "      <td>4130.0</td>\n",
       "      <td>4</td>\n",
       "    </tr>\n",
       "    <tr>\n",
       "      <th>...</th>\n",
       "      <td>...</td>\n",
       "      <td>...</td>\n",
       "      <td>...</td>\n",
       "      <td>...</td>\n",
       "      <td>...</td>\n",
       "    </tr>\n",
       "    <tr>\n",
       "      <th>35059</th>\n",
       "      <td>2018-12-31 19:00:00</td>\n",
       "      <td>297.0</td>\n",
       "      <td>0.0</td>\n",
       "      <td>7634.0</td>\n",
       "      <td>35059</td>\n",
       "    </tr>\n",
       "    <tr>\n",
       "      <th>35060</th>\n",
       "      <td>2018-12-31 20:00:00</td>\n",
       "      <td>296.0</td>\n",
       "      <td>0.0</td>\n",
       "      <td>7241.0</td>\n",
       "      <td>35060</td>\n",
       "    </tr>\n",
       "    <tr>\n",
       "      <th>35061</th>\n",
       "      <td>2018-12-31 21:00:00</td>\n",
       "      <td>292.0</td>\n",
       "      <td>0.0</td>\n",
       "      <td>7025.0</td>\n",
       "      <td>35061</td>\n",
       "    </tr>\n",
       "    <tr>\n",
       "      <th>35062</th>\n",
       "      <td>2018-12-31 22:00:00</td>\n",
       "      <td>293.0</td>\n",
       "      <td>0.0</td>\n",
       "      <td>6562.0</td>\n",
       "      <td>35062</td>\n",
       "    </tr>\n",
       "    <tr>\n",
       "      <th>35063</th>\n",
       "      <td>2018-12-31 23:00:00</td>\n",
       "      <td>290.0</td>\n",
       "      <td>0.0</td>\n",
       "      <td>6926.0</td>\n",
       "      <td>35063</td>\n",
       "    </tr>\n",
       "  </tbody>\n",
       "</table>\n",
       "<p>35064 rows × 5 columns</p>\n",
       "</div>"
      ],
      "text/plain": [
       "                      time  generation biomass  \\\n",
       "0      2015-01-01 00:00:00               447.0   \n",
       "1      2015-01-01 01:00:00               449.0   \n",
       "2      2015-01-01 02:00:00               448.0   \n",
       "3      2015-01-01 03:00:00               438.0   \n",
       "4      2015-01-01 04:00:00               428.0   \n",
       "...                    ...                 ...   \n",
       "35059  2018-12-31 19:00:00               297.0   \n",
       "35060  2018-12-31 20:00:00               296.0   \n",
       "35061  2018-12-31 21:00:00               292.0   \n",
       "35062  2018-12-31 22:00:00               293.0   \n",
       "35063  2018-12-31 23:00:00               290.0   \n",
       "\n",
       "       generation fossil brown coal/lignite  generation fossil gas     id  \n",
       "0                                     329.0                 4844.0      0  \n",
       "1                                     328.0                 5196.0      1  \n",
       "2                                     323.0                 4857.0      2  \n",
       "3                                     254.0                 4314.0      3  \n",
       "4                                     187.0                 4130.0      4  \n",
       "...                                     ...                    ...    ...  \n",
       "35059                                   0.0                 7634.0  35059  \n",
       "35060                                   0.0                 7241.0  35060  \n",
       "35061                                   0.0                 7025.0  35061  \n",
       "35062                                   0.0                 6562.0  35062  \n",
       "35063                                   0.0                 6926.0  35063  \n",
       "\n",
       "[35064 rows x 5 columns]"
      ]
     },
     "execution_count": 4,
     "metadata": {},
     "output_type": "execute_result"
    }
   ],
   "source": [
    "df"
   ]
  },
  {
   "cell_type": "code",
   "execution_count": 5,
   "metadata": {},
   "outputs": [],
   "source": [
    "metadata = SingleTableMetadata()\n",
    "metadata.detect_from_dataframe(df)\n",
    "metadata.update_column(\n",
    "    \"id\",\n",
    "    sdtype='id',\n",
    ")\n",
    "metadata.set_sequence_key(\"id\")\n",
    "metadata.update_column(\n",
    "    column_name='time',\n",
    "    sdtype='datetime',\n",
    "    datetime_format='%Y-%m-%d %H:%M:%S')\n",
    "metadata.set_sequence_index(column_name='time')"
   ]
  },
  {
   "cell_type": "code",
   "execution_count": 6,
   "metadata": {},
   "outputs": [
    {
     "data": {
      "text/plain": [
       "{\n",
       "    \"sequence_key\": \"id\",\n",
       "    \"columns\": {\n",
       "        \"time\": {\n",
       "            \"sdtype\": \"datetime\",\n",
       "            \"datetime_format\": \"%Y-%m-%d %H:%M:%S\"\n",
       "        },\n",
       "        \"generation biomass\": {\n",
       "            \"sdtype\": \"numerical\"\n",
       "        },\n",
       "        \"generation fossil brown coal/lignite\": {\n",
       "            \"sdtype\": \"numerical\"\n",
       "        },\n",
       "        \"generation fossil gas\": {\n",
       "            \"sdtype\": \"numerical\"\n",
       "        },\n",
       "        \"id\": {\n",
       "            \"sdtype\": \"id\"\n",
       "        }\n",
       "    },\n",
       "    \"sequence_index\": \"time\",\n",
       "    \"METADATA_SPEC_VERSION\": \"SINGLE_TABLE_V1\"\n",
       "}"
      ]
     },
     "execution_count": 6,
     "metadata": {},
     "output_type": "execute_result"
    }
   ],
   "source": [
    "metadata"
   ]
  },
  {
   "attachments": {},
   "cell_type": "markdown",
   "metadata": {},
   "source": [
    "# Possible methods\n",
    "For the generation of synthetic datasets with time series data, we have several methods at our disposal:\n",
    "- PARSynthesizer (```sdv```): Probabilistic AutoRegressive model that allows learning multi-type, multivariate timeseries data and later on generate new synthetic data that has the same format and properties as the learned one.\n",
    "- DGAN (```gretel-synthetics```)"
   ]
  },
  {
   "cell_type": "code",
   "execution_count": 12,
   "metadata": {},
   "outputs": [
    {
     "name": "stderr",
     "output_type": "stream",
     "text": [
      "/opt/anaconda3/envs/CRP/lib/python3.10/site-packages/deepecho/models/par.py:125: RuntimeWarning: Mean of empty slice\n",
      "  'mu': np.nanmean(x[i]),\n",
      "/opt/anaconda3/envs/CRP/lib/python3.10/site-packages/numpy/lib/nanfunctions.py:1872: RuntimeWarning: Degrees of freedom <= 0 for slice.\n",
      "  var = nanvar(a, axis=axis, dtype=dtype, out=out, ddof=ddof,\n",
      "Epoch 2 | Loss 3.215155811631121e-05: 100%|██████████| 2/2 [00:55<00:00, 27.63s/it]\n",
      "  0%|          | 0/10 [00:00<?, ?it/s]\n"
     ]
    },
    {
     "ename": "IndexError",
     "evalue": "list index out of range",
     "output_type": "error",
     "traceback": [
      "\u001b[0;31m---------------------------------------------------------------------------\u001b[0m",
      "\u001b[0;31mIndexError\u001b[0m                                Traceback (most recent call last)",
      "Cell \u001b[0;32mIn[12], line 8\u001b[0m\n\u001b[1;32m      5\u001b[0m synthesizer\u001b[39m.\u001b[39mfit(df)\n\u001b[1;32m      7\u001b[0m \u001b[39m# Step 3: Generate synthetic data\u001b[39;00m\n\u001b[0;32m----> 8\u001b[0m synthetic_data \u001b[39m=\u001b[39m synthesizer\u001b[39m.\u001b[39;49msample(num_sequences\u001b[39m=\u001b[39;49m\u001b[39m10\u001b[39;49m)\n",
      "File \u001b[0;32m/opt/anaconda3/envs/CRP/lib/python3.10/site-packages/sdv/sequential/par.py:349\u001b[0m, in \u001b[0;36mPARSynthesizer.sample\u001b[0;34m(self, num_sequences, sequence_length)\u001b[0m\n\u001b[1;32m    346\u001b[0m     \u001b[39mif\u001b[39;00m column \u001b[39mnot\u001b[39;00m \u001b[39min\u001b[39;00m context_columns:\n\u001b[1;32m    347\u001b[0m         context_columns[column] \u001b[39m=\u001b[39m \u001b[39mrange\u001b[39m(\u001b[39mlen\u001b[39m(context_columns))\n\u001b[0;32m--> 349\u001b[0m \u001b[39mreturn\u001b[39;00m \u001b[39mself\u001b[39;49m\u001b[39m.\u001b[39;49m_sample(context_columns, sequence_length)\n",
      "File \u001b[0;32m/opt/anaconda3/envs/CRP/lib/python3.10/site-packages/sdv/sequential/par.py:318\u001b[0m, in \u001b[0;36mPARSynthesizer._sample\u001b[0;34m(self, context_columns, sequence_length)\u001b[0m\n\u001b[1;32m    317\u001b[0m \u001b[39mdef\u001b[39;00m \u001b[39m_sample\u001b[39m(\u001b[39mself\u001b[39m, context_columns, sequence_length\u001b[39m=\u001b[39m\u001b[39mNone\u001b[39;00m):\n\u001b[0;32m--> 318\u001b[0m     sampled \u001b[39m=\u001b[39m \u001b[39mself\u001b[39;49m\u001b[39m.\u001b[39;49m_sample_from_par(context_columns, sequence_length)\n\u001b[1;32m    319\u001b[0m     \u001b[39mreturn\u001b[39;00m \u001b[39mself\u001b[39m\u001b[39m.\u001b[39m_data_processor\u001b[39m.\u001b[39mreverse_transform(sampled)\n",
      "File \u001b[0;32m/opt/anaconda3/envs/CRP/lib/python3.10/site-packages/sdv/sequential/par.py:299\u001b[0m, in \u001b[0;36mPARSynthesizer._sample_from_par\u001b[0;34m(self, context, sequence_length)\u001b[0m\n\u001b[1;32m    297\u001b[0m     diffs \u001b[39m=\u001b[39m sequence[sequence_index_idx]\n\u001b[1;32m    298\u001b[0m     start \u001b[39m=\u001b[39m sequence\u001b[39m.\u001b[39mpop(\u001b[39m-\u001b[39m\u001b[39m1\u001b[39m)\n\u001b[0;32m--> 299\u001b[0m     sequence[sequence_index_idx] \u001b[39m=\u001b[39m np\u001b[39m.\u001b[39mcumsum(diffs) \u001b[39m-\u001b[39m diffs[\u001b[39m0\u001b[39;49m] \u001b[39m+\u001b[39m start\n\u001b[1;32m    301\u001b[0m \u001b[39m# Reformat as a DataFrame\u001b[39;00m\n\u001b[1;32m    302\u001b[0m sequence_df \u001b[39m=\u001b[39m pd\u001b[39m.\u001b[39mDataFrame(\n\u001b[1;32m    303\u001b[0m     \u001b[39mdict\u001b[39m(\u001b[39mzip\u001b[39m(\u001b[39mself\u001b[39m\u001b[39m.\u001b[39m_data_columns, sequence)),\n\u001b[1;32m    304\u001b[0m     columns\u001b[39m=\u001b[39m\u001b[39mself\u001b[39m\u001b[39m.\u001b[39m_data_columns\n\u001b[1;32m    305\u001b[0m )\n",
      "\u001b[0;31mIndexError\u001b[0m: list index out of range"
     ]
    }
   ],
   "source": [
    "# Step 1: Create the synthesizer\n",
    "synthesizer = PARSynthesizer(metadata, verbose = True, epochs = 2,context_columns=[\"generation biomass\", \"generation fossil brown coal/lignite\", \"generation fossil gas\"])\n",
    "\n",
    "# Step 2: Train the synthesizer\n",
    "synthesizer.fit(df)\n",
    "\n",
    "# Step 3: Generate synthetic data\n",
    "synthetic_data = synthesizer.sample(num_sequences=10)"
   ]
  },
  {
   "cell_type": "code",
   "execution_count": null,
   "metadata": {},
   "outputs": [],
   "source": []
  }
 ],
 "metadata": {
  "kernelspec": {
   "display_name": "CRP",
   "language": "python",
   "name": "python3"
  },
  "language_info": {
   "codemirror_mode": {
    "name": "ipython",
    "version": 3
   },
   "file_extension": ".py",
   "mimetype": "text/x-python",
   "name": "python",
   "nbconvert_exporter": "python",
   "pygments_lexer": "ipython3",
   "version": "3.10.9"
  },
  "orig_nbformat": 4,
  "vscode": {
   "interpreter": {
    "hash": "23718b0fc53f510def4b77533949d856a6d39c8aa2ba466fc8a03a72cd48b06e"
   }
  }
 },
 "nbformat": 4,
 "nbformat_minor": 2
}
