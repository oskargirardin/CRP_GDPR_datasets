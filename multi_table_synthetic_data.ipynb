{
  "nbformat": 4,
  "nbformat_minor": 0,
  "metadata": {
    "colab": {
      "provenance": [],
      "collapsed_sections": [
        "HjinX6jgccL0"
      ],
      "authorship_tag": "ABX9TyMjVwCLnfa950f/FQRpaykC",
      "include_colab_link": true
    },
    "kernelspec": {
      "name": "python3",
      "display_name": "Python 3"
    },
    "language_info": {
      "name": "python"
    }
  },
  "cells": [
    {
      "cell_type": "markdown",
      "metadata": {
        "id": "view-in-github",
        "colab_type": "text"
      },
      "source": [
        "<a href=\"https://colab.research.google.com/github/oskargirardin/CRP_GDPR_datasets/blob/master/multi_table_synthetic_data.ipynb\" target=\"_parent\"><img src=\"https://colab.research.google.com/assets/colab-badge.svg\" alt=\"Open In Colab\"/></a>"
      ]
    },
    {
      "cell_type": "markdown",
      "source": [
        "# Installs"
      ],
      "metadata": {
        "id": "o9ylebrVca87"
      }
    },
    {
      "cell_type": "code",
      "execution_count": null,
      "metadata": {
        "colab": {
          "base_uri": "https://localhost:8080/"
        },
        "id": "gck_VZKpYDfC",
        "outputId": "1e5a849b-83a9-4067-a4b6-1c787bffa55b"
      },
      "outputs": [
        {
          "output_type": "stream",
          "name": "stdout",
          "text": [
            "Looking in indexes: https://pypi.org/simple, https://us-python.pkg.dev/colab-wheels/public/simple/\n",
            "Collecting sdv\n",
            "  Downloading sdv-0.18.0-py2.py3-none-any.whl (103 kB)\n",
            "\u001b[2K     \u001b[90m━━━━━━━━━━━━━━━━━━━━━━━━━━━━━━━━━━━━━━━\u001b[0m \u001b[32m103.2/103.2 KB\u001b[0m \u001b[31m2.3 MB/s\u001b[0m eta \u001b[36m0:00:00\u001b[0m\n",
            "\u001b[?25hCollecting graphviz<1,>=0.13.2\n",
            "  Downloading graphviz-0.20.1-py3-none-any.whl (47 kB)\n",
            "\u001b[2K     \u001b[90m━━━━━━━━━━━━━━━━━━━━━━━━━━━━━━━━━━━━━━━━\u001b[0m \u001b[32m47.0/47.0 KB\u001b[0m \u001b[31m3.2 MB/s\u001b[0m eta \u001b[36m0:00:00\u001b[0m\n",
            "\u001b[?25hRequirement already satisfied: tqdm<5,>=4.15 in /usr/local/lib/python3.8/dist-packages (from sdv) (4.64.1)\n",
            "Collecting sdmetrics<0.10,>=0.9.0\n",
            "  Downloading sdmetrics-0.9.0-py2.py3-none-any.whl (140 kB)\n",
            "\u001b[2K     \u001b[90m━━━━━━━━━━━━━━━━━━━━━━━━━━━━━━━━━━━━━━━\u001b[0m \u001b[32m140.0/140.0 KB\u001b[0m \u001b[31m9.2 MB/s\u001b[0m eta \u001b[36m0:00:00\u001b[0m\n",
            "\u001b[?25hCollecting ctgan<0.8,>=0.7.0\n",
            "  Downloading ctgan-0.7.0-py2.py3-none-any.whl (25 kB)\n",
            "Collecting Faker<15,>=10\n",
            "  Downloading Faker-14.2.1-py3-none-any.whl (1.6 MB)\n",
            "\u001b[2K     \u001b[90m━━━━━━━━━━━━━━━━━━━━━━━━━━━━━━━━━━━━━━━━\u001b[0m \u001b[32m1.6/1.6 MB\u001b[0m \u001b[31m26.7 MB/s\u001b[0m eta \u001b[36m0:00:00\u001b[0m\n",
            "\u001b[?25hCollecting deepecho<0.5,>=0.4.0\n",
            "  Downloading deepecho-0.4.0-py2.py3-none-any.whl (28 kB)\n",
            "Requirement already satisfied: cloudpickle<3.0,>=2.1.0 in /usr/local/lib/python3.8/dist-packages (from sdv) (2.2.1)\n",
            "Collecting rdt<2,>=1.3.0\n",
            "  Downloading rdt-1.3.0-py2.py3-none-any.whl (63 kB)\n",
            "\u001b[2K     \u001b[90m━━━━━━━━━━━━━━━━━━━━━━━━━━━━━━━━━━━━━━━━\u001b[0m \u001b[32m63.6/63.6 KB\u001b[0m \u001b[31m2.7 MB/s\u001b[0m eta \u001b[36m0:00:00\u001b[0m\n",
            "\u001b[?25hRequirement already satisfied: numpy<2,>=1.20.0 in /usr/local/lib/python3.8/dist-packages (from sdv) (1.21.6)\n",
            "Collecting copulas<0.9,>=0.8.0\n",
            "  Downloading copulas-0.8.0-py2.py3-none-any.whl (53 kB)\n",
            "\u001b[2K     \u001b[90m━━━━━━━━━━━━━━━━━━━━━━━━━━━━━━━━━━━━━━━━\u001b[0m \u001b[32m53.6/53.6 KB\u001b[0m \u001b[31m2.5 MB/s\u001b[0m eta \u001b[36m0:00:00\u001b[0m\n",
            "\u001b[?25hRequirement already satisfied: pandas<2,>=1.1.3 in /usr/local/lib/python3.8/dist-packages (from sdv) (1.3.5)\n",
            "Collecting matplotlib<4,>=3.4.0\n",
            "  Downloading matplotlib-3.6.3-cp38-cp38-manylinux_2_12_x86_64.manylinux2010_x86_64.whl (9.4 MB)\n",
            "\u001b[2K     \u001b[90m━━━━━━━━━━━━━━━━━━━━━━━━━━━━━━━━━━━━━━━━\u001b[0m \u001b[32m9.4/9.4 MB\u001b[0m \u001b[31m24.0 MB/s\u001b[0m eta \u001b[36m0:00:00\u001b[0m\n",
            "\u001b[?25hRequirement already satisfied: scipy<2,>=1.5.4 in /usr/local/lib/python3.8/dist-packages (from copulas<0.9,>=0.8.0->sdv) (1.7.3)\n",
            "Requirement already satisfied: torch<2,>=1.8.0 in /usr/local/lib/python3.8/dist-packages (from ctgan<0.8,>=0.7.0->sdv) (1.13.1+cu116)\n",
            "Collecting packaging<22,>=20\n",
            "  Downloading packaging-21.3-py3-none-any.whl (40 kB)\n",
            "\u001b[2K     \u001b[90m━━━━━━━━━━━━━━━━━━━━━━━━━━━━━━━━━━━━━━━━\u001b[0m \u001b[32m40.8/40.8 KB\u001b[0m \u001b[31m1.5 MB/s\u001b[0m eta \u001b[36m0:00:00\u001b[0m\n",
            "\u001b[?25hRequirement already satisfied: python-dateutil>=2.4 in /usr/local/lib/python3.8/dist-packages (from Faker<15,>=10->sdv) (2.8.2)\n",
            "Requirement already satisfied: pytz>=2017.3 in /usr/local/lib/python3.8/dist-packages (from pandas<2,>=1.1.3->sdv) (2022.7.1)\n",
            "Requirement already satisfied: scikit-learn<2,>=0.24 in /usr/local/lib/python3.8/dist-packages (from rdt<2,>=1.3.0->sdv) (1.0.2)\n",
            "Collecting psutil<6,>=5.7\n",
            "  Downloading psutil-5.9.4-cp36-abi3-manylinux_2_12_x86_64.manylinux2010_x86_64.manylinux_2_17_x86_64.manylinux2014_x86_64.whl (280 kB)\n",
            "\u001b[2K     \u001b[90m━━━━━━━━━━━━━━━━━━━━━━━━━━━━━━━━━━━━━━\u001b[0m \u001b[32m280.2/280.2 KB\u001b[0m \u001b[31m10.4 MB/s\u001b[0m eta \u001b[36m0:00:00\u001b[0m\n",
            "\u001b[?25hCollecting plotly<6,>=5.10.0\n",
            "  Downloading plotly-5.13.0-py2.py3-none-any.whl (15.2 MB)\n",
            "\u001b[2K     \u001b[90m━━━━━━━━━━━━━━━━━━━━━━━━━━━━━━━━━━━━━━━━\u001b[0m \u001b[32m15.2/15.2 MB\u001b[0m \u001b[31m45.6 MB/s\u001b[0m eta \u001b[36m0:00:00\u001b[0m\n",
            "\u001b[?25hCollecting fonttools>=4.22.0\n",
            "  Downloading fonttools-4.38.0-py3-none-any.whl (965 kB)\n",
            "\u001b[2K     \u001b[90m━━━━━━━━━━━━━━━━━━━━━━━━━━━━━━━━━━━━━━\u001b[0m \u001b[32m965.4/965.4 KB\u001b[0m \u001b[31m24.7 MB/s\u001b[0m eta \u001b[36m0:00:00\u001b[0m\n",
            "\u001b[?25hRequirement already satisfied: pillow>=6.2.0 in /usr/local/lib/python3.8/dist-packages (from matplotlib<4,>=3.4.0->copulas<0.9,>=0.8.0->sdv) (7.1.2)\n",
            "Requirement already satisfied: cycler>=0.10 in /usr/local/lib/python3.8/dist-packages (from matplotlib<4,>=3.4.0->copulas<0.9,>=0.8.0->sdv) (0.11.0)\n",
            "Requirement already satisfied: kiwisolver>=1.0.1 in /usr/local/lib/python3.8/dist-packages (from matplotlib<4,>=3.4.0->copulas<0.9,>=0.8.0->sdv) (1.4.4)\n",
            "Collecting contourpy>=1.0.1\n",
            "  Downloading contourpy-1.0.7-cp38-cp38-manylinux_2_17_x86_64.manylinux2014_x86_64.whl (300 kB)\n",
            "\u001b[2K     \u001b[90m━━━━━━━━━━━━━━━━━━━━━━━━━━━━━━━━━━━━━━\u001b[0m \u001b[32m300.0/300.0 KB\u001b[0m \u001b[31m20.0 MB/s\u001b[0m eta \u001b[36m0:00:00\u001b[0m\n",
            "\u001b[?25hRequirement already satisfied: pyparsing>=2.2.1 in /usr/local/lib/python3.8/dist-packages (from matplotlib<4,>=3.4.0->copulas<0.9,>=0.8.0->sdv) (3.0.9)\n",
            "Requirement already satisfied: tenacity>=6.2.0 in /usr/local/lib/python3.8/dist-packages (from plotly<6,>=5.10.0->sdmetrics<0.10,>=0.9.0->sdv) (8.1.0)\n",
            "Requirement already satisfied: six>=1.5 in /usr/local/lib/python3.8/dist-packages (from python-dateutil>=2.4->Faker<15,>=10->sdv) (1.15.0)\n",
            "Requirement already satisfied: threadpoolctl>=2.0.0 in /usr/local/lib/python3.8/dist-packages (from scikit-learn<2,>=0.24->rdt<2,>=1.3.0->sdv) (3.1.0)\n",
            "Requirement already satisfied: joblib>=0.11 in /usr/local/lib/python3.8/dist-packages (from scikit-learn<2,>=0.24->rdt<2,>=1.3.0->sdv) (1.2.0)\n",
            "Requirement already satisfied: typing-extensions in /usr/local/lib/python3.8/dist-packages (from torch<2,>=1.8.0->ctgan<0.8,>=0.7.0->sdv) (4.4.0)\n",
            "Installing collected packages: psutil, plotly, packaging, graphviz, fonttools, contourpy, matplotlib, Faker, rdt, deepecho, copulas, sdmetrics, ctgan, sdv\n",
            "  Attempting uninstall: psutil\n",
            "    Found existing installation: psutil 5.4.8\n",
            "    Uninstalling psutil-5.4.8:\n",
            "      Successfully uninstalled psutil-5.4.8\n",
            "  Attempting uninstall: plotly\n",
            "    Found existing installation: plotly 5.5.0\n",
            "    Uninstalling plotly-5.5.0:\n",
            "      Successfully uninstalled plotly-5.5.0\n",
            "  Attempting uninstall: packaging\n",
            "    Found existing installation: packaging 23.0\n",
            "    Uninstalling packaging-23.0:\n",
            "      Successfully uninstalled packaging-23.0\n",
            "  Attempting uninstall: graphviz\n",
            "    Found existing installation: graphviz 0.10.1\n",
            "    Uninstalling graphviz-0.10.1:\n",
            "      Successfully uninstalled graphviz-0.10.1\n",
            "  Attempting uninstall: matplotlib\n",
            "    Found existing installation: matplotlib 3.2.2\n",
            "    Uninstalling matplotlib-3.2.2:\n",
            "      Successfully uninstalled matplotlib-3.2.2\n",
            "Successfully installed Faker-14.2.1 contourpy-1.0.7 copulas-0.8.0 ctgan-0.7.0 deepecho-0.4.0 fonttools-4.38.0 graphviz-0.20.1 matplotlib-3.6.3 packaging-21.3 plotly-5.13.0 psutil-5.9.4 rdt-1.3.0 sdmetrics-0.9.0 sdv-0.18.0\n"
          ]
        },
        {
          "output_type": "display_data",
          "data": {
            "application/vnd.colab-display-data+json": {
              "pip_warning": {
                "packages": [
                  "matplotlib",
                  "mpl_toolkits",
                  "psutil"
                ]
              }
            }
          },
          "metadata": {}
        }
      ],
      "source": [
        "!pip install sdv\n"
      ]
    },
    {
      "cell_type": "markdown",
      "source": [
        "# Getting the data"
      ],
      "metadata": {
        "id": "DUII2jmxchBL"
      }
    },
    {
      "cell_type": "code",
      "source": [
        "from sdv import load_demo\n",
        "\n",
        "metadata, tables = load_demo(metadata=True)"
      ],
      "metadata": {
        "id": "jHdPvc8hYGae"
      },
      "execution_count": null,
      "outputs": []
    },
    {
      "cell_type": "code",
      "source": [
        "metadata"
      ],
      "metadata": {
        "colab": {
          "base_uri": "https://localhost:8080/"
        },
        "id": "MRbxVwfDZ_FI",
        "outputId": "9781845b-16fd-4dae-fa65-a668b5bd5e9e"
      },
      "execution_count": null,
      "outputs": [
        {
          "output_type": "execute_result",
          "data": {
            "text/plain": [
              "Metadata\n",
              "  root_path: .\n",
              "  tables: ['users', 'sessions', 'transactions']\n",
              "  relationships:\n",
              "    sessions.user_id -> users.user_id\n",
              "    transactions.session_id -> sessions.session_id"
            ]
          },
          "metadata": {},
          "execution_count": 3
        }
      ]
    },
    {
      "cell_type": "markdown",
      "source": [
        "\n",
        "\n",
        "*   there are three tables: users, sessions, and transactions\n",
        "*   sessions.user_id is the **foreign key,** users.user_id is the primary key\n",
        "\n"
      ],
      "metadata": {
        "id": "lEnMx4WVaBu3"
      }
    },
    {
      "cell_type": "code",
      "source": [
        "print(type(tables))"
      ],
      "metadata": {
        "colab": {
          "base_uri": "https://localhost:8080/"
        },
        "id": "6OOtvWDcGCPM",
        "outputId": "201fd2e4-3e9c-4bf9-ca50-5f0d4a23e9ed"
      },
      "execution_count": null,
      "outputs": [
        {
          "output_type": "stream",
          "name": "stdout",
          "text": [
            "<class 'dict'>\n"
          ]
        }
      ]
    },
    {
      "cell_type": "code",
      "source": [
        "metadata.visualize()"
      ],
      "metadata": {
        "colab": {
          "base_uri": "https://localhost:8080/",
          "height": 708
        },
        "id": "RoZgbscma2bt",
        "outputId": "c8bde33e-1303-4c50-89f5-e7cad31d719c"
      },
      "execution_count": null,
      "outputs": [
        {
          "output_type": "execute_result",
          "data": {
            "image/svg+xml": "<?xml version=\"1.0\" encoding=\"UTF-8\" standalone=\"no\"?>\n<!DOCTYPE svg PUBLIC \"-//W3C//DTD SVG 1.1//EN\"\n \"http://www.w3.org/Graphics/SVG/1.1/DTD/svg11.dtd\">\n<!-- Generated by graphviz version 2.43.0 (0)\n -->\n<!-- Title: Metadata Pages: 1 -->\n<svg width=\"366pt\" height=\"515pt\"\n viewBox=\"0.00 0.00 365.50 515.00\" xmlns=\"http://www.w3.org/2000/svg\" xmlns:xlink=\"http://www.w3.org/1999/xlink\">\n<g id=\"graph0\" class=\"graph\" transform=\"scale(1 1) rotate(0) translate(4 511)\">\n<title>Metadata</title>\n<polygon fill=\"white\" stroke=\"transparent\" points=\"-4,4 -4,-511 361.5,-511 361.5,4 -4,4\"/>\n<!-- users -->\n<g id=\"node1\" class=\"node\">\n<title>users</title>\n<path fill=\"#ffec8b\" stroke=\"black\" d=\"M38,-392.5C38,-392.5 165,-392.5 165,-392.5 171,-392.5 177,-398.5 177,-404.5 177,-404.5 177,-494.5 177,-494.5 177,-500.5 171,-506.5 165,-506.5 165,-506.5 38,-506.5 38,-506.5 32,-506.5 26,-500.5 26,-494.5 26,-494.5 26,-404.5 26,-404.5 26,-398.5 32,-392.5 38,-392.5\"/>\n<text text-anchor=\"middle\" x=\"101.5\" y=\"-491.3\" font-family=\"Times,serif\" font-size=\"14.00\">users</text>\n<polyline fill=\"none\" stroke=\"black\" points=\"26,-483.5 177,-483.5 \"/>\n<text text-anchor=\"start\" x=\"34\" y=\"-468.3\" font-family=\"Times,serif\" font-size=\"14.00\">user_id : id &#45; integer</text>\n<text text-anchor=\"start\" x=\"34\" y=\"-453.3\" font-family=\"Times,serif\" font-size=\"14.00\">country : categorical</text>\n<text text-anchor=\"start\" x=\"34\" y=\"-438.3\" font-family=\"Times,serif\" font-size=\"14.00\">gender : categorical</text>\n<text text-anchor=\"start\" x=\"34\" y=\"-423.3\" font-family=\"Times,serif\" font-size=\"14.00\">age : numerical &#45; integer</text>\n<polyline fill=\"none\" stroke=\"black\" points=\"26,-415.5 177,-415.5 \"/>\n<text text-anchor=\"start\" x=\"34\" y=\"-400.3\" font-family=\"Times,serif\" font-size=\"14.00\">Primary key: user_id</text>\n</g>\n<!-- sessions -->\n<g id=\"node2\" class=\"node\">\n<title>sessions</title>\n<path fill=\"#ffec8b\" stroke=\"black\" d=\"M25.5,-196.5C25.5,-196.5 177.5,-196.5 177.5,-196.5 183.5,-196.5 189.5,-202.5 189.5,-208.5 189.5,-208.5 189.5,-328.5 189.5,-328.5 189.5,-334.5 183.5,-340.5 177.5,-340.5 177.5,-340.5 25.5,-340.5 25.5,-340.5 19.5,-340.5 13.5,-334.5 13.5,-328.5 13.5,-328.5 13.5,-208.5 13.5,-208.5 13.5,-202.5 19.5,-196.5 25.5,-196.5\"/>\n<text text-anchor=\"middle\" x=\"101.5\" y=\"-325.3\" font-family=\"Times,serif\" font-size=\"14.00\">sessions</text>\n<polyline fill=\"none\" stroke=\"black\" points=\"13.5,-317.5 189.5,-317.5 \"/>\n<text text-anchor=\"start\" x=\"21.5\" y=\"-302.3\" font-family=\"Times,serif\" font-size=\"14.00\">session_id : id &#45; integer</text>\n<text text-anchor=\"start\" x=\"21.5\" y=\"-287.3\" font-family=\"Times,serif\" font-size=\"14.00\">user_id : id &#45; integer</text>\n<text text-anchor=\"start\" x=\"21.5\" y=\"-272.3\" font-family=\"Times,serif\" font-size=\"14.00\">device : categorical</text>\n<text text-anchor=\"start\" x=\"21.5\" y=\"-257.3\" font-family=\"Times,serif\" font-size=\"14.00\">os : categorical</text>\n<text text-anchor=\"start\" x=\"21.5\" y=\"-242.3\" font-family=\"Times,serif\" font-size=\"14.00\">minutes : numerical &#45; integer</text>\n<polyline fill=\"none\" stroke=\"black\" points=\"13.5,-234.5 189.5,-234.5 \"/>\n<text text-anchor=\"start\" x=\"21.5\" y=\"-219.3\" font-family=\"Times,serif\" font-size=\"14.00\">Primary key: session_id</text>\n<text text-anchor=\"start\" x=\"21.5\" y=\"-204.3\" font-family=\"Times,serif\" font-size=\"14.00\">Foreign key (users): user_id</text>\n</g>\n<!-- users&#45;&gt;sessions -->\n<g id=\"edge1\" class=\"edge\">\n<title>users&#45;&gt;sessions</title>\n<path fill=\"none\" stroke=\"black\" d=\"M101.5,-392.35C101.5,-379.15 101.5,-364.82 101.5,-350.77\"/>\n<polygon fill=\"none\" stroke=\"black\" points=\"105,-340.6 101.5,-350.6 98,-340.6 105,-340.6\"/>\n<text text-anchor=\"middle\" x=\"195\" y=\"-362.8\" font-family=\"Times,serif\" font-size=\"14.00\"> &#160;&#160;sessions.user_id &gt; users.user_id</text>\n</g>\n<!-- transactions -->\n<g id=\"node3\" class=\"node\">\n<title>transactions</title>\n<path fill=\"#ffec8b\" stroke=\"black\" d=\"M12,-0.5C12,-0.5 191,-0.5 191,-0.5 197,-0.5 203,-6.5 203,-12.5 203,-12.5 203,-132.5 203,-132.5 203,-138.5 197,-144.5 191,-144.5 191,-144.5 12,-144.5 12,-144.5 6,-144.5 0,-138.5 0,-132.5 0,-132.5 0,-12.5 0,-12.5 0,-6.5 6,-0.5 12,-0.5\"/>\n<text text-anchor=\"middle\" x=\"101.5\" y=\"-129.3\" font-family=\"Times,serif\" font-size=\"14.00\">transactions</text>\n<polyline fill=\"none\" stroke=\"black\" points=\"0,-121.5 203,-121.5 \"/>\n<text text-anchor=\"start\" x=\"8\" y=\"-106.3\" font-family=\"Times,serif\" font-size=\"14.00\">transaction_id : id &#45; integer</text>\n<text text-anchor=\"start\" x=\"8\" y=\"-91.3\" font-family=\"Times,serif\" font-size=\"14.00\">session_id : id &#45; integer</text>\n<text text-anchor=\"start\" x=\"8\" y=\"-76.3\" font-family=\"Times,serif\" font-size=\"14.00\">timestamp : datetime</text>\n<text text-anchor=\"start\" x=\"8\" y=\"-61.3\" font-family=\"Times,serif\" font-size=\"14.00\">amount : numerical &#45; float</text>\n<text text-anchor=\"start\" x=\"8\" y=\"-46.3\" font-family=\"Times,serif\" font-size=\"14.00\">cancelled : boolean</text>\n<polyline fill=\"none\" stroke=\"black\" points=\"0,-38.5 203,-38.5 \"/>\n<text text-anchor=\"start\" x=\"8\" y=\"-23.3\" font-family=\"Times,serif\" font-size=\"14.00\">Primary key: transaction_id</text>\n<text text-anchor=\"start\" x=\"8\" y=\"-8.3\" font-family=\"Times,serif\" font-size=\"14.00\">Foreign key (sessions): session_id</text>\n</g>\n<!-- sessions&#45;&gt;transactions -->\n<g id=\"edge2\" class=\"edge\">\n<title>sessions&#45;&gt;transactions</title>\n<path fill=\"none\" stroke=\"black\" d=\"M101.5,-196.36C101.5,-182.92 101.5,-168.76 101.5,-155.03\"/>\n<polygon fill=\"none\" stroke=\"black\" points=\"105,-144.63 101.5,-154.63 98,-144.63 105,-144.63\"/>\n<text text-anchor=\"middle\" x=\"229.5\" y=\"-166.8\" font-family=\"Times,serif\" font-size=\"14.00\"> &#160;&#160;transactions.session_id &gt; sessions.session_id</text>\n</g>\n</g>\n</svg>\n",
            "text/plain": [
              "<graphviz.graphs.Digraph at 0x7fe52e648ee0>"
            ]
          },
          "metadata": {},
          "execution_count": 4
        }
      ]
    },
    {
      "cell_type": "markdown",
      "source": [
        "To work with more complex data **you must pass additional information about your data to SVD using Metadata**. In SDV, the structure of a dataset is represented using the class sdv.Metadata, which contains all the information that SDV needs in order to optimally learn the dataset and generate synthetic versions of it. \n",
        "\n"
      ],
      "metadata": {
        "id": "JRnN5uz_cGsN"
      }
    },
    {
      "cell_type": "markdown",
      "source": [
        "# Building your own metadata"
      ],
      "metadata": {
        "id": "HjinX6jgccL0"
      }
    },
    {
      "cell_type": "markdown",
      "source": [
        "\n",
        "1.   First you import the class and create and empty instance\n",
        "2.   Add parent table + specify primary key\n",
        "3. Add childen table sessions, one by one\n",
        "4. (Optional) add a table and specify field properties\n",
        "\n",
        "\n",
        "\n"
      ],
      "metadata": {
        "id": "8n5LjDq4dUZz"
      }
    },
    {
      "cell_type": "code",
      "source": [
        "#1 import the class and create and empty instance\n",
        "\n",
        "from sdv import Metadata\n",
        "\n",
        "metadata = Metadata()\n",
        "\n",
        "metadata"
      ],
      "metadata": {
        "id": "ShTAQTFucyh2",
        "colab": {
          "base_uri": "https://localhost:8080/"
        },
        "outputId": "8a4b4437-3ce7-4ee1-c00f-7cd98f36135c"
      },
      "execution_count": null,
      "outputs": [
        {
          "output_type": "execute_result",
          "data": {
            "text/plain": [
              "Metadata\n",
              "  root_path: .\n",
              "  tables: []\n",
              "  relationships:"
            ]
          },
          "metadata": {},
          "execution_count": 5
        }
      ]
    },
    {
      "cell_type": "code",
      "source": [
        "# 2 parent table\n",
        "metadata.add_table(name='users',\n",
        "                   data=tables['users'],\n",
        "                   primary_key='user_id')\n",
        "\n",
        "metadata.visualize()"
      ],
      "metadata": {
        "id": "VlDFGGTSff1U",
        "colab": {
          "base_uri": "https://localhost:8080/",
          "height": 185
        },
        "outputId": "01b2e964-4a48-43fc-a98d-985309e5586d"
      },
      "execution_count": null,
      "outputs": [
        {
          "output_type": "execute_result",
          "data": {
            "image/svg+xml": "<?xml version=\"1.0\" encoding=\"UTF-8\" standalone=\"no\"?>\n<!DOCTYPE svg PUBLIC \"-//W3C//DTD SVG 1.1//EN\"\n \"http://www.w3.org/Graphics/SVG/1.1/DTD/svg11.dtd\">\n<!-- Generated by graphviz version 2.43.0 (0)\n -->\n<!-- Title: Metadata Pages: 1 -->\n<svg width=\"159pt\" height=\"123pt\"\n viewBox=\"0.00 0.00 159.00 123.00\" xmlns=\"http://www.w3.org/2000/svg\" xmlns:xlink=\"http://www.w3.org/1999/xlink\">\n<g id=\"graph0\" class=\"graph\" transform=\"scale(1 1) rotate(0) translate(4 119)\">\n<title>Metadata</title>\n<polygon fill=\"white\" stroke=\"transparent\" points=\"-4,4 -4,-119 155,-119 155,4 -4,4\"/>\n<!-- users -->\n<g id=\"node1\" class=\"node\">\n<title>users</title>\n<path fill=\"#ffec8b\" stroke=\"black\" d=\"M12,-0.5C12,-0.5 139,-0.5 139,-0.5 145,-0.5 151,-6.5 151,-12.5 151,-12.5 151,-102.5 151,-102.5 151,-108.5 145,-114.5 139,-114.5 139,-114.5 12,-114.5 12,-114.5 6,-114.5 0,-108.5 0,-102.5 0,-102.5 0,-12.5 0,-12.5 0,-6.5 6,-0.5 12,-0.5\"/>\n<text text-anchor=\"middle\" x=\"75.5\" y=\"-99.3\" font-family=\"Times,serif\" font-size=\"14.00\">users</text>\n<polyline fill=\"none\" stroke=\"black\" points=\"0,-91.5 151,-91.5 \"/>\n<text text-anchor=\"start\" x=\"8\" y=\"-76.3\" font-family=\"Times,serif\" font-size=\"14.00\">user_id : id &#45; integer</text>\n<text text-anchor=\"start\" x=\"8\" y=\"-61.3\" font-family=\"Times,serif\" font-size=\"14.00\">country : categorical</text>\n<text text-anchor=\"start\" x=\"8\" y=\"-46.3\" font-family=\"Times,serif\" font-size=\"14.00\">gender : categorical</text>\n<text text-anchor=\"start\" x=\"8\" y=\"-31.3\" font-family=\"Times,serif\" font-size=\"14.00\">age : numerical &#45; integer</text>\n<polyline fill=\"none\" stroke=\"black\" points=\"0,-23.5 151,-23.5 \"/>\n<text text-anchor=\"start\" x=\"8\" y=\"-8.3\" font-family=\"Times,serif\" font-size=\"14.00\">Primary key: user_id</text>\n</g>\n</g>\n</svg>\n",
            "text/plain": [
              "<graphviz.graphs.Digraph at 0x7fe52e648ca0>"
            ]
          },
          "metadata": {},
          "execution_count": 6
        }
      ]
    },
    {
      "cell_type": "code",
      "source": [
        "# 3 add child table\n",
        "\n",
        "metadata.add_table(\n",
        "   name='sessions',\n",
        "   data=tables['sessions'],\n",
        "   primary_key='session_id',\n",
        "   parent='users',\n",
        "   foreign_key='user_id')"
      ],
      "metadata": {
        "id": "7iC2vTtDfuM7"
      },
      "execution_count": null,
      "outputs": []
    },
    {
      "cell_type": "code",
      "source": [
        "# specify table properties \n",
        "\n",
        "transactions_fields = {'timestamp': {\n",
        "   'type': 'datetime',\n",
        "   'format': '%Y-%m-%d'\n",
        "        }\n",
        "   }\n",
        "\n",
        "metadata.add_table(\n",
        "    name='transactions',\n",
        "    data=tables['transactions'],\n",
        "    fields_metadata=transactions_fields,\n",
        "    primary_key='transaction_id',\n",
        "    parent='sessions'\n",
        ")\n"
      ],
      "metadata": {
        "id": "tnFR1cKVf348"
      },
      "execution_count": null,
      "outputs": []
    },
    {
      "cell_type": "markdown",
      "source": [
        "# Fit the data\n",
        "\n"
      ],
      "metadata": {
        "id": "OzZeJZeBhDQq"
      }
    },
    {
      "cell_type": "code",
      "source": [
        "from sdv import SDV\n",
        "sdv = SDV()\n",
        "sdv.fit(metadata, tables)\n"
      ],
      "metadata": {
        "colab": {
          "base_uri": "https://localhost:8080/"
        },
        "id": "7gxuX_rZhMcF",
        "outputId": "f645b7e9-b0d6-41d6-9415-83290ec4e3c9"
      },
      "execution_count": null,
      "outputs": [
        {
          "output_type": "stream",
          "name": "stderr",
          "text": [
            "/usr/local/lib/python3.8/dist-packages/rdt/transformers/numerical.py:100: UserWarning: No rounding scheme detected for column '__sessions__user_id__univariates__device__loc'. Data will not be rounded.\n",
            "  warnings.warn(\n",
            "/usr/local/lib/python3.8/dist-packages/rdt/transformers/numerical.py:100: UserWarning: No rounding scheme detected for column '__sessions__user_id__univariates__os__loc'. Data will not be rounded.\n",
            "  warnings.warn(\n"
          ]
        }
      ]
    },
    {
      "cell_type": "code",
      "source": [
        "sampled = sdv.sample_all(100)"
      ],
      "metadata": {
        "colab": {
          "base_uri": "https://localhost:8080/"
        },
        "id": "oNDnQESHiWWy",
        "outputId": "c51324fb-2c81-40cd-a592-49ec3b042c4b"
      },
      "execution_count": null,
      "outputs": [
        {
          "output_type": "stream",
          "name": "stderr",
          "text": [
            "/usr/local/lib/python3.8/dist-packages/sdv/relational/hma.py:371: SettingWithCopyWarning: \n",
            "A value is trying to be set on a copy of a slice from a DataFrame.\n",
            "Try using .loc[row_indexer,col_indexer] = value instead\n",
            "\n",
            "See the caveats in the documentation: https://pandas.pydata.org/pandas-docs/stable/user_guide/indexing.html#returning-a-view-versus-a-copy\n",
            "  sampled[primary_key_name] = primary_key_values\n",
            "/usr/local/lib/python3.8/dist-packages/sdv/relational/hma.py:400: SettingWithCopyWarning: \n",
            "A value is trying to be set on a copy of a slice from a DataFrame.\n",
            "Try using .loc[row_indexer,col_indexer] = value instead\n",
            "\n",
            "See the caveats in the documentation: https://pandas.pydata.org/pandas-docs/stable/user_guide/indexing.html#returning-a-view-versus-a-copy\n",
            "  table_rows[foreign_key] = parent_row[parent_key]\n"
          ]
        }
      ]
    },
    {
      "cell_type": "markdown",
      "source": [
        "Sample_all is the method to start generating multiple rows, please note that only the parent tables of the dataset will have the specified number of rows, as the number of child rows that each row in the parent table has is also sampled following the original distribution of your dataset."
      ],
      "metadata": {
        "id": "eFQbXpUEixhZ"
      }
    },
    {
      "cell_type": "code",
      "source": [
        "print(sampled)"
      ],
      "metadata": {
        "colab": {
          "base_uri": "https://localhost:8080/"
        },
        "id": "Dm-rl-qNir-g",
        "outputId": "1c0f1207-3e54-4628-ee12-3c64a6613c86"
      },
      "execution_count": null,
      "outputs": [
        {
          "output_type": "stream",
          "name": "stdout",
          "text": [
            "{'users':     user_id country gender  age\n",
            "0         0      US      F   33\n",
            "1         1      US      F   25\n",
            "2         2      DE      F   39\n",
            "3         3      ES      M   43\n",
            "4         4      US    NaN   38\n",
            "..      ...     ...    ...  ...\n",
            "95       95      UK      F   24\n",
            "96       96      ES      M   57\n",
            "97       97      DE      M   37\n",
            "98       98      US      F   28\n",
            "99       99      FR      F   50\n",
            "\n",
            "[100 rows x 4 columns], 'sessions':     session_id  user_id  device       os  minutes\n",
            "0            0        0  tablet      ios       28\n",
            "1            1        1  tablet  android       19\n",
            "2            2        2  mobile      ios       26\n",
            "3            3        3  mobile  android       29\n",
            "4            4        4  tablet      ios       22\n",
            "..         ...      ...     ...      ...      ...\n",
            "95          95       95  tablet      ios       18\n",
            "96          96       96  mobile      ios       11\n",
            "97          97       97  tablet      ios       24\n",
            "98          98       98  tablet      ios       25\n",
            "99          99       99  mobile  android       24\n",
            "\n",
            "[100 rows x 5 columns], 'transactions':              timestamp  transaction_id  session_id  amount  cancelled\n",
            "0  2019-01-14 14:40:58               0           0    55.3      False\n",
            "1  2019-01-01 12:34:32               1           1    55.3      False\n",
            "2  2019-01-24 09:52:51               2           2    89.0      False\n",
            "3  2019-01-12 20:08:52               3           3    85.5      False\n",
            "4  2019-01-28 05:42:23               4           4   132.1      False\n",
            "..                 ...             ...         ...     ...        ...\n",
            "95 2019-01-14 11:58:17              95          95    81.3      False\n",
            "96 2019-01-18 15:02:44              96          96   123.0       True\n",
            "97 2019-01-13 22:33:02              97          97    63.4      False\n",
            "98 2019-01-29 12:10:48              98          98    72.3      False\n",
            "99 2019-01-15 13:26:46              99          99    57.7      False\n",
            "\n",
            "[100 rows x 5 columns]}\n"
          ]
        }
      ]
    },
    {
      "cell_type": "markdown",
      "source": [
        "The data above is synthetic data. Afterwards we'd most likely share that data with some ML team that will perform/build a tool with it. \n",
        "\n",
        "To share the data with some other team, we use the save() method. This will generate a pkl file that does not include any of the data in it. To use this file, we must use the SDV.load() method, which samples from the new synthetic data."
      ],
      "metadata": {
        "id": "u-2_tYG6jcXB"
      }
    },
    {
      "cell_type": "code",
      "source": [],
      "metadata": {
        "id": "mi2Wuq_iZdhT"
      },
      "execution_count": null,
      "outputs": []
    },
    {
      "cell_type": "markdown",
      "source": [
        "# Saving the model \n"
      ],
      "metadata": {
        "id": "4NzXSKIMjJjR"
      }
    },
    {
      "cell_type": "code",
      "source": [
        "sdv.save('sdv.pkl')"
      ],
      "metadata": {
        "id": "leqs4Zt1j5IQ"
      },
      "execution_count": null,
      "outputs": []
    },
    {
      "cell_type": "code",
      "source": [
        "sdv.load('sdv.pkl')"
      ],
      "metadata": {
        "colab": {
          "base_uri": "https://localhost:8080/"
        },
        "id": "blVHUhgiFIuf",
        "outputId": "a32d67dc-b089-4c6e-9a97-b16bf22579cb"
      },
      "execution_count": null,
      "outputs": [
        {
          "output_type": "execute_result",
          "data": {
            "text/plain": [
              "<sdv.sdv.SDV at 0x7fe52e506670>"
            ]
          },
          "metadata": {},
          "execution_count": 14
        }
      ]
    },
    {
      "cell_type": "code",
      "source": [
        "sampled = sdv.sample_all(5)"
      ],
      "metadata": {
        "id": "JZno51mvkXu5"
      },
      "execution_count": null,
      "outputs": []
    },
    {
      "cell_type": "code",
      "source": [
        "print(sampled)"
      ],
      "metadata": {
        "colab": {
          "base_uri": "https://localhost:8080/"
        },
        "id": "Vgt8QwQKFMo0",
        "outputId": "461edd7c-bd83-401b-df2e-c8df690f043d"
      },
      "execution_count": null,
      "outputs": [
        {
          "output_type": "stream",
          "name": "stdout",
          "text": [
            "{'users':    user_id country gender  age\n",
            "0      105      UK    NaN   38\n",
            "1      106      UK      M   37\n",
            "2      107      ES    NaN   46\n",
            "3      108      UK      M   24\n",
            "4      109      US      F   22, 'sessions':    session_id  user_id  device       os  minutes\n",
            "0         105      105  tablet  android       23\n",
            "1         106      106  tablet      ios       23\n",
            "2         107      107  tablet  android       24\n",
            "3         108      108  mobile      ios       25\n",
            "4         109      109  tablet      ios       14, 'transactions':             timestamp  transaction_id  session_id  amount  cancelled\n",
            "0 2019-01-06 05:07:24             105         105   109.6      False\n",
            "1 2019-01-08 14:09:47             106         106    81.0      False\n",
            "2 2019-01-16 19:09:14             107         107    79.7      False\n",
            "3 2019-01-12 16:27:15             108         108   116.5       True\n",
            "4 2019-01-22 01:58:37             109         109    73.5      False}\n"
          ]
        }
      ]
    }
  ]
}