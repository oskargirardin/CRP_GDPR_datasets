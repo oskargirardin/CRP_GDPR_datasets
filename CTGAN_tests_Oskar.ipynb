{
  "nbformat": 4,
  "nbformat_minor": 0,
  "metadata": {
    "colab": {
      "provenance": [],
      "authorship_tag": "ABX9TyO1QC/7FVPu4O8Luhxm9pte",
      "include_colab_link": true
    },
    "kernelspec": {
      "name": "python3",
      "display_name": "Python 3"
    },
    "language_info": {
      "name": "python"
    },
    "accelerator": "GPU",
    "gpuClass": "standard"
  },
  "cells": [
    {
      "cell_type": "markdown",
      "metadata": {
        "id": "view-in-github",
        "colab_type": "text"
      },
      "source": [
        "<a href=\"https://colab.research.google.com/github/oskargirardin/CRP_GDPR_datasets/blob/master/CTGAN_tests_Oskar.ipynb\" target=\"_parent\"><img src=\"https://colab.research.google.com/assets/colab-badge.svg\" alt=\"Open In Colab\"/></a>"
      ]
    },
    {
      "cell_type": "code",
      "execution_count": 14,
      "metadata": {
        "colab": {
          "base_uri": "https://localhost:8080/"
        },
        "id": "gjsDTnsuosf8",
        "outputId": "bfde4286-7292-415a-a51f-203db8d88d26"
      },
      "outputs": [
        {
          "output_type": "stream",
          "name": "stdout",
          "text": [
            "\u001b[2K     \u001b[90m━━━━━━━━━━━━━━━━━━━━━━━━━━━━━━━━━━━━━━━\u001b[0m \u001b[32m140.2/140.2 KB\u001b[0m \u001b[31m8.3 MB/s\u001b[0m eta \u001b[36m0:00:00\u001b[0m\n",
            "\u001b[2K     \u001b[90m━━━━━━━━━━━━━━━━━━━━━━━━━━━━━━━━━━━━━━━━\u001b[0m \u001b[32m15.2/15.2 MB\u001b[0m \u001b[31m74.2 MB/s\u001b[0m eta \u001b[36m0:00:00\u001b[0m\n",
            "\u001b[2K     \u001b[90m━━━━━━━━━━━━━━━━━━━━━━━━━━━━━━━━━━━━━━━━\u001b[0m \u001b[32m53.6/53.6 KB\u001b[0m \u001b[31m7.4 MB/s\u001b[0m eta \u001b[36m0:00:00\u001b[0m\n",
            "\u001b[?25h"
          ]
        }
      ],
      "source": [
        "!pip install ctgan --quiet\n",
        "!pip install table_evaluator --quiet\n",
        "! pip install kaggle --quiet\n",
        "! pip install seaborn --quiet\n",
        "! pip install sdmetrics --quiet"
      ]
    },
    {
      "cell_type": "code",
      "source": [
        "! mkdir ~/.kaggle\n",
        "\n",
        "! cp kaggle.json ~/.kaggle/\n",
        "\n",
        "! chmod 600 ~/.kaggle/kaggle.json\n",
        "\n",
        "!kaggle datasets download -d subhamjain/loan-prediction-based-on-customer-behavior\n",
        "\n",
        "!unzip loan-prediction-based-on-customer-behavior.zip"
      ],
      "metadata": {
        "colab": {
          "base_uri": "https://localhost:8080/"
        },
        "id": "5m0UMt-qpGhG",
        "outputId": "43b5eb36-6794-4eed-dbb5-781228cfcc62"
      },
      "execution_count": 2,
      "outputs": [
        {
          "output_type": "stream",
          "name": "stdout",
          "text": [
            "Downloading loan-prediction-based-on-customer-behavior.zip to /content\n",
            " 58% 3.00M/5.15M [00:00<00:00, 5.75MB/s]\n",
            "100% 5.15M/5.15M [00:00<00:00, 7.60MB/s]\n",
            "Archive:  loan-prediction-based-on-customer-behavior.zip\n",
            "  inflating: Sample Prediction Dataset.csv  \n",
            "  inflating: Test Data.csv           \n",
            "  inflating: Training Data.csv       \n"
          ]
        }
      ]
    },
    {
      "cell_type": "code",
      "source": [
        "from ctgan import CTGAN\n",
        "import pandas as pd"
      ],
      "metadata": {
        "id": "QFisxK2spDaY"
      },
      "execution_count": 3,
      "outputs": []
    },
    {
      "cell_type": "code",
      "source": [
        "data = pd.read_csv(\"Training Data.csv\")\n",
        "data = data.drop(\"Id\", axis = 1)"
      ],
      "metadata": {
        "id": "vka3tRUAqqEo"
      },
      "execution_count": 4,
      "outputs": []
    },
    {
      "cell_type": "code",
      "source": [
        "data"
      ],
      "metadata": {
        "colab": {
          "base_uri": "https://localhost:8080/",
          "height": 488
        },
        "id": "Oi8HGEs7q1Cw",
        "outputId": "1638f542-2785-4963-e980-94ac1d9ab971"
      },
      "execution_count": 5,
      "outputs": [
        {
          "output_type": "execute_result",
          "data": {
            "text/plain": [
              "         Income  Age  Experience Married/Single House_Ownership Car_Ownership  \\\n",
              "0       1303834   23           3         single          rented            no   \n",
              "1       7574516   40          10         single          rented            no   \n",
              "2       3991815   66           4        married          rented            no   \n",
              "3       6256451   41           2         single          rented           yes   \n",
              "4       5768871   47          11         single          rented            no   \n",
              "...         ...  ...         ...            ...             ...           ...   \n",
              "251995  8154883   43          13         single          rented            no   \n",
              "251996  2843572   26          10         single          rented            no   \n",
              "251997  4522448   46           7         single          rented            no   \n",
              "251998  6507128   45           0         single          rented            no   \n",
              "251999  9070230   70          17         single          rented            no   \n",
              "\n",
              "                 Profession                 CITY           STATE  \\\n",
              "0       Mechanical_engineer                 Rewa  Madhya_Pradesh   \n",
              "1        Software_Developer             Parbhani     Maharashtra   \n",
              "2          Technical_writer            Alappuzha          Kerala   \n",
              "3        Software_Developer          Bhubaneswar          Odisha   \n",
              "4             Civil_servant  Tiruchirappalli[10]      Tamil_Nadu   \n",
              "...                     ...                  ...             ...   \n",
              "251995              Surgeon              Kolkata     West_Bengal   \n",
              "251996         Army_officer                 Rewa  Madhya_Pradesh   \n",
              "251997      Design_Engineer      Kalyan-Dombivli     Maharashtra   \n",
              "251998     Graphic_Designer          Pondicherry      Puducherry   \n",
              "251999         Statistician                Avadi      Tamil_Nadu   \n",
              "\n",
              "        CURRENT_JOB_YRS  CURRENT_HOUSE_YRS  Risk_Flag  \n",
              "0                     3                 13          0  \n",
              "1                     9                 13          0  \n",
              "2                     4                 10          0  \n",
              "3                     2                 12          1  \n",
              "4                     3                 14          1  \n",
              "...                 ...                ...        ...  \n",
              "251995                6                 11          0  \n",
              "251996                6                 11          0  \n",
              "251997                7                 12          0  \n",
              "251998                0                 10          0  \n",
              "251999                7                 11          0  \n",
              "\n",
              "[252000 rows x 12 columns]"
            ],
            "text/html": [
              "\n",
              "  <div id=\"df-bc82b591-345c-4827-afd8-a9a83389aa09\">\n",
              "    <div class=\"colab-df-container\">\n",
              "      <div>\n",
              "<style scoped>\n",
              "    .dataframe tbody tr th:only-of-type {\n",
              "        vertical-align: middle;\n",
              "    }\n",
              "\n",
              "    .dataframe tbody tr th {\n",
              "        vertical-align: top;\n",
              "    }\n",
              "\n",
              "    .dataframe thead th {\n",
              "        text-align: right;\n",
              "    }\n",
              "</style>\n",
              "<table border=\"1\" class=\"dataframe\">\n",
              "  <thead>\n",
              "    <tr style=\"text-align: right;\">\n",
              "      <th></th>\n",
              "      <th>Income</th>\n",
              "      <th>Age</th>\n",
              "      <th>Experience</th>\n",
              "      <th>Married/Single</th>\n",
              "      <th>House_Ownership</th>\n",
              "      <th>Car_Ownership</th>\n",
              "      <th>Profession</th>\n",
              "      <th>CITY</th>\n",
              "      <th>STATE</th>\n",
              "      <th>CURRENT_JOB_YRS</th>\n",
              "      <th>CURRENT_HOUSE_YRS</th>\n",
              "      <th>Risk_Flag</th>\n",
              "    </tr>\n",
              "  </thead>\n",
              "  <tbody>\n",
              "    <tr>\n",
              "      <th>0</th>\n",
              "      <td>1303834</td>\n",
              "      <td>23</td>\n",
              "      <td>3</td>\n",
              "      <td>single</td>\n",
              "      <td>rented</td>\n",
              "      <td>no</td>\n",
              "      <td>Mechanical_engineer</td>\n",
              "      <td>Rewa</td>\n",
              "      <td>Madhya_Pradesh</td>\n",
              "      <td>3</td>\n",
              "      <td>13</td>\n",
              "      <td>0</td>\n",
              "    </tr>\n",
              "    <tr>\n",
              "      <th>1</th>\n",
              "      <td>7574516</td>\n",
              "      <td>40</td>\n",
              "      <td>10</td>\n",
              "      <td>single</td>\n",
              "      <td>rented</td>\n",
              "      <td>no</td>\n",
              "      <td>Software_Developer</td>\n",
              "      <td>Parbhani</td>\n",
              "      <td>Maharashtra</td>\n",
              "      <td>9</td>\n",
              "      <td>13</td>\n",
              "      <td>0</td>\n",
              "    </tr>\n",
              "    <tr>\n",
              "      <th>2</th>\n",
              "      <td>3991815</td>\n",
              "      <td>66</td>\n",
              "      <td>4</td>\n",
              "      <td>married</td>\n",
              "      <td>rented</td>\n",
              "      <td>no</td>\n",
              "      <td>Technical_writer</td>\n",
              "      <td>Alappuzha</td>\n",
              "      <td>Kerala</td>\n",
              "      <td>4</td>\n",
              "      <td>10</td>\n",
              "      <td>0</td>\n",
              "    </tr>\n",
              "    <tr>\n",
              "      <th>3</th>\n",
              "      <td>6256451</td>\n",
              "      <td>41</td>\n",
              "      <td>2</td>\n",
              "      <td>single</td>\n",
              "      <td>rented</td>\n",
              "      <td>yes</td>\n",
              "      <td>Software_Developer</td>\n",
              "      <td>Bhubaneswar</td>\n",
              "      <td>Odisha</td>\n",
              "      <td>2</td>\n",
              "      <td>12</td>\n",
              "      <td>1</td>\n",
              "    </tr>\n",
              "    <tr>\n",
              "      <th>4</th>\n",
              "      <td>5768871</td>\n",
              "      <td>47</td>\n",
              "      <td>11</td>\n",
              "      <td>single</td>\n",
              "      <td>rented</td>\n",
              "      <td>no</td>\n",
              "      <td>Civil_servant</td>\n",
              "      <td>Tiruchirappalli[10]</td>\n",
              "      <td>Tamil_Nadu</td>\n",
              "      <td>3</td>\n",
              "      <td>14</td>\n",
              "      <td>1</td>\n",
              "    </tr>\n",
              "    <tr>\n",
              "      <th>...</th>\n",
              "      <td>...</td>\n",
              "      <td>...</td>\n",
              "      <td>...</td>\n",
              "      <td>...</td>\n",
              "      <td>...</td>\n",
              "      <td>...</td>\n",
              "      <td>...</td>\n",
              "      <td>...</td>\n",
              "      <td>...</td>\n",
              "      <td>...</td>\n",
              "      <td>...</td>\n",
              "      <td>...</td>\n",
              "    </tr>\n",
              "    <tr>\n",
              "      <th>251995</th>\n",
              "      <td>8154883</td>\n",
              "      <td>43</td>\n",
              "      <td>13</td>\n",
              "      <td>single</td>\n",
              "      <td>rented</td>\n",
              "      <td>no</td>\n",
              "      <td>Surgeon</td>\n",
              "      <td>Kolkata</td>\n",
              "      <td>West_Bengal</td>\n",
              "      <td>6</td>\n",
              "      <td>11</td>\n",
              "      <td>0</td>\n",
              "    </tr>\n",
              "    <tr>\n",
              "      <th>251996</th>\n",
              "      <td>2843572</td>\n",
              "      <td>26</td>\n",
              "      <td>10</td>\n",
              "      <td>single</td>\n",
              "      <td>rented</td>\n",
              "      <td>no</td>\n",
              "      <td>Army_officer</td>\n",
              "      <td>Rewa</td>\n",
              "      <td>Madhya_Pradesh</td>\n",
              "      <td>6</td>\n",
              "      <td>11</td>\n",
              "      <td>0</td>\n",
              "    </tr>\n",
              "    <tr>\n",
              "      <th>251997</th>\n",
              "      <td>4522448</td>\n",
              "      <td>46</td>\n",
              "      <td>7</td>\n",
              "      <td>single</td>\n",
              "      <td>rented</td>\n",
              "      <td>no</td>\n",
              "      <td>Design_Engineer</td>\n",
              "      <td>Kalyan-Dombivli</td>\n",
              "      <td>Maharashtra</td>\n",
              "      <td>7</td>\n",
              "      <td>12</td>\n",
              "      <td>0</td>\n",
              "    </tr>\n",
              "    <tr>\n",
              "      <th>251998</th>\n",
              "      <td>6507128</td>\n",
              "      <td>45</td>\n",
              "      <td>0</td>\n",
              "      <td>single</td>\n",
              "      <td>rented</td>\n",
              "      <td>no</td>\n",
              "      <td>Graphic_Designer</td>\n",
              "      <td>Pondicherry</td>\n",
              "      <td>Puducherry</td>\n",
              "      <td>0</td>\n",
              "      <td>10</td>\n",
              "      <td>0</td>\n",
              "    </tr>\n",
              "    <tr>\n",
              "      <th>251999</th>\n",
              "      <td>9070230</td>\n",
              "      <td>70</td>\n",
              "      <td>17</td>\n",
              "      <td>single</td>\n",
              "      <td>rented</td>\n",
              "      <td>no</td>\n",
              "      <td>Statistician</td>\n",
              "      <td>Avadi</td>\n",
              "      <td>Tamil_Nadu</td>\n",
              "      <td>7</td>\n",
              "      <td>11</td>\n",
              "      <td>0</td>\n",
              "    </tr>\n",
              "  </tbody>\n",
              "</table>\n",
              "<p>252000 rows × 12 columns</p>\n",
              "</div>\n",
              "      <button class=\"colab-df-convert\" onclick=\"convertToInteractive('df-bc82b591-345c-4827-afd8-a9a83389aa09')\"\n",
              "              title=\"Convert this dataframe to an interactive table.\"\n",
              "              style=\"display:none;\">\n",
              "        \n",
              "  <svg xmlns=\"http://www.w3.org/2000/svg\" height=\"24px\"viewBox=\"0 0 24 24\"\n",
              "       width=\"24px\">\n",
              "    <path d=\"M0 0h24v24H0V0z\" fill=\"none\"/>\n",
              "    <path d=\"M18.56 5.44l.94 2.06.94-2.06 2.06-.94-2.06-.94-.94-2.06-.94 2.06-2.06.94zm-11 1L8.5 8.5l.94-2.06 2.06-.94-2.06-.94L8.5 2.5l-.94 2.06-2.06.94zm10 10l.94 2.06.94-2.06 2.06-.94-2.06-.94-.94-2.06-.94 2.06-2.06.94z\"/><path d=\"M17.41 7.96l-1.37-1.37c-.4-.4-.92-.59-1.43-.59-.52 0-1.04.2-1.43.59L10.3 9.45l-7.72 7.72c-.78.78-.78 2.05 0 2.83L4 21.41c.39.39.9.59 1.41.59.51 0 1.02-.2 1.41-.59l7.78-7.78 2.81-2.81c.8-.78.8-2.07 0-2.86zM5.41 20L4 18.59l7.72-7.72 1.47 1.35L5.41 20z\"/>\n",
              "  </svg>\n",
              "      </button>\n",
              "      \n",
              "  <style>\n",
              "    .colab-df-container {\n",
              "      display:flex;\n",
              "      flex-wrap:wrap;\n",
              "      gap: 12px;\n",
              "    }\n",
              "\n",
              "    .colab-df-convert {\n",
              "      background-color: #E8F0FE;\n",
              "      border: none;\n",
              "      border-radius: 50%;\n",
              "      cursor: pointer;\n",
              "      display: none;\n",
              "      fill: #1967D2;\n",
              "      height: 32px;\n",
              "      padding: 0 0 0 0;\n",
              "      width: 32px;\n",
              "    }\n",
              "\n",
              "    .colab-df-convert:hover {\n",
              "      background-color: #E2EBFA;\n",
              "      box-shadow: 0px 1px 2px rgba(60, 64, 67, 0.3), 0px 1px 3px 1px rgba(60, 64, 67, 0.15);\n",
              "      fill: #174EA6;\n",
              "    }\n",
              "\n",
              "    [theme=dark] .colab-df-convert {\n",
              "      background-color: #3B4455;\n",
              "      fill: #D2E3FC;\n",
              "    }\n",
              "\n",
              "    [theme=dark] .colab-df-convert:hover {\n",
              "      background-color: #434B5C;\n",
              "      box-shadow: 0px 1px 3px 1px rgba(0, 0, 0, 0.15);\n",
              "      filter: drop-shadow(0px 1px 2px rgba(0, 0, 0, 0.3));\n",
              "      fill: #FFFFFF;\n",
              "    }\n",
              "  </style>\n",
              "\n",
              "      <script>\n",
              "        const buttonEl =\n",
              "          document.querySelector('#df-bc82b591-345c-4827-afd8-a9a83389aa09 button.colab-df-convert');\n",
              "        buttonEl.style.display =\n",
              "          google.colab.kernel.accessAllowed ? 'block' : 'none';\n",
              "\n",
              "        async function convertToInteractive(key) {\n",
              "          const element = document.querySelector('#df-bc82b591-345c-4827-afd8-a9a83389aa09');\n",
              "          const dataTable =\n",
              "            await google.colab.kernel.invokeFunction('convertToInteractive',\n",
              "                                                     [key], {});\n",
              "          if (!dataTable) return;\n",
              "\n",
              "          const docLinkHtml = 'Like what you see? Visit the ' +\n",
              "            '<a target=\"_blank\" href=https://colab.research.google.com/notebooks/data_table.ipynb>data table notebook</a>'\n",
              "            + ' to learn more about interactive tables.';\n",
              "          element.innerHTML = '';\n",
              "          dataTable['output_type'] = 'display_data';\n",
              "          await google.colab.output.renderOutput(dataTable, element);\n",
              "          const docLink = document.createElement('div');\n",
              "          docLink.innerHTML = docLinkHtml;\n",
              "          element.appendChild(docLink);\n",
              "        }\n",
              "      </script>\n",
              "    </div>\n",
              "  </div>\n",
              "  "
            ]
          },
          "metadata": {},
          "execution_count": 5
        }
      ]
    },
    {
      "cell_type": "code",
      "source": [
        "discrete_columns = data.columns[1:]"
      ],
      "metadata": {
        "id": "KhclAf-Iq5R9"
      },
      "execution_count": 6,
      "outputs": []
    },
    {
      "cell_type": "code",
      "source": [
        "ctgan = CTGAN(verbose=True)\n",
        "\n",
        "ctgan.fit(data, discrete_columns, epochs=10)"
      ],
      "metadata": {
        "colab": {
          "base_uri": "https://localhost:8080/"
        },
        "id": "FFevlNcvu-p0",
        "outputId": "c899146b-618e-4730-a9f1-4b4e536eae29"
      },
      "execution_count": 7,
      "outputs": [
        {
          "output_type": "stream",
          "name": "stdout",
          "text": [
            "Epoch 1, Loss G:  0.4629,Loss D:  0.0469\n",
            "Epoch 2, Loss G: -0.4472,Loss D:  0.0235\n",
            "Epoch 3, Loss G: -1.2255,Loss D: -0.0487\n",
            "Epoch 4, Loss G: -1.6698,Loss D: -0.0193\n",
            "Epoch 5, Loss G: -1.7664,Loss D: -0.0143\n",
            "Epoch 6, Loss G: -1.8757,Loss D: -0.0700\n",
            "Epoch 7, Loss G: -1.8679,Loss D:  0.0626\n",
            "Epoch 8, Loss G: -1.7804,Loss D: -0.0399\n",
            "Epoch 9, Loss G: -1.7098,Loss D: -0.0627\n",
            "Epoch 10, Loss G: -1.7488,Loss D:  0.0410\n"
          ]
        }
      ]
    },
    {
      "cell_type": "code",
      "source": [
        "sample = ctgan.sample(1000)"
      ],
      "metadata": {
        "id": "rb6YDj-AxoPf"
      },
      "execution_count": 12,
      "outputs": []
    },
    {
      "cell_type": "code",
      "source": [
        "from sdmetrics import load_demo\n",
        "from sdmetrics.reports.single_table import QualityReport\n",
        "\n",
        "real_data, synthetic_data, metadata = load_demo(modality='single_table')\n",
        "\n",
        "my_report = QualityReport()\n",
        "my_report.generate(real_data, synthetic_data, metadata)"
      ],
      "metadata": {
        "colab": {
          "base_uri": "https://localhost:8080/"
        },
        "id": "pc_r8Vg7yo04",
        "outputId": "98188491-f56c-41d1-a6e1-470e5367935b"
      },
      "execution_count": 15,
      "outputs": [
        {
          "output_type": "stream",
          "name": "stderr",
          "text": [
            "Creating report: 100%|██████████| 4/4 [00:02<00:00,  1.34it/s]\n"
          ]
        },
        {
          "output_type": "stream",
          "name": "stdout",
          "text": [
            "\n",
            "Overall Quality Score: 81.44%\n",
            "\n",
            "Properties:\n",
            "Column Shapes: 81.56%\n",
            "Column Pair Trends: 81.33%\n"
          ]
        }
      ]
    },
    {
      "cell_type": "code",
      "source": [
        "my_metadata = {\n",
        "  'fields': \n",
        "    {\n",
        "    'Income': {'type': 'numerical', 'subtype': 'integer'},\n",
        "    'Age': {'type': 'numerical', 'subtype': 'integer'},\n",
        "    'Experience': {'type': 'numerical', 'subtype': 'integer'},\n",
        "    'CURRENT_JOB_YRS': {'type': 'numerical', 'subtype': 'integer'},\n",
        "    'CURRENT_HOUSE_YRS': {'type': 'numerical', 'subtype': 'integer'},\n",
        "    'Married/Single': {'type': 'categorical'},\n",
        "    'House_Ownership': {'type': 'categorical'},\n",
        "    'Car_Ownership': {'type': 'categorical'},\n",
        "    'Profession': {'type': 'categorical'},\n",
        "    'CITY': {'type': 'categorical'},\n",
        "    'STATE': {'type': 'categorical'},\n",
        "    'Risk_Flag': {'type': 'boolean'}\n",
        "  },\n",
        "  'constraints': [],\n",
        "  'model_kwargs': {},\n",
        "  'name': None,\n",
        "  'primary_key': None,\n",
        "  'sequence_index': None,\n",
        "  'entity_columns': [],\n",
        "  'context_columns': []\n",
        "}"
      ],
      "metadata": {
        "id": "x5jOjzItznp8"
      },
      "execution_count": 19,
      "outputs": []
    },
    {
      "cell_type": "code",
      "source": [
        "report = QualityReport()\n",
        "report.generate(data, sample, my_metadata)"
      ],
      "metadata": {
        "colab": {
          "base_uri": "https://localhost:8080/"
        },
        "id": "9e_pMy5gzHRy",
        "outputId": "80ca36ac-0255-456b-ab82-76f8eef6b272"
      },
      "execution_count": 20,
      "outputs": [
        {
          "output_type": "stream",
          "name": "stderr",
          "text": [
            "Creating report: 100%|██████████| 4/4 [00:06<00:00,  1.74s/it]\n"
          ]
        },
        {
          "output_type": "stream",
          "name": "stdout",
          "text": [
            "\n",
            "Overall Quality Score: 80.34%\n",
            "\n",
            "Properties:\n",
            "Column Shapes: 86.8%\n",
            "Column Pair Trends: 73.88%\n"
          ]
        }
      ]
    },
    {
      "cell_type": "code",
      "source": [
        "report.get_details(property_name='Column Shapes')"
      ],
      "metadata": {
        "colab": {
          "base_uri": "https://localhost:8080/",
          "height": 426
        },
        "id": "aWybPV5w1jkb",
        "outputId": "9d5cb56e-c21c-4586-e66c-f4bd452b4ca9"
      },
      "execution_count": 22,
      "outputs": [
        {
          "output_type": "execute_result",
          "data": {
            "text/plain": [
              "               Column        Metric  Quality Score\n",
              "0              Income  KSComplement       0.720877\n",
              "1                 Age  KSComplement       0.940770\n",
              "2          Experience  KSComplement       0.908135\n",
              "3     CURRENT_JOB_YRS  KSComplement       0.875103\n",
              "4   CURRENT_HOUSE_YRS  KSComplement       0.835004\n",
              "5      Married/Single  TVComplement       0.958905\n",
              "6     House_Ownership  TVComplement       0.976508\n",
              "7       Car_Ownership  TVComplement       0.962587\n",
              "8          Profession  TVComplement       0.805508\n",
              "9                CITY  TVComplement       0.697448\n",
              "10              STATE  TVComplement       0.763643\n",
              "11          Risk_Flag  TVComplement       0.972000"
            ],
            "text/html": [
              "\n",
              "  <div id=\"df-83d04b59-e73b-4128-b7ea-ccd28c8679da\">\n",
              "    <div class=\"colab-df-container\">\n",
              "      <div>\n",
              "<style scoped>\n",
              "    .dataframe tbody tr th:only-of-type {\n",
              "        vertical-align: middle;\n",
              "    }\n",
              "\n",
              "    .dataframe tbody tr th {\n",
              "        vertical-align: top;\n",
              "    }\n",
              "\n",
              "    .dataframe thead th {\n",
              "        text-align: right;\n",
              "    }\n",
              "</style>\n",
              "<table border=\"1\" class=\"dataframe\">\n",
              "  <thead>\n",
              "    <tr style=\"text-align: right;\">\n",
              "      <th></th>\n",
              "      <th>Column</th>\n",
              "      <th>Metric</th>\n",
              "      <th>Quality Score</th>\n",
              "    </tr>\n",
              "  </thead>\n",
              "  <tbody>\n",
              "    <tr>\n",
              "      <th>0</th>\n",
              "      <td>Income</td>\n",
              "      <td>KSComplement</td>\n",
              "      <td>0.720877</td>\n",
              "    </tr>\n",
              "    <tr>\n",
              "      <th>1</th>\n",
              "      <td>Age</td>\n",
              "      <td>KSComplement</td>\n",
              "      <td>0.940770</td>\n",
              "    </tr>\n",
              "    <tr>\n",
              "      <th>2</th>\n",
              "      <td>Experience</td>\n",
              "      <td>KSComplement</td>\n",
              "      <td>0.908135</td>\n",
              "    </tr>\n",
              "    <tr>\n",
              "      <th>3</th>\n",
              "      <td>CURRENT_JOB_YRS</td>\n",
              "      <td>KSComplement</td>\n",
              "      <td>0.875103</td>\n",
              "    </tr>\n",
              "    <tr>\n",
              "      <th>4</th>\n",
              "      <td>CURRENT_HOUSE_YRS</td>\n",
              "      <td>KSComplement</td>\n",
              "      <td>0.835004</td>\n",
              "    </tr>\n",
              "    <tr>\n",
              "      <th>5</th>\n",
              "      <td>Married/Single</td>\n",
              "      <td>TVComplement</td>\n",
              "      <td>0.958905</td>\n",
              "    </tr>\n",
              "    <tr>\n",
              "      <th>6</th>\n",
              "      <td>House_Ownership</td>\n",
              "      <td>TVComplement</td>\n",
              "      <td>0.976508</td>\n",
              "    </tr>\n",
              "    <tr>\n",
              "      <th>7</th>\n",
              "      <td>Car_Ownership</td>\n",
              "      <td>TVComplement</td>\n",
              "      <td>0.962587</td>\n",
              "    </tr>\n",
              "    <tr>\n",
              "      <th>8</th>\n",
              "      <td>Profession</td>\n",
              "      <td>TVComplement</td>\n",
              "      <td>0.805508</td>\n",
              "    </tr>\n",
              "    <tr>\n",
              "      <th>9</th>\n",
              "      <td>CITY</td>\n",
              "      <td>TVComplement</td>\n",
              "      <td>0.697448</td>\n",
              "    </tr>\n",
              "    <tr>\n",
              "      <th>10</th>\n",
              "      <td>STATE</td>\n",
              "      <td>TVComplement</td>\n",
              "      <td>0.763643</td>\n",
              "    </tr>\n",
              "    <tr>\n",
              "      <th>11</th>\n",
              "      <td>Risk_Flag</td>\n",
              "      <td>TVComplement</td>\n",
              "      <td>0.972000</td>\n",
              "    </tr>\n",
              "  </tbody>\n",
              "</table>\n",
              "</div>\n",
              "      <button class=\"colab-df-convert\" onclick=\"convertToInteractive('df-83d04b59-e73b-4128-b7ea-ccd28c8679da')\"\n",
              "              title=\"Convert this dataframe to an interactive table.\"\n",
              "              style=\"display:none;\">\n",
              "        \n",
              "  <svg xmlns=\"http://www.w3.org/2000/svg\" height=\"24px\"viewBox=\"0 0 24 24\"\n",
              "       width=\"24px\">\n",
              "    <path d=\"M0 0h24v24H0V0z\" fill=\"none\"/>\n",
              "    <path d=\"M18.56 5.44l.94 2.06.94-2.06 2.06-.94-2.06-.94-.94-2.06-.94 2.06-2.06.94zm-11 1L8.5 8.5l.94-2.06 2.06-.94-2.06-.94L8.5 2.5l-.94 2.06-2.06.94zm10 10l.94 2.06.94-2.06 2.06-.94-2.06-.94-.94-2.06-.94 2.06-2.06.94z\"/><path d=\"M17.41 7.96l-1.37-1.37c-.4-.4-.92-.59-1.43-.59-.52 0-1.04.2-1.43.59L10.3 9.45l-7.72 7.72c-.78.78-.78 2.05 0 2.83L4 21.41c.39.39.9.59 1.41.59.51 0 1.02-.2 1.41-.59l7.78-7.78 2.81-2.81c.8-.78.8-2.07 0-2.86zM5.41 20L4 18.59l7.72-7.72 1.47 1.35L5.41 20z\"/>\n",
              "  </svg>\n",
              "      </button>\n",
              "      \n",
              "  <style>\n",
              "    .colab-df-container {\n",
              "      display:flex;\n",
              "      flex-wrap:wrap;\n",
              "      gap: 12px;\n",
              "    }\n",
              "\n",
              "    .colab-df-convert {\n",
              "      background-color: #E8F0FE;\n",
              "      border: none;\n",
              "      border-radius: 50%;\n",
              "      cursor: pointer;\n",
              "      display: none;\n",
              "      fill: #1967D2;\n",
              "      height: 32px;\n",
              "      padding: 0 0 0 0;\n",
              "      width: 32px;\n",
              "    }\n",
              "\n",
              "    .colab-df-convert:hover {\n",
              "      background-color: #E2EBFA;\n",
              "      box-shadow: 0px 1px 2px rgba(60, 64, 67, 0.3), 0px 1px 3px 1px rgba(60, 64, 67, 0.15);\n",
              "      fill: #174EA6;\n",
              "    }\n",
              "\n",
              "    [theme=dark] .colab-df-convert {\n",
              "      background-color: #3B4455;\n",
              "      fill: #D2E3FC;\n",
              "    }\n",
              "\n",
              "    [theme=dark] .colab-df-convert:hover {\n",
              "      background-color: #434B5C;\n",
              "      box-shadow: 0px 1px 3px 1px rgba(0, 0, 0, 0.15);\n",
              "      filter: drop-shadow(0px 1px 2px rgba(0, 0, 0, 0.3));\n",
              "      fill: #FFFFFF;\n",
              "    }\n",
              "  </style>\n",
              "\n",
              "      <script>\n",
              "        const buttonEl =\n",
              "          document.querySelector('#df-83d04b59-e73b-4128-b7ea-ccd28c8679da button.colab-df-convert');\n",
              "        buttonEl.style.display =\n",
              "          google.colab.kernel.accessAllowed ? 'block' : 'none';\n",
              "\n",
              "        async function convertToInteractive(key) {\n",
              "          const element = document.querySelector('#df-83d04b59-e73b-4128-b7ea-ccd28c8679da');\n",
              "          const dataTable =\n",
              "            await google.colab.kernel.invokeFunction('convertToInteractive',\n",
              "                                                     [key], {});\n",
              "          if (!dataTable) return;\n",
              "\n",
              "          const docLinkHtml = 'Like what you see? Visit the ' +\n",
              "            '<a target=\"_blank\" href=https://colab.research.google.com/notebooks/data_table.ipynb>data table notebook</a>'\n",
              "            + ' to learn more about interactive tables.';\n",
              "          element.innerHTML = '';\n",
              "          dataTable['output_type'] = 'display_data';\n",
              "          await google.colab.output.renderOutput(dataTable, element);\n",
              "          const docLink = document.createElement('div');\n",
              "          docLink.innerHTML = docLinkHtml;\n",
              "          element.appendChild(docLink);\n",
              "        }\n",
              "      </script>\n",
              "    </div>\n",
              "  </div>\n",
              "  "
            ]
          },
          "metadata": {},
          "execution_count": 22
        }
      ]
    },
    {
      "cell_type": "code",
      "source": [
        "report.get_visualization(property_name='Column Pair Trends')"
      ],
      "metadata": {
        "colab": {
          "base_uri": "https://localhost:8080/",
          "height": 917
        },
        "id": "DH60YOIB1655",
        "outputId": "802d0488-3b66-4e7c-f52a-3d8aa77bd539"
      },
      "execution_count": 23,
      "outputs": [
        {
          "output_type": "display_data",
          "data": {
            "text/html": [
              "<html>\n",
              "<head><meta charset=\"utf-8\" /></head>\n",
              "<body>\n",
              "    <div>            <script src=\"https://cdnjs.cloudflare.com/ajax/libs/mathjax/2.7.5/MathJax.js?config=TeX-AMS-MML_SVG\"></script><script type=\"text/javascript\">if (window.MathJax && window.MathJax.Hub && window.MathJax.Hub.Config) {window.MathJax.Hub.Config({SVG: {font: \"STIX-Web\"}});}</script>                <script type=\"text/javascript\">window.PlotlyConfig = {MathJaxConfig: 'local'};</script>\n",
              "        <script src=\"https://cdn.plot.ly/plotly-2.18.2.min.js\"></script>                <div id=\"71634073-8b2e-4693-a514-7fc99443dbee\" class=\"plotly-graph-div\" style=\"height:900px; width:900px;\"></div>            <script type=\"text/javascript\">                                    window.PLOTLYENV=window.PLOTLYENV || {};                                    if (document.getElementById(\"71634073-8b2e-4693-a514-7fc99443dbee\")) {                    Plotly.newPlot(                        \"71634073-8b2e-4693-a514-7fc99443dbee\",                        [{\"coloraxis\":\"coloraxis\",\"hovertemplate\":\"<b>Column Pair</b><br>(%{x},%{y})<br><br>Similarity: %{z}<extra></extra>\",\"x\":[\"CURRENT_JOB_YRS\",\"CURRENT_HOUSE_YRS\",\"CITY\",\"STATE\",\"Risk_Flag\",\"Income\",\"Car_Ownership\",\"Married/Single\",\"Profession\",\"House_Ownership\",\"Experience\",\"Age\"],\"xaxis\":\"x\",\"y\":[\"CURRENT_JOB_YRS\",\"CURRENT_HOUSE_YRS\",\"CITY\",\"STATE\",\"Risk_Flag\",\"Income\",\"Car_Ownership\",\"Married/Single\",\"Profession\",\"House_Ownership\",\"Experience\",\"Age\"],\"yaxis\":\"y\",\"z\":[[1.0,0.98,0.29,0.66,0.82,0.98,0.81,0.82,0.61,0.81,0.75,1.0],[0.98,1.0,0.41,0.71,0.81,0.98,0.81,0.8,0.69,0.8,0.97,1.0],[0.29,0.41,1.0,0.05,0.64,0.24,0.62,0.65,0.06,0.64,0.24,0.26],[0.66,0.71,0.05,1.0,0.76,0.61,0.76,0.76,0.5,0.75,0.67,0.7],[0.82,0.81,0.64,0.76,1.0,0.71,0.96,0.94,0.78,0.96,0.84,0.89],[0.98,0.98,0.24,0.61,0.71,1.0,0.71,0.71,0.57,0.7,0.98,0.99],[0.81,0.81,0.62,0.76,0.96,0.71,1.0,0.96,0.77,0.95,0.84,0.89],[0.82,0.8,0.65,0.76,0.94,0.71,0.96,1.0,0.78,0.94,0.84,0.89],[0.61,0.69,0.06,0.5,0.78,0.57,0.77,0.78,1.0,0.77,0.62,0.64],[0.81,0.8,0.64,0.75,0.96,0.7,0.95,0.94,0.77,1.0,0.84,0.89],[0.75,0.97,0.24,0.67,0.84,0.98,0.84,0.84,0.62,0.84,1.0,1.0],[1.0,1.0,0.26,0.7,0.89,0.99,0.89,0.89,0.64,0.89,1.0,1.0]],\"type\":\"heatmap\"},{\"coloraxis\":\"coloraxis2\",\"customdata\":[[1.0,-0.01,-0.0,0.0,-0.03],[-0.01,1.0,-0.04,0.05,0.03],[-0.0,-0.04,1.0,0.14,-0.05],[0.0,0.05,0.14,1.0,-0.03],[-0.03,0.03,-0.05,-0.03,1.0]],\"hovertemplate\":\"<b>Correlation</b><br>(%{x},%{y})<br><br>Real: %{z}<br>(vs. Synthetic: %{customdata})<extra></extra>\",\"x\":[\"Age\",\"Income\",\"Experience\",\"CURRENT_JOB_YRS\",\"CURRENT_HOUSE_YRS\"],\"xaxis\":\"x2\",\"y\":[\"Age\",\"Income\",\"Experience\",\"CURRENT_JOB_YRS\",\"CURRENT_HOUSE_YRS\"],\"yaxis\":\"y2\",\"z\":[[1.0,-0.0,-0.0,0.0,-0.02],[-0.0,1.0,0.01,0.01,-0.0],[-0.0,0.01,1.0,0.65,0.02],[0.0,0.01,0.65,1.0,0.01],[-0.02,-0.0,0.02,0.01,1.0]],\"type\":\"heatmap\"},{\"coloraxis\":\"coloraxis2\",\"customdata\":[[1.0,-0.0,-0.0,0.0,-0.02],[-0.0,1.0,0.01,0.01,-0.0],[-0.0,0.01,1.0,0.65,0.02],[0.0,0.01,0.65,1.0,0.01],[-0.02,-0.0,0.02,0.01,1.0]],\"hovertemplate\":\"<b>Correlation</b><br>(%{x},%{y})<br><br>Synthetic: %{z}<br>(vs. Real: %{customdata})<extra></extra>\",\"x\":[\"Age\",\"Income\",\"Experience\",\"CURRENT_JOB_YRS\",\"CURRENT_HOUSE_YRS\"],\"xaxis\":\"x3\",\"y\":[\"Age\",\"Income\",\"Experience\",\"CURRENT_JOB_YRS\",\"CURRENT_HOUSE_YRS\"],\"yaxis\":\"y3\",\"z\":[[1.0,-0.01,-0.0,0.0,-0.03],[-0.01,1.0,-0.04,0.05,0.03],[-0.0,-0.04,1.0,0.14,-0.05],[0.0,0.05,0.14,1.0,-0.03],[-0.03,0.03,-0.05,-0.03,1.0]],\"type\":\"heatmap\"}],                        {\"template\":{\"data\":{\"histogram2dcontour\":[{\"type\":\"histogram2dcontour\",\"colorbar\":{\"outlinewidth\":0,\"ticks\":\"\"},\"colorscale\":[[0.0,\"#0d0887\"],[0.1111111111111111,\"#46039f\"],[0.2222222222222222,\"#7201a8\"],[0.3333333333333333,\"#9c179e\"],[0.4444444444444444,\"#bd3786\"],[0.5555555555555556,\"#d8576b\"],[0.6666666666666666,\"#ed7953\"],[0.7777777777777778,\"#fb9f3a\"],[0.8888888888888888,\"#fdca26\"],[1.0,\"#f0f921\"]]}],\"choropleth\":[{\"type\":\"choropleth\",\"colorbar\":{\"outlinewidth\":0,\"ticks\":\"\"}}],\"histogram2d\":[{\"type\":\"histogram2d\",\"colorbar\":{\"outlinewidth\":0,\"ticks\":\"\"},\"colorscale\":[[0.0,\"#0d0887\"],[0.1111111111111111,\"#46039f\"],[0.2222222222222222,\"#7201a8\"],[0.3333333333333333,\"#9c179e\"],[0.4444444444444444,\"#bd3786\"],[0.5555555555555556,\"#d8576b\"],[0.6666666666666666,\"#ed7953\"],[0.7777777777777778,\"#fb9f3a\"],[0.8888888888888888,\"#fdca26\"],[1.0,\"#f0f921\"]]}],\"heatmap\":[{\"type\":\"heatmap\",\"colorbar\":{\"outlinewidth\":0,\"ticks\":\"\"},\"colorscale\":[[0.0,\"#0d0887\"],[0.1111111111111111,\"#46039f\"],[0.2222222222222222,\"#7201a8\"],[0.3333333333333333,\"#9c179e\"],[0.4444444444444444,\"#bd3786\"],[0.5555555555555556,\"#d8576b\"],[0.6666666666666666,\"#ed7953\"],[0.7777777777777778,\"#fb9f3a\"],[0.8888888888888888,\"#fdca26\"],[1.0,\"#f0f921\"]]}],\"heatmapgl\":[{\"type\":\"heatmapgl\",\"colorbar\":{\"outlinewidth\":0,\"ticks\":\"\"},\"colorscale\":[[0.0,\"#0d0887\"],[0.1111111111111111,\"#46039f\"],[0.2222222222222222,\"#7201a8\"],[0.3333333333333333,\"#9c179e\"],[0.4444444444444444,\"#bd3786\"],[0.5555555555555556,\"#d8576b\"],[0.6666666666666666,\"#ed7953\"],[0.7777777777777778,\"#fb9f3a\"],[0.8888888888888888,\"#fdca26\"],[1.0,\"#f0f921\"]]}],\"contourcarpet\":[{\"type\":\"contourcarpet\",\"colorbar\":{\"outlinewidth\":0,\"ticks\":\"\"}}],\"contour\":[{\"type\":\"contour\",\"colorbar\":{\"outlinewidth\":0,\"ticks\":\"\"},\"colorscale\":[[0.0,\"#0d0887\"],[0.1111111111111111,\"#46039f\"],[0.2222222222222222,\"#7201a8\"],[0.3333333333333333,\"#9c179e\"],[0.4444444444444444,\"#bd3786\"],[0.5555555555555556,\"#d8576b\"],[0.6666666666666666,\"#ed7953\"],[0.7777777777777778,\"#fb9f3a\"],[0.8888888888888888,\"#fdca26\"],[1.0,\"#f0f921\"]]}],\"surface\":[{\"type\":\"surface\",\"colorbar\":{\"outlinewidth\":0,\"ticks\":\"\"},\"colorscale\":[[0.0,\"#0d0887\"],[0.1111111111111111,\"#46039f\"],[0.2222222222222222,\"#7201a8\"],[0.3333333333333333,\"#9c179e\"],[0.4444444444444444,\"#bd3786\"],[0.5555555555555556,\"#d8576b\"],[0.6666666666666666,\"#ed7953\"],[0.7777777777777778,\"#fb9f3a\"],[0.8888888888888888,\"#fdca26\"],[1.0,\"#f0f921\"]]}],\"mesh3d\":[{\"type\":\"mesh3d\",\"colorbar\":{\"outlinewidth\":0,\"ticks\":\"\"}}],\"scatter\":[{\"fillpattern\":{\"fillmode\":\"overlay\",\"size\":10,\"solidity\":0.2},\"type\":\"scatter\"}],\"parcoords\":[{\"type\":\"parcoords\",\"line\":{\"colorbar\":{\"outlinewidth\":0,\"ticks\":\"\"}}}],\"scatterpolargl\":[{\"type\":\"scatterpolargl\",\"marker\":{\"colorbar\":{\"outlinewidth\":0,\"ticks\":\"\"}}}],\"bar\":[{\"error_x\":{\"color\":\"#2a3f5f\"},\"error_y\":{\"color\":\"#2a3f5f\"},\"marker\":{\"line\":{\"color\":\"#E5ECF6\",\"width\":0.5},\"pattern\":{\"fillmode\":\"overlay\",\"size\":10,\"solidity\":0.2}},\"type\":\"bar\"}],\"scattergeo\":[{\"type\":\"scattergeo\",\"marker\":{\"colorbar\":{\"outlinewidth\":0,\"ticks\":\"\"}}}],\"scatterpolar\":[{\"type\":\"scatterpolar\",\"marker\":{\"colorbar\":{\"outlinewidth\":0,\"ticks\":\"\"}}}],\"histogram\":[{\"marker\":{\"pattern\":{\"fillmode\":\"overlay\",\"size\":10,\"solidity\":0.2}},\"type\":\"histogram\"}],\"scattergl\":[{\"type\":\"scattergl\",\"marker\":{\"colorbar\":{\"outlinewidth\":0,\"ticks\":\"\"}}}],\"scatter3d\":[{\"type\":\"scatter3d\",\"line\":{\"colorbar\":{\"outlinewidth\":0,\"ticks\":\"\"}},\"marker\":{\"colorbar\":{\"outlinewidth\":0,\"ticks\":\"\"}}}],\"scattermapbox\":[{\"type\":\"scattermapbox\",\"marker\":{\"colorbar\":{\"outlinewidth\":0,\"ticks\":\"\"}}}],\"scatterternary\":[{\"type\":\"scatterternary\",\"marker\":{\"colorbar\":{\"outlinewidth\":0,\"ticks\":\"\"}}}],\"scattercarpet\":[{\"type\":\"scattercarpet\",\"marker\":{\"colorbar\":{\"outlinewidth\":0,\"ticks\":\"\"}}}],\"carpet\":[{\"aaxis\":{\"endlinecolor\":\"#2a3f5f\",\"gridcolor\":\"white\",\"linecolor\":\"white\",\"minorgridcolor\":\"white\",\"startlinecolor\":\"#2a3f5f\"},\"baxis\":{\"endlinecolor\":\"#2a3f5f\",\"gridcolor\":\"white\",\"linecolor\":\"white\",\"minorgridcolor\":\"white\",\"startlinecolor\":\"#2a3f5f\"},\"type\":\"carpet\"}],\"table\":[{\"cells\":{\"fill\":{\"color\":\"#EBF0F8\"},\"line\":{\"color\":\"white\"}},\"header\":{\"fill\":{\"color\":\"#C8D4E3\"},\"line\":{\"color\":\"white\"}},\"type\":\"table\"}],\"barpolar\":[{\"marker\":{\"line\":{\"color\":\"#E5ECF6\",\"width\":0.5},\"pattern\":{\"fillmode\":\"overlay\",\"size\":10,\"solidity\":0.2}},\"type\":\"barpolar\"}],\"pie\":[{\"automargin\":true,\"type\":\"pie\"}]},\"layout\":{\"autotypenumbers\":\"strict\",\"colorway\":[\"#636efa\",\"#EF553B\",\"#00cc96\",\"#ab63fa\",\"#FFA15A\",\"#19d3f3\",\"#FF6692\",\"#B6E880\",\"#FF97FF\",\"#FECB52\"],\"font\":{\"color\":\"#2a3f5f\"},\"hovermode\":\"closest\",\"hoverlabel\":{\"align\":\"left\"},\"paper_bgcolor\":\"white\",\"plot_bgcolor\":\"#E5ECF6\",\"polar\":{\"bgcolor\":\"#E5ECF6\",\"angularaxis\":{\"gridcolor\":\"white\",\"linecolor\":\"white\",\"ticks\":\"\"},\"radialaxis\":{\"gridcolor\":\"white\",\"linecolor\":\"white\",\"ticks\":\"\"}},\"ternary\":{\"bgcolor\":\"#E5ECF6\",\"aaxis\":{\"gridcolor\":\"white\",\"linecolor\":\"white\",\"ticks\":\"\"},\"baxis\":{\"gridcolor\":\"white\",\"linecolor\":\"white\",\"ticks\":\"\"},\"caxis\":{\"gridcolor\":\"white\",\"linecolor\":\"white\",\"ticks\":\"\"}},\"coloraxis\":{\"colorbar\":{\"outlinewidth\":0,\"ticks\":\"\"}},\"colorscale\":{\"sequential\":[[0.0,\"#0d0887\"],[0.1111111111111111,\"#46039f\"],[0.2222222222222222,\"#7201a8\"],[0.3333333333333333,\"#9c179e\"],[0.4444444444444444,\"#bd3786\"],[0.5555555555555556,\"#d8576b\"],[0.6666666666666666,\"#ed7953\"],[0.7777777777777778,\"#fb9f3a\"],[0.8888888888888888,\"#fdca26\"],[1.0,\"#f0f921\"]],\"sequentialminus\":[[0.0,\"#0d0887\"],[0.1111111111111111,\"#46039f\"],[0.2222222222222222,\"#7201a8\"],[0.3333333333333333,\"#9c179e\"],[0.4444444444444444,\"#bd3786\"],[0.5555555555555556,\"#d8576b\"],[0.6666666666666666,\"#ed7953\"],[0.7777777777777778,\"#fb9f3a\"],[0.8888888888888888,\"#fdca26\"],[1.0,\"#f0f921\"]],\"diverging\":[[0,\"#8e0152\"],[0.1,\"#c51b7d\"],[0.2,\"#de77ae\"],[0.3,\"#f1b6da\"],[0.4,\"#fde0ef\"],[0.5,\"#f7f7f7\"],[0.6,\"#e6f5d0\"],[0.7,\"#b8e186\"],[0.8,\"#7fbc41\"],[0.9,\"#4d9221\"],[1,\"#276419\"]]},\"xaxis\":{\"gridcolor\":\"white\",\"linecolor\":\"white\",\"ticks\":\"\",\"title\":{\"standoff\":15},\"zerolinecolor\":\"white\",\"automargin\":true,\"zerolinewidth\":2},\"yaxis\":{\"gridcolor\":\"white\",\"linecolor\":\"white\",\"ticks\":\"\",\"title\":{\"standoff\":15},\"zerolinecolor\":\"white\",\"automargin\":true,\"zerolinewidth\":2},\"scene\":{\"xaxis\":{\"backgroundcolor\":\"#E5ECF6\",\"gridcolor\":\"white\",\"linecolor\":\"white\",\"showbackground\":true,\"ticks\":\"\",\"zerolinecolor\":\"white\",\"gridwidth\":2},\"yaxis\":{\"backgroundcolor\":\"#E5ECF6\",\"gridcolor\":\"white\",\"linecolor\":\"white\",\"showbackground\":true,\"ticks\":\"\",\"zerolinecolor\":\"white\",\"gridwidth\":2},\"zaxis\":{\"backgroundcolor\":\"#E5ECF6\",\"gridcolor\":\"white\",\"linecolor\":\"white\",\"showbackground\":true,\"ticks\":\"\",\"zerolinecolor\":\"white\",\"gridwidth\":2}},\"shapedefaults\":{\"line\":{\"color\":\"#2a3f5f\"}},\"annotationdefaults\":{\"arrowcolor\":\"#2a3f5f\",\"arrowhead\":0,\"arrowwidth\":1},\"geo\":{\"bgcolor\":\"white\",\"landcolor\":\"#E5ECF6\",\"subunitcolor\":\"white\",\"showland\":true,\"showlakes\":true,\"lakecolor\":\"white\"},\"title\":{\"x\":0.05},\"mapbox\":{\"style\":\"light\"}}},\"xaxis\":{\"anchor\":\"y\",\"domain\":[0.26,0.74]},\"yaxis\":{\"anchor\":\"x\",\"domain\":[0.625,1.0],\"autorange\":\"reversed\"},\"xaxis2\":{\"anchor\":\"y2\",\"domain\":[0.0,0.45]},\"yaxis2\":{\"anchor\":\"x2\",\"domain\":[0.0,0.375],\"autorange\":\"reversed\"},\"xaxis3\":{\"anchor\":\"y3\",\"domain\":[0.55,1.0],\"matches\":\"x2\"},\"yaxis3\":{\"anchor\":\"x3\",\"domain\":[0.0,0.375],\"visible\":false,\"matches\":\"y2\",\"autorange\":\"reversed\"},\"annotations\":[{\"font\":{\"size\":16},\"showarrow\":false,\"text\":\"Real vs. Synthetic Similarity\",\"x\":0.5,\"xanchor\":\"center\",\"xref\":\"paper\",\"y\":1.0,\"yanchor\":\"bottom\",\"yref\":\"paper\"},{\"font\":{\"size\":16},\"showarrow\":false,\"text\":\"Numerical Correlation (Real Data)\",\"x\":0.225,\"xanchor\":\"center\",\"xref\":\"paper\",\"y\":0.375,\"yanchor\":\"bottom\",\"yref\":\"paper\"},{\"font\":{\"size\":16},\"showarrow\":false,\"text\":\"Numerical Correlation (Synthetic Data)\",\"x\":0.775,\"xanchor\":\"center\",\"xref\":\"paper\",\"y\":0.375,\"yanchor\":\"bottom\",\"yref\":\"paper\"}],\"title\":{\"text\":\"Data Quality: Column Pair Trends (Average Score=0.74)\"},\"coloraxis\":{\"colorbar\":{\"len\":0.5,\"x\":0.8,\"y\":0.8},\"cmin\":0,\"cmax\":1,\"colorscale\":[[0.0,\"#FF0000\"],[0.5,\"#F16141\"],[1.0,\"#36B37E\"]]},\"coloraxis2\":{\"colorbar\":{\"len\":0.5,\"y\":0.2},\"cmin\":-1,\"cmax\":1,\"colorscale\":[[0.0,\"#03AFF1\"],[0.5,\"#000036\"],[1.0,\"#01E0C9\"]]},\"height\":900,\"width\":900},                        {\"responsive\": true}                    ).then(function(){\n",
              "                            \n",
              "var gd = document.getElementById('71634073-8b2e-4693-a514-7fc99443dbee');\n",
              "var x = new MutationObserver(function (mutations, observer) {{\n",
              "        var display = window.getComputedStyle(gd).display;\n",
              "        if (!display || display === 'none') {{\n",
              "            console.log([gd, 'removed!']);\n",
              "            Plotly.purge(gd);\n",
              "            observer.disconnect();\n",
              "        }}\n",
              "}});\n",
              "\n",
              "// Listen for the removal of the full notebook cells\n",
              "var notebookContainer = gd.closest('#notebook-container');\n",
              "if (notebookContainer) {{\n",
              "    x.observe(notebookContainer, {childList: true});\n",
              "}}\n",
              "\n",
              "// Listen for the clearing of the current output cell\n",
              "var outputEl = gd.closest('.output');\n",
              "if (outputEl) {{\n",
              "    x.observe(outputEl, {childList: true});\n",
              "}}\n",
              "\n",
              "                        })                };                            </script>        </div>\n",
              "</body>\n",
              "</html>"
            ]
          },
          "metadata": {}
        }
      ]
    },
    {
      "cell_type": "code",
      "source": [
        "from sdmetrics.reports.utils import get_column_plot\n",
        "get_column_plot(\n",
        "    real_data=data,\n",
        "    synthetic_data=sample,\n",
        "    metadata=my_metadata,\n",
        "    column_name=\"Age\"\n",
        ")"
      ],
      "metadata": {
        "colab": {
          "base_uri": "https://localhost:8080/",
          "height": 542
        },
        "id": "XpXsSXW92fzq",
        "outputId": "ae36a651-e632-496e-ccb1-cc8bd062a504"
      },
      "execution_count": 27,
      "outputs": [
        {
          "output_type": "display_data",
          "data": {
            "text/html": [
              "<html>\n",
              "<head><meta charset=\"utf-8\" /></head>\n",
              "<body>\n",
              "    <div>            <script src=\"https://cdnjs.cloudflare.com/ajax/libs/mathjax/2.7.5/MathJax.js?config=TeX-AMS-MML_SVG\"></script><script type=\"text/javascript\">if (window.MathJax && window.MathJax.Hub && window.MathJax.Hub.Config) {window.MathJax.Hub.Config({SVG: {font: \"STIX-Web\"}});}</script>                <script type=\"text/javascript\">window.PlotlyConfig = {MathJaxConfig: 'local'};</script>\n",
              "        <script src=\"https://cdn.plot.ly/plotly-2.18.2.min.js\"></script>                <div id=\"890fecdf-d117-4c59-ad07-ed6f71d5ff21\" class=\"plotly-graph-div\" style=\"height:525px; width:100%;\"></div>            <script type=\"text/javascript\">                                    window.PLOTLYENV=window.PLOTLYENV || {};                                    if (document.getElementById(\"890fecdf-d117-4c59-ad07-ed6f71d5ff21\")) {                    Plotly.newPlot(                        \"890fecdf-d117-4c59-ad07-ed6f71d5ff21\",                        [{\"legendgroup\":\"Real\",\"marker\":{\"color\":\"#000036\"},\"mode\":\"lines\",\"name\":\"Real\",\"showlegend\":true,\"x\":[21.0,21.116,21.232,21.348,21.464,21.58,21.696,21.812,21.928,22.044,22.16,22.276,22.392,22.508,22.624,22.74,22.856,22.972,23.088,23.204,23.32,23.436,23.552,23.668,23.784,23.9,24.016,24.132,24.248,24.364,24.48,24.596,24.712,24.828,24.944,25.06,25.176000000000002,25.292,25.408,25.524,25.64,25.756,25.872,25.988,26.104,26.22,26.336,26.451999999999998,26.567999999999998,26.684,26.8,26.916,27.032,27.148,27.264,27.38,27.496000000000002,27.612000000000002,27.728,27.844,27.96,28.076,28.192,28.308,28.424,28.54,28.656,28.772,28.887999999999998,29.003999999999998,29.119999999999997,29.236,29.352,29.468,29.584,29.7,29.816000000000003,29.932000000000002,30.048000000000002,30.164,30.28,30.396,30.512,30.628,30.744,30.86,30.976,31.092,31.208,31.323999999999998,31.439999999999998,31.555999999999997,31.672,31.788,31.904,32.019999999999996,32.135999999999996,32.252,32.368,32.484,32.6,32.716,32.832,32.948,33.064,33.18,33.296,33.412,33.528,33.644,33.76,33.876,33.992000000000004,34.108000000000004,34.224000000000004,34.34,34.456,34.572,34.688,34.804,34.92,35.036,35.152,35.268,35.384,35.5,35.616,35.732,35.848,35.964,36.08,36.196,36.312,36.428,36.544,36.66,36.775999999999996,36.891999999999996,37.007999999999996,37.123999999999995,37.239999999999995,37.356,37.472,37.588,37.704,37.82,37.936,38.052,38.168,38.284,38.4,38.516,38.632000000000005,38.748000000000005,38.864000000000004,38.980000000000004,39.096000000000004,39.212,39.328,39.444,39.56,39.676,39.792,39.908,40.024,40.14,40.256,40.372,40.488,40.604,40.72,40.836,40.952,41.068,41.184,41.3,41.416,41.532,41.647999999999996,41.763999999999996,41.879999999999995,41.995999999999995,42.111999999999995,42.228,42.344,42.46,42.576,42.692,42.808,42.924,43.04,43.156,43.272,43.388000000000005,43.504000000000005,43.620000000000005,43.736000000000004,43.852000000000004,43.968,44.084,44.2,44.316,44.432,44.548,44.664,44.78,44.896,45.012,45.128,45.244,45.36,45.476,45.592,45.708,45.824,45.94,46.056,46.172,46.288,46.403999999999996,46.519999999999996,46.635999999999996,46.751999999999995,46.867999999999995,46.984,47.1,47.216,47.332,47.448,47.564,47.68,47.796,47.912,48.028,48.144,48.260000000000005,48.376000000000005,48.492000000000004,48.608000000000004,48.724000000000004,48.84,48.956,49.072,49.188,49.304,49.42,49.536,49.652,49.768,49.884,50.0,50.116,50.232,50.348,50.464,50.58,50.696,50.812,50.928,51.044,51.16,51.275999999999996,51.391999999999996,51.507999999999996,51.623999999999995,51.739999999999995,51.856,51.972,52.088,52.204,52.32,52.436,52.552,52.668,52.784,52.9,53.016,53.132,53.248,53.364,53.48,53.596,53.712,53.828,53.944,54.06,54.176,54.292,54.408,54.524,54.64,54.756,54.872,54.988,55.104,55.22,55.336,55.452,55.568,55.684,55.8,55.916,56.032,56.148,56.264,56.38,56.496,56.612,56.728,56.844,56.96,57.076,57.192,57.308,57.424,57.54,57.656,57.772,57.888,58.004,58.12,58.236,58.352,58.468,58.584,58.7,58.816,58.932,59.048,59.164,59.28,59.396,59.512,59.628,59.744,59.86,59.976,60.092,60.208,60.324,60.44,60.556,60.672,60.788,60.904,61.02,61.136,61.252,61.368,61.484,61.6,61.716,61.832,61.948,62.064,62.18,62.296,62.412,62.528,62.644,62.76,62.876,62.992,63.108,63.224,63.34,63.456,63.572,63.688,63.804,63.92,64.036,64.152,64.268,64.384,64.5,64.616,64.732,64.848,64.964,65.08,65.196,65.312,65.428,65.544,65.66,65.77600000000001,65.892,66.00800000000001,66.124,66.24000000000001,66.356,66.47200000000001,66.588,66.70400000000001,66.82,66.936,67.05199999999999,67.168,67.28399999999999,67.4,67.51599999999999,67.632,67.74799999999999,67.864,67.97999999999999,68.096,68.212,68.328,68.444,68.56,68.676,68.792,68.908,69.024,69.14,69.256,69.372,69.488,69.604,69.72,69.836,69.952,70.068,70.184,70.3,70.416,70.532,70.648,70.76400000000001,70.88,70.99600000000001,71.112,71.22800000000001,71.344,71.46000000000001,71.576,71.69200000000001,71.80799999999999,71.924,72.03999999999999,72.156,72.27199999999999,72.388,72.50399999999999,72.62,72.73599999999999,72.852,72.968,73.084,73.2,73.316,73.432,73.548,73.664,73.78,73.896,74.012,74.128,74.244,74.36,74.476,74.592,74.708,74.824,74.94,75.056,75.172,75.288,75.404,75.52000000000001,75.636,75.75200000000001,75.868,75.98400000000001,76.1,76.21600000000001,76.332,76.44800000000001,76.564,76.68,76.79599999999999,76.912,77.02799999999999,77.144,77.25999999999999,77.376,77.49199999999999,77.608,77.72399999999999,77.84,77.956,78.072,78.188,78.304,78.42,78.536,78.652,78.768,78.884],\"xaxis\":\"x\",\"y\":[0.010955626312059019,0.011489691392483257,0.012005275442819147,0.012499599112606329,0.01297029116920503,0.013415419411899566,0.013833508355512336,0.014223543737918913,0.014584964427830142,0.014917642775401018,0.01522185483938473,0.015498242223280239,0.01574776745170316,0.015971664913051135,0.016171389389340787,0.016348564096856703,0.016504929985229587,0.016642297802966395,0.016762504153244075,0.016867372452517484,0.016958679385109664,0.017038127136147666,0.017107321398614803,0.01716775489896307,0.017220795981016092,0.017267681634385718,0.017309514256404705,0.017347261393741494,0.017381757721342605,0.017413708574125147,0.0174436944456053,0.017472175996506373,0.01749949926498699,0.01752590092628636,0.01755151360187465,0.017576371353709506,0.01760041560848263,0.017623501830090756,0.017645407289852838,0.01766584026963785,0.017684450973235576,0.017700844318551703,0.017714594645824682,0.017725262213581935,0.017732411177884596,0.017735628575877904,0.017734543675041604,0.01772884692190222,0.017718307637486577,0.017702789574214804,0.01768226347476255,0.01765681585965173,0.0176266534156166,0.017592102551448142,0.01755360392340558,0.017511701992750775,0.01746702994581533,0.017420290566818437,0.017372233886429955,0.017323632619647304,0.01727525654254788,0.017227847029179743,0.017182092972652545,0.017138609248535937,0.017097918747146407,0.017060438813618902,0.017026472701516367,0.016996206381532233,0.01696971076734781,0.01694694914107645,0.0169277892972249,0.016912019690145393,0.016899368676631048,0.016889525803417398,0.01688216400260696,0.016876961530705076,0.01687362251922806,0.01687189509126513,0.01687158613696547,0.016872572019586137,0.01687480469722182,0.016878312979072215,0.01688319888073692,0.016889629286215232,0.016897823355635225,0.016908036324595112,0.01692054051472492,0.016935604507798113,0.01695347151950879,0.016974338042907072,0.016998333811113212,0.01702550405846625,0.017055794941090236,0.017089042819286263,0.01712496791435563,0.017163172641897827,0.01720314470368148,0.017244264803525568,0.01728581865095713,0.017327012739326034,0.017366993242077716,0.01740486726746291,0.017439725651089675,0.01747066644799475,0.01749681830775849,0.017517362973129415,0.01753155622684455,0.01753874671425577,0.017538392183109052,0.01753007279706513,0.017513501289856268,0.017488529827275345,0.01745515353086495,0.017413510690167357,0.01736387975040046,0.017306673212416062,0.017242428626607936,0.01717179690407219,0.01709552821363809,0.01701445578109894,0.01692947796181643,0.016841539015245988,0.01675160906890917,0.016660663813946788,0.016569664519084194,0.016479538976614173,0.01639116399855493,0.016305350055824477,0.01622282859642436,0.016144242488072304,0.016070139909351598,0.016000971864726744,0.015937093332175127,0.01587876787458402,0.015826175371192373,0.015779422362966502,0.015738554368021053,0.01570356941857234,0.015674432009217084,0.015651086629276008,0.015633470084216953,0.015621521888293417,0.015615192130340835,0.015614446366985862,0.015619267275483491,0.01562965298875749,0.015645612228616677,0.015667156536917737,0.015694290069857782,0.015726997557611717,0.015765231135460467,0.015808896817165456,0.015857841405631557,0.0159118406204515,0.015970589167200018,0.016033693385352325,0.016100666993964192,0.016170930314184595,0.016243813191871237,0.016318561678977456,0.016394348367378127,0.016470286109589484,0.016545444714410853,0.016618870078248464,0.01668960510956647,0.01675671172853889,0.01681929317945162,0.016876515881918255,0.01692763006638368,0.016971988491415284,0.017009062618077914,0.017038455719286773,0.0170599125220482,0.0170733251116291,0.017078734963814596,0.017076331105817,0.01706644453418412,0.017049539131573036,0.017026199422695277,0.016997115586832725,0.01696306620349173,0.01692489924545459,0.01688351185540244,0.016839829448375355,0.016794784677175118,0.01674929678509466,0.016704251850935874,0.016660484408530195,0.016618760896183086,0.016579765360183924,0.01654408779815727,0.016512215480265706,0.016484527524891678,0.016461292928333218,0.01644267215215185,0.016428722257801648,0.016419405446924787,0.016414600721365778,0.01641411822705901,0.016417715697875195,0.01642511628088044,0.016436026914366412,0.01645015635441011,0.016467231915513695,0.016487014013782945,0.016509307678120595,0.016533970330322376,0.01656091531975033,0.01659011092670589,0.016621574806456187,0.016655364115600025,0.01669156183057681,0.016730260010036708,0.016771540956249293,0.016815457377836365,0.016862012735435146,0.01691114295853147,0.016962700651834556,0.017016442769062938,0.017072022529601674,0.01712898610294658,0.01718677430457339,0.01724472925486995,0.017302105669246212,0.017358086192665424,0.017411799982302283,0.01746234359057785,0.01750880311693112,0.017550276584419017,0.017585895552940926,0.017614845101212816,0.01763638147955763,0.017649846943892426,0.017654681508066716,0.017650431580988963,0.017636755667064713,0.01761342748882604,0.01758033702529578,0.017537490039105423,0.017485006685574157,0.017423119757402863,0.017352173024364058,0.017272619987623743,0.017185023195743356,0.017090054080111838,0.016988493076869317,0.016881229629328753,0.016769261522499097,0.016653692905364583,0.01653573031446518,0.016416676031107198,0.016297918184568164,0.01618091715097728,0.0160671879847086,0.01595827884362098,0.015855745617357263,0.01576112322199661,0.015675894268320213,0.015601456028015147,0.015539086797262671,0.015489912879457746,0.015454877468032096,0.015434712703704782,0.01542991610581334,0.015440732439825295,0.015467141888588781,0.015508855155489023,0.0155653158546363,0.0156357102529956,0.015718984135810594,0.01581386628500188,0.01591889780490765,0.016032466312203335,0.016152843836326033,0.016278227160552185,0.016406779274788286,0.016536670610459263,0.01666611878108337,0.016793425657028575,0.01691701074835091,0.01703544004978567,0.017147449704905136,0.01725196406163523,0.017348107909660963,0.017435212901065554,0.017512818350460257,0.017580666783709144,0.01763869474899068,0.017687019517494094,0.017725922381592405,0.017755829306100743,0.017777289703722526,0.017790954093462256,0.017797551361859194,0.017797866287222176,0.017792717911305954,0.017782939253019263,0.017769358764250565,0.01775278382767126,0.017733986498252034,0.017713691596372497,0.017692567172798393,0.017671217289449495,0.017650176993163375,0.017629909307118018,0.017610804025351076,0.01759317806954059,0.017577277154918566,0.017563278512573333,0.017551294426144705,0.017541376362037064,0.01753351949997701,0.01752766750407092,0.017523717410381282,0.017521524542675953,0.01752090740228899,0.017521652507075818,0.017523519178434286,0.01752624429164823,0.01752954701315993,0.017533133549059575,0.017536701922178637,0.017539946781501038,0.017542564229916773,0.017544256635255964,0.017544737367678483,0.017543735387279498,0.017540999588792995,0.017536302800943857,0.01752944533366687,0.017520257972312624,0.01750860433015025,0.017494382492142125,0.017477525909961995,0.017458003541305032,0.01743581926146912,0.017411010610510383,0.017383646972714606,0.01735382731211611,0.017321677608904504,0.017287348152199452,0.01725101084586417,0.017212856674349068,0.017173093455358824,0.017131943977505573,0.01708964458541253,0.01704644423421166,0.017002603993555562,0.016958396940759467,0.01691410834574003,0.0168700360203062,0.01682649068241226,0.016783796173179568,0.01674228936209791,0.016702319582314273,0.016664247453928707,0.016628442976298206,0.01659528279924687,0.01656514661691481,0.016538412664064965,0.01651545233287487,0.016496623967012663,0.016482265928959607,0.01647268907527405,0.016468168813208613,0.016468936949173642,0.01647517357602867,0.016486999278324053,0.016504467963445853,0.01652756064626766,0.01655618052589124,0.016590149688740386,0.016629207751665202,0.016673012717964217,0.016721144257257854,0.01677310953525983,0.016828351615475298,0.01688626033271892,0.016946185405831756,0.01700745142008831,0.01706937417912156,0.017131277809901684,0.017192511914909465,0.01725246800955637,0.017310594470031644,0.017366409250642343,0.01741950971263772,0.01746957903531644,0.01751638885124524,0.01755979794800146,0.01759974710008785,0.017636250318571772,0.017669383020038117,0.017699267803122195,0.017726058667412937,0.017749924604919535,0.017771033530208886,0.017789537489697995,0.01780556000370223,0.017819186253091656,0.017830456635699307,0.017839363998461567,0.017845854615113795,0.017849832742543707,0.017851168366562687,0.017849707555367463,0.017845284687323576,0.017837735718215342,0.017826911606777116,0.01781269102678119,0.017794991557538366,0.01777377865600563,0.01774907186402696,0.01772094788358738,0.01768954034945218,0.017655036329458376,0.017617669777267086,0.017577712339432807,0.017535462068492932,0.01749123071051641,0.017445330311985342,0.01739805992622571,0.017349693191505415,0.01730046750292665,0.017250575412722444,0.017200158771586156,0.017149305975975818,0.017098052518021038,0.017046384857265433,0.01699424745260242,0.01694155262145381,0.016888192736744693,0.016834054141971918,0.01677903206574709,0.016723045755521804,0.01666605303072361,0.01660806347741578,0.01654914957065919,0.016489455112748262,0.01642920050949675,0.016368684565649494,0.016308282654500406,0.016248441296044552,0.016189669352286468,0.016132526207132996,0.016077607434048288,0.01602552855955095,0.01597690760025211,0.015932347083887195,0.01589241626032905,0.015857634169710505,0.015828454167497452,0.01580525041436429,0.01578830673118478,0.015777808103326036,0.015773834998049744,0.015776360543318473,0.015785250507266847,0.015800265919178588,0.015821068087087577,0.015847225691900932,0.01587822357709887,0.015913472800833287,0.015952321477194192,0.015994065903090108,0.01603796144820451,0.01608323268035841,0.01612908220870687,0.016174697757753372,0.016219257038544325,0.016261930063715388,0.01630187866177793,0.016338253084678286,0.016370185767552517,0.016396782487933664,0.01641711137456545,0.016430190423100278,0.01643497437504763,0.016430341992736727,0.01641508490056288,0.016387899248762078,0.01634738147462755,0.016292029379893172,0.016220249603620635,0.016130372348195362,0.01602067391419644,0.015889407230553522,0.015734840143576213,0.01555530077394096,0.015349228789152734,0.015115230998482984,0.014852139285113343,0.014559068575005699,0.014235472327293193,0.013881192937256539,0.013496504482910166,0.013082145426381664,0.012639339197702002,0.012169801031448166,0.011675729974253313],\"yaxis\":\"y\",\"type\":\"scatter\",\"fill\":\"tozeroy\",\"hovertemplate\":\"<b>Real</b><br>Value: %{x}<br>Frequency: %{y}<extra></extra>\"},{\"legendgroup\":\"Synthetic\",\"marker\":{\"color\":\"#01E0C9\"},\"mode\":\"lines\",\"name\":\"Synthetic\",\"showlegend\":true,\"x\":[21.0,21.116,21.232,21.348,21.464,21.58,21.696,21.812,21.928,22.044,22.16,22.276,22.392,22.508,22.624,22.74,22.856,22.972,23.088,23.204,23.32,23.436,23.552,23.668,23.784,23.9,24.016,24.132,24.248,24.364,24.48,24.596,24.712,24.828,24.944,25.06,25.176000000000002,25.292,25.408,25.524,25.64,25.756,25.872,25.988,26.104,26.22,26.336,26.451999999999998,26.567999999999998,26.684,26.8,26.916,27.032,27.148,27.264,27.38,27.496000000000002,27.612000000000002,27.728,27.844,27.96,28.076,28.192,28.308,28.424,28.54,28.656,28.772,28.887999999999998,29.003999999999998,29.119999999999997,29.236,29.352,29.468,29.584,29.7,29.816000000000003,29.932000000000002,30.048000000000002,30.164,30.28,30.396,30.512,30.628,30.744,30.86,30.976,31.092,31.208,31.323999999999998,31.439999999999998,31.555999999999997,31.672,31.788,31.904,32.019999999999996,32.135999999999996,32.252,32.368,32.484,32.6,32.716,32.832,32.948,33.064,33.18,33.296,33.412,33.528,33.644,33.76,33.876,33.992000000000004,34.108000000000004,34.224000000000004,34.34,34.456,34.572,34.688,34.804,34.92,35.036,35.152,35.268,35.384,35.5,35.616,35.732,35.848,35.964,36.08,36.196,36.312,36.428,36.544,36.66,36.775999999999996,36.891999999999996,37.007999999999996,37.123999999999995,37.239999999999995,37.356,37.472,37.588,37.704,37.82,37.936,38.052,38.168,38.284,38.4,38.516,38.632000000000005,38.748000000000005,38.864000000000004,38.980000000000004,39.096000000000004,39.212,39.328,39.444,39.56,39.676,39.792,39.908,40.024,40.14,40.256,40.372,40.488,40.604,40.72,40.836,40.952,41.068,41.184,41.3,41.416,41.532,41.647999999999996,41.763999999999996,41.879999999999995,41.995999999999995,42.111999999999995,42.228,42.344,42.46,42.576,42.692,42.808,42.924,43.04,43.156,43.272,43.388000000000005,43.504000000000005,43.620000000000005,43.736000000000004,43.852000000000004,43.968,44.084,44.2,44.316,44.432,44.548,44.664,44.78,44.896,45.012,45.128,45.244,45.36,45.476,45.592,45.708,45.824,45.94,46.056,46.172,46.288,46.403999999999996,46.519999999999996,46.635999999999996,46.751999999999995,46.867999999999995,46.984,47.1,47.216,47.332,47.448,47.564,47.68,47.796,47.912,48.028,48.144,48.260000000000005,48.376000000000005,48.492000000000004,48.608000000000004,48.724000000000004,48.84,48.956,49.072,49.188,49.304,49.42,49.536,49.652,49.768,49.884,50.0,50.116,50.232,50.348,50.464,50.58,50.696,50.812,50.928,51.044,51.16,51.275999999999996,51.391999999999996,51.507999999999996,51.623999999999995,51.739999999999995,51.856,51.972,52.088,52.204,52.32,52.436,52.552,52.668,52.784,52.9,53.016,53.132,53.248,53.364,53.48,53.596,53.712,53.828,53.944,54.06,54.176,54.292,54.408,54.524,54.64,54.756,54.872,54.988,55.104,55.22,55.336,55.452,55.568,55.684,55.8,55.916,56.032,56.148,56.264,56.38,56.496,56.612,56.728,56.844,56.96,57.076,57.192,57.308,57.424,57.54,57.656,57.772,57.888,58.004,58.12,58.236,58.352,58.468,58.584,58.7,58.816,58.932,59.048,59.164,59.28,59.396,59.512,59.628,59.744,59.86,59.976,60.092,60.208,60.324,60.44,60.556,60.672,60.788,60.904,61.02,61.136,61.252,61.368,61.484,61.6,61.716,61.832,61.948,62.064,62.18,62.296,62.412,62.528,62.644,62.76,62.876,62.992,63.108,63.224,63.34,63.456,63.572,63.688,63.804,63.92,64.036,64.152,64.268,64.384,64.5,64.616,64.732,64.848,64.964,65.08,65.196,65.312,65.428,65.544,65.66,65.77600000000001,65.892,66.00800000000001,66.124,66.24000000000001,66.356,66.47200000000001,66.588,66.70400000000001,66.82,66.936,67.05199999999999,67.168,67.28399999999999,67.4,67.51599999999999,67.632,67.74799999999999,67.864,67.97999999999999,68.096,68.212,68.328,68.444,68.56,68.676,68.792,68.908,69.024,69.14,69.256,69.372,69.488,69.604,69.72,69.836,69.952,70.068,70.184,70.3,70.416,70.532,70.648,70.76400000000001,70.88,70.99600000000001,71.112,71.22800000000001,71.344,71.46000000000001,71.576,71.69200000000001,71.80799999999999,71.924,72.03999999999999,72.156,72.27199999999999,72.388,72.50399999999999,72.62,72.73599999999999,72.852,72.968,73.084,73.2,73.316,73.432,73.548,73.664,73.78,73.896,74.012,74.128,74.244,74.36,74.476,74.592,74.708,74.824,74.94,75.056,75.172,75.288,75.404,75.52000000000001,75.636,75.75200000000001,75.868,75.98400000000001,76.1,76.21600000000001,76.332,76.44800000000001,76.564,76.68,76.79599999999999,76.912,77.02799999999999,77.144,77.25999999999999,77.376,77.49199999999999,77.608,77.72399999999999,77.84,77.956,78.072,78.188,78.304,78.42,78.536,78.652,78.768,78.884],\"xaxis\":\"x\",\"y\":[0.01091547779193529,0.011144073496152528,0.011371854961930248,0.011598614718163746,0.011824145364997573,0.012048240011733944,0.01227069271434967,0.012491298911068455,0.01270985585444968,0.012926163038472233,0.013140022619123622,0.013351239827039165,0.013559623370782951,0.013764985829413766,0.013967144033040318,0.01416591943013756,0.014361138440469158,0.014552632792541636,0.014740239844601025,0.014923802888273453,0.015103171434045543,0.015278201477879104,0.015448755748354668,0.015614703933843607,0.015775922889311404,0.015932296822461906,0.01608371745903502,0.01623008418717801,0.01637130418091114,0.01650729250280986,0.016637972186123274,0.016763274296641935,0.016883137974718753,0.016997510457929882,0.017106347084942797,0.017209611281231083,0.017307274527342584,0.017399316310486704,0.017485724060260045,0.017566493069373877,0.017641626400284518,0.017711134778658315,0.01777503647462357,0.017833357172775254,0.01788612983190601,0.017933394535435635,0.017975198333499035,0.018011595077641343,0.018042645249041436,0.018068415781159378,0.01808897987766562,0.01810441682646953,0.018114811810618952,0.018120255716793713,0.018120844942057734,0.01811668119948299,0.018107871323193223,0.01809452707331697,0.018076764941276167,0.01805470595576999,0.018028475489756605,0.017998203068663416,0.01796402218000538,0.017926070084523096,0.0178844876288991,0.017839419060058398,0.01779101184100324,0.017739416468092288,0.017684786289626345,0.017627277325569075,0.01756704808819601,0.017504259403438267,0.017439074232666375,0.017371657494639973,0.01730217588734013,0.017230797709393782,0.01715769268079938,0.017083031762667795,0.01700698697570078,0.01692973121714512,0.016851438075979858,0.016772281646114596,0.01669243633740806,0.016612076684341937,0.016531377152223525,0.01645051194082285,0.016369654785391843,0.01628897875505011,0.01620865604856635,0.016128857787605148,0.016049753807551012,0.01597151244606522,0.015894300329571804,0.01581828215791094,0.015743620487434874,0.015670475512862127,0.01559900484823895,0.015529363307389923,0.015461702684270206,0.015396171533659367,0.015332914952658785,0.01527207436347608,0.015213787297998646,0.015158187184666808,0.015105403138172886,0.015055559752512855,0.015008776897924831,0.014965169522242595,0.014924847457192872,0.014887915230152371,0.014854471881875464,0.014824610790684646,0.014798419503603092,0.014775979574888317,0.014757366412406877,0.014742649132265214,0.014731890422090539,0.014725146413327441,0.014722466562891705,0.014723893544494458,0.014729463149923702,0.014739204200539723,0.01475313846921857,0.014771280612943959,0.014793638116227057,0.014820211245504727,0.014850993014641583,0.014885969161639624,0.014925118136634094,0.014968411101233618,0.015015811939243373,0.015067277278789261,0.015122756525847925,0.015182191909164804,0.015245518536535801,0.015312664462408575,0.015383550766751563,0.015458091645124431,0.015536194509878722,0.015617760102402284,0.015702682616317597,0.015790849831535253,0.015882143259053898,0.015976438296394307,0.016073604393545507,0.01617350522929387,0.016275998897799984,0.01638093810527737,0.016488170376619166,0.01659753827181055,0.01670887961195044,0.016822027714697926,0.016936811638943214,0.01705305643848829,0.01717058342450931,0.01728921043655301,0.017408752121800507,0.017529020222315214,0.017649823869966545,0.017770969888698626,0.017892263103792584,0.01801350665774174,0.018134502332334428,0.018255050876512607,0.0183749523395448,0.018494006409025363,0.018612012753181268,0.018728771366939977,0.01884408292118148,0.01895774911457138,0.01906957302733972,0.019179359476347413,0.019286915370752708,0.019392050067564438,0.019494575726350768,0.019594307662340906,0.01969106469714922,0.019784669506322017,0.01987494896290316,0.019961734476194194,0.02004486232488007,0.020124173983683713,0.020199516442711743,0.02027074251864952,0.02033771115697319,0.02040028772435266,0.020458344290424788,0.02051175989814187,0.02056042082190841,0.020604220812749263,0.02064306132977347,0.02067685175723116,0.020705509606491302,0.02072896070230759,0.020747139352775827,0.020759988502434084,0.020767459867997985,0.020769514056276007,0.02076612066385778,0.02075725835822441,0.02074291493998356,0.020723087385989797,0.020697781873168314,0.020667013782922947,0.02063080768606496,0.020589197308264844,0.020542225476087802,0.020489944043736122,0.0204324138006819,0.020369704360432964,0.02030189403073547,0.020229069665572107,0.020151326499373443,0.020068767963911008,0.019981505488394658,0.01988965828334634,0.019793353108866735,0.01969272402795933,0.019587912145611897,0.019479065334377436,0.019366337947229306,0.01924989051849402,0.019129889453693896,0.01900650670915613,0.018879919462259604,0.018750309773211155,0.01861786423925102,0.018482773642197615,0.018345232590242327,0.018205439154908475,0.018063594504082296,0.01791990253201838,0.017774569487209138,0.017627803598997023,0.01747981470378666,0.017330813871697753,0.017181013034473735,0.01703062461543697,0.016879861162252284,0.016728934983230574,0.01657805778787229,0.01642744033231653,0.016277292070324845,0.0161278208103955,0.015979232379563234,0.01583173029440207,0.01568551543971359,0.015540785755338965,0.015397735931499412,0.015256557113028802,0.015117436612826145,0.014980557634818576,0.014846099006687985,0.014714234922585197,0.014585134696015403,0.014458962523054092,0.01433587725601945,0.014216032187699415,0.014099574846209557,0.013986646800529186,0.013877383476747924,0.013771913985031472,0.013670360957301434,0.013572840395609577,0.01347946153117454,0.01339032669404093,0.013305531193313179,0.013225163207911434,0.013149303687797043,0.013078026265609315,0.01301139717866579,0.012949475201270821,0.012892311587293544,0.01283995002297496,0.012792426589936116,0.012749769738368192,0.01271200027039418,0.012679131333604684,0.012651168424780293,0.012628109403825418,0.01260994451795073,0.012596656436150683,0.012588220294036532,0.012584603749092118,0.012585767046431101,0.012591663095141818,0.01260223755531017,0.01261742893581817,0.012637168703016548,0.012661381400370696,0.012689984779176057,0.012722889940436783,0.012760001487991293,0.012801217692959171,0.012846430669571201,0.012895526562426674,0.01294838574520306,0.01300488303082073,0.01306488789303806,0.013128264699424356,0.013194872955625683,0.01326456756080176,0.013337199074074445,0.013412613991788941,0.01349065503534061,0.013571161449278899,0.013653969309347109,0.013738911840069574,0.013825819741442532,0.013914521524233942,0.014004843853342205,0.01409661189860652,0.014189649692410187,0.014283780493358779,0.014378827155262097,0.014474612500596108,0.01457095969756558,0.014667692639841157,0.014764636327992454,0.014861617251597029,0.014958463770959695,0.015055006497338734,0.015151078670541964,0.015246516532723391,0.015341159697184952,0.015434851510972094,0.015527439410028454,0.015618775265675629,0.015708715721171225,0.015797122517108204,0.015883862804425435,0.015968809443813167,0.016051841290325723,0.016132843462035903,0.016211707591608258,0.016288332059707273,0.016362622209208148,0.01643449053923419,0.016503856878105558,0.01657064853435636,0.01663480042504829,0.016696255180691386,0.0167549632261677,0.016810882837143996,0.016863980171553376,0.01691422927582572,0.016961612065649525,0.017006118281149098,0.017047745416472866,0.017086498623894403,0.017122390592638773,0.017155441402757227,0.017185678354484125,0.017213135773617848,0.017237854793577402,0.017259883114891617,0.017279274742979838,0.017296089705185293,0.017310393748116354,0.017322258016441883,0.017331758714375454,0.017338976751161105,0.017343997371949454,0.017346909775520575,0.01734780672036901,0.017346784120724382,0.01734394063412041,0.017339377242168153,0.017333196826216157,0.017325503739601355,0.01731640337820798,0.01730600175105417,0.017294405052622863,0.017281719238637375,0.017268049606962828,0.01725350038528338,0.017238174327163555,0.017222172318060835,0.01720559299279664,0.017188532365935247,0.017171083476449113,0.0171533360479746,0.017135376165881535,0.01711728597229078,0.017099143380085263,0.017081021806860462,0.01706298992966117,0.017045111461247896,0.017027444948529574,0.017010043593688837,0.016992955098419586,0.016976221531582333,0.016959879220474004,0.016943958665796163,0.016928484480298715,0.016913475350965608,0.016898944024504738,0.01688489731580254,0.016871336138901207,0.016858255559964355,0.016845644871603727,0.01683348768785425,0.01682176205900341,0.016810440605404747,0.01679949066933877,0.016788874483916985,0.016778549357972836,0.016768467875830226,0.016758578110799373,0.016748823851213065,0.016739144837788083,0.016729477011074776,0.01671975276774357,0.01670990122445019,0.01669984848802029,0.016689517930701295,0.01667883046924235,0.01666770484658226,0.01665605791495255,0.01664380491923178,0.016630859779427007,0.016617135371199077,0.01660254380339601,0.016586996691609665,0.016570405426827445,0.016552681438307654,0.01653373644987288,0.016513482728875095,0.016491833327157264,0.016468702313403322,0.01644400499633513,0.016417658138290922,0.01638958015878258,0.01635969132770541,0.016327913947939244,0.016294172527150583,0.01625839393866843,0.016220507571374065,0.016180445468604948,0.016138142456133604,0.016093536259335187,0.01604656760971495,0.015997180341011306,0.015945321475137438,0.015890941298265373,0.015833993427390496,0.015774434867752145,0.015712226061505383,0.015647330928070285,0.01557971689659876,0.015509354931011082,0.015436219548070663,0.015360288828960327,0.015281544424833112,0.015199971556798324,0.015115559010802148,0.015028299127844954,0.014938187789965385,0.014845224402398485,0.014749411872297608,0.014650756584378992,0.014549268373825667,0.014444960496753886,0.01433784959851448,0.014227955680069244,0.014115302062647241,0.013999915350850881,0.013881825394346606,0.01376106524823858,0.01363767113219008,0.013511682388321376,0.013383141437879371,0.013252093736644422,0.013118587729005078,0.012982674800607687,0.012844409229458415,0.012703848135331937,0.012561051427321474,0.012416081749344525,0.012269004423406725,0.01211988739041017,0.0119688011482881,0.011815818687241202,0.011661015421849151,0.01150446911983243,0.011346259827247619,0.011186469789904072,0.011025183370807276,0.010862486963444024,0.010698468900749155,0.010533219359610348,0.010366830260794881,0.010199395164207918,0.0100310091594219,0.009861768751447,0.009691771741747072,0.00952111710453883,0.009349904858448615,0.009178235933637289,0.009006212034540977],\"yaxis\":\"y\",\"type\":\"scatter\",\"fill\":\"tozeroy\",\"hovertemplate\":\"<b>Synthetic</b><br>Value: %{x}<br>Frequency: %{y}<extra></extra>\"}],                        {\"barmode\":\"overlay\",\"hovermode\":\"closest\",\"legend\":{\"traceorder\":\"reversed\"},\"xaxis\":{\"anchor\":\"y2\",\"domain\":[0.0,1.0],\"zeroline\":false,\"title\":{\"text\":\"Value\"}},\"yaxis\":{\"anchor\":\"free\",\"domain\":[0.0,1],\"position\":0.0,\"title\":{\"text\":\"Frequency\"}},\"template\":{\"data\":{\"histogram2dcontour\":[{\"type\":\"histogram2dcontour\",\"colorbar\":{\"outlinewidth\":0,\"ticks\":\"\"},\"colorscale\":[[0.0,\"#0d0887\"],[0.1111111111111111,\"#46039f\"],[0.2222222222222222,\"#7201a8\"],[0.3333333333333333,\"#9c179e\"],[0.4444444444444444,\"#bd3786\"],[0.5555555555555556,\"#d8576b\"],[0.6666666666666666,\"#ed7953\"],[0.7777777777777778,\"#fb9f3a\"],[0.8888888888888888,\"#fdca26\"],[1.0,\"#f0f921\"]]}],\"choropleth\":[{\"type\":\"choropleth\",\"colorbar\":{\"outlinewidth\":0,\"ticks\":\"\"}}],\"histogram2d\":[{\"type\":\"histogram2d\",\"colorbar\":{\"outlinewidth\":0,\"ticks\":\"\"},\"colorscale\":[[0.0,\"#0d0887\"],[0.1111111111111111,\"#46039f\"],[0.2222222222222222,\"#7201a8\"],[0.3333333333333333,\"#9c179e\"],[0.4444444444444444,\"#bd3786\"],[0.5555555555555556,\"#d8576b\"],[0.6666666666666666,\"#ed7953\"],[0.7777777777777778,\"#fb9f3a\"],[0.8888888888888888,\"#fdca26\"],[1.0,\"#f0f921\"]]}],\"heatmap\":[{\"type\":\"heatmap\",\"colorbar\":{\"outlinewidth\":0,\"ticks\":\"\"},\"colorscale\":[[0.0,\"#0d0887\"],[0.1111111111111111,\"#46039f\"],[0.2222222222222222,\"#7201a8\"],[0.3333333333333333,\"#9c179e\"],[0.4444444444444444,\"#bd3786\"],[0.5555555555555556,\"#d8576b\"],[0.6666666666666666,\"#ed7953\"],[0.7777777777777778,\"#fb9f3a\"],[0.8888888888888888,\"#fdca26\"],[1.0,\"#f0f921\"]]}],\"heatmapgl\":[{\"type\":\"heatmapgl\",\"colorbar\":{\"outlinewidth\":0,\"ticks\":\"\"},\"colorscale\":[[0.0,\"#0d0887\"],[0.1111111111111111,\"#46039f\"],[0.2222222222222222,\"#7201a8\"],[0.3333333333333333,\"#9c179e\"],[0.4444444444444444,\"#bd3786\"],[0.5555555555555556,\"#d8576b\"],[0.6666666666666666,\"#ed7953\"],[0.7777777777777778,\"#fb9f3a\"],[0.8888888888888888,\"#fdca26\"],[1.0,\"#f0f921\"]]}],\"contourcarpet\":[{\"type\":\"contourcarpet\",\"colorbar\":{\"outlinewidth\":0,\"ticks\":\"\"}}],\"contour\":[{\"type\":\"contour\",\"colorbar\":{\"outlinewidth\":0,\"ticks\":\"\"},\"colorscale\":[[0.0,\"#0d0887\"],[0.1111111111111111,\"#46039f\"],[0.2222222222222222,\"#7201a8\"],[0.3333333333333333,\"#9c179e\"],[0.4444444444444444,\"#bd3786\"],[0.5555555555555556,\"#d8576b\"],[0.6666666666666666,\"#ed7953\"],[0.7777777777777778,\"#fb9f3a\"],[0.8888888888888888,\"#fdca26\"],[1.0,\"#f0f921\"]]}],\"surface\":[{\"type\":\"surface\",\"colorbar\":{\"outlinewidth\":0,\"ticks\":\"\"},\"colorscale\":[[0.0,\"#0d0887\"],[0.1111111111111111,\"#46039f\"],[0.2222222222222222,\"#7201a8\"],[0.3333333333333333,\"#9c179e\"],[0.4444444444444444,\"#bd3786\"],[0.5555555555555556,\"#d8576b\"],[0.6666666666666666,\"#ed7953\"],[0.7777777777777778,\"#fb9f3a\"],[0.8888888888888888,\"#fdca26\"],[1.0,\"#f0f921\"]]}],\"mesh3d\":[{\"type\":\"mesh3d\",\"colorbar\":{\"outlinewidth\":0,\"ticks\":\"\"}}],\"scatter\":[{\"fillpattern\":{\"fillmode\":\"overlay\",\"size\":10,\"solidity\":0.2},\"type\":\"scatter\"}],\"parcoords\":[{\"type\":\"parcoords\",\"line\":{\"colorbar\":{\"outlinewidth\":0,\"ticks\":\"\"}}}],\"scatterpolargl\":[{\"type\":\"scatterpolargl\",\"marker\":{\"colorbar\":{\"outlinewidth\":0,\"ticks\":\"\"}}}],\"bar\":[{\"error_x\":{\"color\":\"#2a3f5f\"},\"error_y\":{\"color\":\"#2a3f5f\"},\"marker\":{\"line\":{\"color\":\"#E5ECF6\",\"width\":0.5},\"pattern\":{\"fillmode\":\"overlay\",\"size\":10,\"solidity\":0.2}},\"type\":\"bar\"}],\"scattergeo\":[{\"type\":\"scattergeo\",\"marker\":{\"colorbar\":{\"outlinewidth\":0,\"ticks\":\"\"}}}],\"scatterpolar\":[{\"type\":\"scatterpolar\",\"marker\":{\"colorbar\":{\"outlinewidth\":0,\"ticks\":\"\"}}}],\"histogram\":[{\"marker\":{\"pattern\":{\"fillmode\":\"overlay\",\"size\":10,\"solidity\":0.2}},\"type\":\"histogram\"}],\"scattergl\":[{\"type\":\"scattergl\",\"marker\":{\"colorbar\":{\"outlinewidth\":0,\"ticks\":\"\"}}}],\"scatter3d\":[{\"type\":\"scatter3d\",\"line\":{\"colorbar\":{\"outlinewidth\":0,\"ticks\":\"\"}},\"marker\":{\"colorbar\":{\"outlinewidth\":0,\"ticks\":\"\"}}}],\"scattermapbox\":[{\"type\":\"scattermapbox\",\"marker\":{\"colorbar\":{\"outlinewidth\":0,\"ticks\":\"\"}}}],\"scatterternary\":[{\"type\":\"scatterternary\",\"marker\":{\"colorbar\":{\"outlinewidth\":0,\"ticks\":\"\"}}}],\"scattercarpet\":[{\"type\":\"scattercarpet\",\"marker\":{\"colorbar\":{\"outlinewidth\":0,\"ticks\":\"\"}}}],\"carpet\":[{\"aaxis\":{\"endlinecolor\":\"#2a3f5f\",\"gridcolor\":\"white\",\"linecolor\":\"white\",\"minorgridcolor\":\"white\",\"startlinecolor\":\"#2a3f5f\"},\"baxis\":{\"endlinecolor\":\"#2a3f5f\",\"gridcolor\":\"white\",\"linecolor\":\"white\",\"minorgridcolor\":\"white\",\"startlinecolor\":\"#2a3f5f\"},\"type\":\"carpet\"}],\"table\":[{\"cells\":{\"fill\":{\"color\":\"#EBF0F8\"},\"line\":{\"color\":\"white\"}},\"header\":{\"fill\":{\"color\":\"#C8D4E3\"},\"line\":{\"color\":\"white\"}},\"type\":\"table\"}],\"barpolar\":[{\"marker\":{\"line\":{\"color\":\"#E5ECF6\",\"width\":0.5},\"pattern\":{\"fillmode\":\"overlay\",\"size\":10,\"solidity\":0.2}},\"type\":\"barpolar\"}],\"pie\":[{\"automargin\":true,\"type\":\"pie\"}]},\"layout\":{\"autotypenumbers\":\"strict\",\"colorway\":[\"#636efa\",\"#EF553B\",\"#00cc96\",\"#ab63fa\",\"#FFA15A\",\"#19d3f3\",\"#FF6692\",\"#B6E880\",\"#FF97FF\",\"#FECB52\"],\"font\":{\"color\":\"#2a3f5f\"},\"hovermode\":\"closest\",\"hoverlabel\":{\"align\":\"left\"},\"paper_bgcolor\":\"white\",\"plot_bgcolor\":\"#E5ECF6\",\"polar\":{\"bgcolor\":\"#E5ECF6\",\"angularaxis\":{\"gridcolor\":\"white\",\"linecolor\":\"white\",\"ticks\":\"\"},\"radialaxis\":{\"gridcolor\":\"white\",\"linecolor\":\"white\",\"ticks\":\"\"}},\"ternary\":{\"bgcolor\":\"#E5ECF6\",\"aaxis\":{\"gridcolor\":\"white\",\"linecolor\":\"white\",\"ticks\":\"\"},\"baxis\":{\"gridcolor\":\"white\",\"linecolor\":\"white\",\"ticks\":\"\"},\"caxis\":{\"gridcolor\":\"white\",\"linecolor\":\"white\",\"ticks\":\"\"}},\"coloraxis\":{\"colorbar\":{\"outlinewidth\":0,\"ticks\":\"\"}},\"colorscale\":{\"sequential\":[[0.0,\"#0d0887\"],[0.1111111111111111,\"#46039f\"],[0.2222222222222222,\"#7201a8\"],[0.3333333333333333,\"#9c179e\"],[0.4444444444444444,\"#bd3786\"],[0.5555555555555556,\"#d8576b\"],[0.6666666666666666,\"#ed7953\"],[0.7777777777777778,\"#fb9f3a\"],[0.8888888888888888,\"#fdca26\"],[1.0,\"#f0f921\"]],\"sequentialminus\":[[0.0,\"#0d0887\"],[0.1111111111111111,\"#46039f\"],[0.2222222222222222,\"#7201a8\"],[0.3333333333333333,\"#9c179e\"],[0.4444444444444444,\"#bd3786\"],[0.5555555555555556,\"#d8576b\"],[0.6666666666666666,\"#ed7953\"],[0.7777777777777778,\"#fb9f3a\"],[0.8888888888888888,\"#fdca26\"],[1.0,\"#f0f921\"]],\"diverging\":[[0,\"#8e0152\"],[0.1,\"#c51b7d\"],[0.2,\"#de77ae\"],[0.3,\"#f1b6da\"],[0.4,\"#fde0ef\"],[0.5,\"#f7f7f7\"],[0.6,\"#e6f5d0\"],[0.7,\"#b8e186\"],[0.8,\"#7fbc41\"],[0.9,\"#4d9221\"],[1,\"#276419\"]]},\"xaxis\":{\"gridcolor\":\"white\",\"linecolor\":\"white\",\"ticks\":\"\",\"title\":{\"standoff\":15},\"zerolinecolor\":\"white\",\"automargin\":true,\"zerolinewidth\":2},\"yaxis\":{\"gridcolor\":\"white\",\"linecolor\":\"white\",\"ticks\":\"\",\"title\":{\"standoff\":15},\"zerolinecolor\":\"white\",\"automargin\":true,\"zerolinewidth\":2},\"scene\":{\"xaxis\":{\"backgroundcolor\":\"#E5ECF6\",\"gridcolor\":\"white\",\"linecolor\":\"white\",\"showbackground\":true,\"ticks\":\"\",\"zerolinecolor\":\"white\",\"gridwidth\":2},\"yaxis\":{\"backgroundcolor\":\"#E5ECF6\",\"gridcolor\":\"white\",\"linecolor\":\"white\",\"showbackground\":true,\"ticks\":\"\",\"zerolinecolor\":\"white\",\"gridwidth\":2},\"zaxis\":{\"backgroundcolor\":\"#E5ECF6\",\"gridcolor\":\"white\",\"linecolor\":\"white\",\"showbackground\":true,\"ticks\":\"\",\"zerolinecolor\":\"white\",\"gridwidth\":2}},\"shapedefaults\":{\"line\":{\"color\":\"#2a3f5f\"}},\"annotationdefaults\":{\"arrowcolor\":\"#2a3f5f\",\"arrowhead\":0,\"arrowwidth\":1},\"geo\":{\"bgcolor\":\"white\",\"landcolor\":\"#E5ECF6\",\"subunitcolor\":\"white\",\"showland\":true,\"showlakes\":true,\"lakecolor\":\"white\"},\"title\":{\"x\":0.05},\"mapbox\":{\"style\":\"light\"}}},\"title\":{\"text\":\"Real vs. Synthetic Data for column Age\"},\"plot_bgcolor\":\"#F5F5F8\"},                        {\"responsive\": true}                    ).then(function(){\n",
              "                            \n",
              "var gd = document.getElementById('890fecdf-d117-4c59-ad07-ed6f71d5ff21');\n",
              "var x = new MutationObserver(function (mutations, observer) {{\n",
              "        var display = window.getComputedStyle(gd).display;\n",
              "        if (!display || display === 'none') {{\n",
              "            console.log([gd, 'removed!']);\n",
              "            Plotly.purge(gd);\n",
              "            observer.disconnect();\n",
              "        }}\n",
              "}});\n",
              "\n",
              "// Listen for the removal of the full notebook cells\n",
              "var notebookContainer = gd.closest('#notebook-container');\n",
              "if (notebookContainer) {{\n",
              "    x.observe(notebookContainer, {childList: true});\n",
              "}}\n",
              "\n",
              "// Listen for the clearing of the current output cell\n",
              "var outputEl = gd.closest('.output');\n",
              "if (outputEl) {{\n",
              "    x.observe(outputEl, {childList: true});\n",
              "}}\n",
              "\n",
              "                        })                };                            </script>        </div>\n",
              "</body>\n",
              "</html>"
            ]
          },
          "metadata": {}
        }
      ]
    },
    {
      "cell_type": "code",
      "source": [
        "get_column_plot(\n",
        "    real_data=data,\n",
        "    synthetic_data=sample,\n",
        "    metadata=my_metadata,\n",
        "    column_name=\"Experience\"\n",
        ")"
      ],
      "metadata": {
        "colab": {
          "base_uri": "https://localhost:8080/",
          "height": 542
        },
        "id": "XdaVLHmU25nH",
        "outputId": "25c97c26-1e1d-465c-aaad-31b516000a95"
      },
      "execution_count": 28,
      "outputs": [
        {
          "output_type": "display_data",
          "data": {
            "text/html": [
              "<html>\n",
              "<head><meta charset=\"utf-8\" /></head>\n",
              "<body>\n",
              "    <div>            <script src=\"https://cdnjs.cloudflare.com/ajax/libs/mathjax/2.7.5/MathJax.js?config=TeX-AMS-MML_SVG\"></script><script type=\"text/javascript\">if (window.MathJax && window.MathJax.Hub && window.MathJax.Hub.Config) {window.MathJax.Hub.Config({SVG: {font: \"STIX-Web\"}});}</script>                <script type=\"text/javascript\">window.PlotlyConfig = {MathJaxConfig: 'local'};</script>\n",
              "        <script src=\"https://cdn.plot.ly/plotly-2.18.2.min.js\"></script>                <div id=\"2a213726-55a6-4ce0-a5f7-452fcde171d6\" class=\"plotly-graph-div\" style=\"height:525px; width:100%;\"></div>            <script type=\"text/javascript\">                                    window.PLOTLYENV=window.PLOTLYENV || {};                                    if (document.getElementById(\"2a213726-55a6-4ce0-a5f7-452fcde171d6\")) {                    Plotly.newPlot(                        \"2a213726-55a6-4ce0-a5f7-452fcde171d6\",                        [{\"legendgroup\":\"Real\",\"marker\":{\"color\":\"#000036\"},\"mode\":\"lines\",\"name\":\"Real\",\"showlegend\":true,\"x\":[0.0,0.04,0.08,0.12,0.16,0.2,0.24,0.28,0.32,0.36,0.4,0.44,0.48,0.52,0.56,0.6,0.64,0.68,0.72,0.76,0.8,0.84,0.88,0.92,0.96,1.0,1.04,1.08,1.12,1.16,1.2,1.24,1.28,1.32,1.36,1.4,1.44,1.48,1.52,1.56,1.6,1.64,1.68,1.72,1.76,1.8,1.84,1.88,1.92,1.96,2.0,2.04,2.08,2.12,2.16,2.2,2.24,2.28,2.32,2.36,2.4,2.44,2.48,2.52,2.56,2.6,2.64,2.68,2.72,2.76,2.8,2.84,2.88,2.92,2.96,3.0,3.04,3.08,3.12,3.16,3.2,3.24,3.28,3.32,3.36,3.4,3.44,3.48,3.52,3.56,3.6,3.64,3.68,3.72,3.76,3.8,3.84,3.88,3.92,3.96,4.0,4.04,4.08,4.12,4.16,4.2,4.24,4.28,4.32,4.36,4.4,4.44,4.48,4.52,4.56,4.6,4.64,4.68,4.72,4.76,4.8,4.84,4.88,4.92,4.96,5.0,5.04,5.08,5.12,5.16,5.2,5.24,5.28,5.32,5.36,5.4,5.44,5.48,5.52,5.56,5.6,5.64,5.68,5.72,5.76,5.8,5.84,5.88,5.92,5.96,6.0,6.04,6.08,6.12,6.16,6.2,6.24,6.28,6.32,6.36,6.4,6.44,6.48,6.52,6.56,6.6,6.64,6.68,6.72,6.76,6.8,6.84,6.88,6.92,6.96,7.0,7.04,7.08,7.12,7.16,7.2,7.24,7.28,7.32,7.36,7.4,7.44,7.48,7.52,7.56,7.6,7.64,7.68,7.72,7.76,7.8,7.84,7.88,7.92,7.96,8.0,8.04,8.08,8.12,8.16,8.2,8.24,8.28,8.32,8.36,8.4,8.44,8.48,8.52,8.56,8.6,8.64,8.68,8.72,8.76,8.8,8.84,8.88,8.92,8.96,9.0,9.04,9.08,9.12,9.16,9.2,9.24,9.28,9.32,9.36,9.4,9.44,9.48,9.52,9.56,9.6,9.64,9.68,9.72,9.76,9.8,9.84,9.88,9.92,9.96,10.0,10.04,10.08,10.12,10.16,10.2,10.24,10.28,10.32,10.36,10.4,10.44,10.48,10.52,10.56,10.6,10.64,10.68,10.72,10.76,10.8,10.84,10.88,10.92,10.96,11.0,11.04,11.08,11.12,11.16,11.2,11.24,11.28,11.32,11.36,11.4,11.44,11.48,11.52,11.56,11.6,11.64,11.68,11.72,11.76,11.8,11.84,11.88,11.92,11.96,12.0,12.04,12.08,12.12,12.16,12.2,12.24,12.28,12.32,12.36,12.4,12.44,12.48,12.52,12.56,12.6,12.64,12.68,12.72,12.76,12.8,12.84,12.88,12.92,12.96,13.0,13.04,13.08,13.12,13.16,13.2,13.24,13.28,13.32,13.36,13.4,13.44,13.48,13.52,13.56,13.6,13.64,13.68,13.72,13.76,13.8,13.84,13.88,13.92,13.96,14.0,14.04,14.08,14.12,14.16,14.2,14.24,14.28,14.32,14.36,14.4,14.44,14.48,14.52,14.56,14.6,14.64,14.68,14.72,14.76,14.8,14.84,14.88,14.92,14.96,15.0,15.04,15.08,15.12,15.16,15.2,15.24,15.28,15.32,15.36,15.4,15.44,15.48,15.52,15.56,15.6,15.64,15.68,15.72,15.76,15.8,15.84,15.88,15.92,15.96,16.0,16.04,16.08,16.12,16.16,16.2,16.24,16.28,16.32,16.36,16.4,16.44,16.48,16.52,16.56,16.6,16.64,16.68,16.72,16.76,16.8,16.84,16.88,16.92,16.96,17.0,17.04,17.08,17.12,17.16,17.2,17.24,17.28,17.32,17.36,17.4,17.44,17.48,17.52,17.56,17.6,17.64,17.68,17.72,17.76,17.8,17.84,17.88,17.92,17.96,18.0,18.04,18.08,18.12,18.16,18.2,18.24,18.28,18.32,18.36,18.4,18.44,18.48,18.52,18.56,18.6,18.64,18.68,18.72,18.76,18.8,18.84,18.88,18.92,18.96,19.0,19.04,19.08,19.12,19.16,19.2,19.24,19.28,19.32,19.36,19.4,19.44,19.48,19.52,19.56,19.6,19.64,19.68,19.72,19.76,19.8,19.84,19.88,19.92,19.96],\"xaxis\":\"x\",\"y\":[0.039977976156406664,0.040710340564289835,0.04132157467610517,0.04182181709116206,0.04222375342190968,0.04254201506574891,0.04279249093575515,0.04299158565838753,0.04315546151763799,0.04329930315050309,0.043436643505359085,0.04357878682486145,0.04373435951614952,0.043909012960902404,0.04410529397856486,0.04432268925165637,0.044557840117870076,0.04480491432101576,0.04505611219059933,0.04530227686176185,0.045533572044955596,0.04574018690047112,0.04591302603320285,0.04604434360892973,0.04612828406020558,0.0461612976057205,0.04614240649865359,0.0460733070886303,0.04595830286239909,0.045804073998597115,0.045619298991335024,0.045414152944200085,0.045199714643825904,0.04498732002790805,0.044787902819264265,0.04461136371047286,0.04446600751451484,0.044358083272240056,0.04429145570041043,0.04426742799864539,0.044284726423215584,0.0443396467940281,0.04442635286729208,0.044537306918082276,0.04466380454585053,0.044796579156157784,0.04492643720048364,0.04504488334592946,0.045144695421037544,0.045220412196062,0.04526870261324339,0.045288592626074604,0.04528153487237638,0.045251316419320765,0.04520381014798018,0.04514658534473462,0.04508840210139934,0.04503862162329553,0.04500657003222445,0.045000896373802994,0.04502896609559488,0.04509632921060727,0.04520629782244557,0.04535966093871889,0.04555455596456558,0.04578650646772851,0.04604862536419013,0.046331972242488445,0.04662604377235279,0.046919367663237115,0.04720016397428567,0.04745703316197355,0.047679628370155214,0.04785927024535587,0.047989465955720456,0.0480662999064138,0.04808867150909817,0.04805836479975796,0.047979945113905055,0.04786048876732625,0.04770916208503552,0.04753667551536982,0.047354646363571895,0.04717490939665964,0.047008817836933746,0.046866577872567275,0.0467566577264203,0.04668530766660369,0.04665622040124519,0.046670352518200425,0.04672591754197808,0.04681855043299844,0.0469416326157246,0.04708675656083168,0.047244300209353524,0.047404074649241706,0.047556003878599595,0.04769079350284188,0.04780054594203226,0.0478792831241595,0.047923343505288075,0.04793162821178496,0.04790568065444041,0.04784959451488413,0.047769755886065024,0.04767443588029789,0.047573259535022554,0.047476584740842806,0.04739483069833641,0.047337798700609925,0.047314028631517215,0.04733023241856532,0.047390840914728165,0.04749769359500592,0.04764989149167319,0.04784382350067961,0.04807336523086506,0.048330238619869396,0.048604510289518475,0.04888519772308468,0.049160945367061275,0.04942072814680175,0.04965453793576641,0.049854009365663886,0.05001294496461577,0.0501277057535466,0.05019744173013754,0.050224146621791955,0.05021253226874416,0.05016972931816555,0.05010483186387633,0.05002831356346687,0.04995135097388235,0.049885095857540994,0.04983994162850834,0.04982482971621149,0.04984663937369037,0.04990969948136303,0.05001545349724105,0.05016229934718837,0.05034561529860329,0.05055797140333028,0.0507895146392011,0.05102850513171127,0.05126197148770207,0.05147644588855076,0.051658734642940456,0.051796677694590364,0.051879851254787994,0.05190017123635256,0.05185236128959508,0.05173425758392831,0.051546932528182196,0.05129463074009654,0.05098452206456614,0.05062628758704844,0.05023156469904435,0.04981328571468383,0.049384950804173315,0.04895987971101073,0.0485504876456485,0.04816762885571361,0.04782004679709411,0.04751396287238136,0.04725282682251162,0.04703724160586611,0.04686506464274139,0.04673167632432311,0.046630396364387816,0.04655301956456818,0.04649043540869715,0.0464332910417668,0.046372654909361107,0.04630063875893393,0.046210938786305916,0.04609926224432743,0.04596361344129851,0.04580442226217173,0.045624508551909505,0.04542888625656039,0.0452244214620101,0.0450193677553477,0.04482281007459861,0.04464405393554488,0.044492000266880175,0.044374546850175216,0.04429805550667276,0.04426691982297992,0.04428326164128373,0.044346776184231426,0.04445473605786376,0.0446021541028208,0.04478209479003395,0.04498611422798789,0.04520480048951101,0.045428379395081875,0.045647346534846055,0.0458530844523706,0.04603842467430287,0.04619811760959366,0.04632917906308212,0.04643108984860356,0.04650583427281403,0.04655777350769966,0.04659336042989292,0.046620712716768306,0.04664907020221957,0.04668817011549668,0.046747579372939344,0.046836026191078996,0.046960773736213955,0.04712707627207275,0.04733775343880247,0.04759291117804142,0.047889828852876584,0.048223021835304566,0.04858447790098899,0.04896405485952441,0.04935001663733094,0.04972967618265572,0.05009010662670867,0.05041887756796425,0.05070477144721498,0.05093843588276567,0.05111293149505627,0.05122414095926409,0.051271013395038915,0.05125562823091183,0.05118307373931103,0.051061146837374886,0.05089989178024963,0.05071100534583017,0.05050714438950294,0.05030117772501401,0.050105427767874806,0.049930948046599866,0.049786880497871555,0.04967993154899827,0.04961399865809996,0.04958996969710725,0.049605706887498914,0.049656215618573335,0.049733987095428575,0.04982949308251736,0.04993180171006025,0.050029275955746,0.05011031146721766,0.05016406815191719,0.05018115056239338,0.05015419549868212,0.05007833122067171,0.04995148081933857,0.04977449212944666,0.049551087450096586,0.04928763758697386,0.048992775639868286,0.04867687584791015,0.04835143105202398,0.04802836844001411,0.047719346820769594,0.04743507952336623,0.0471847250909037,0.04697538337130215,0.04681172769373094,0.04669579501345459,0.04662694575556792,0.046601994248897397,0.04661549979343561,0.046660198224938144,0.04672754498321911,0.04680833369552119,0.046893349598598824,0.04697401503068726,0.04704298485534628,0.04709465298671029,0.04712553696494599,0.04713451540463055,0.04712290261930504,0.04709435520862435,0.047054616216663285,0.04701111295275996,0.04697243404505136,0.04694771916701646,0.0469460006488136,0.04697553947943355,0.04704319881567411,0.0471538959922816,0.047310169300580546,0.04751188875888142,0.04775613118225503,0.04803722961248658,0.04834699624702405,0.04867510708778558,0.049009626296207184,0.0493376393522855,0.04964595711936885,0.04992184826800879,0.050153755507739047,0.05033195184849672,0.05044909661998139,0.05050065701048958,0.05048516906283877,0.050404321885572256,0.05026285968374531,0.05006830740529083,0.04983053663976848,0.049561198215876776,0.049273056101932784,0.048979263220314956,0.04869262325670119,0.048424883269832145,0.048186099842801484,0.0479841167958575,0.04782418540070608,0.0477087490542551,0.04763740403553132,0.047607036949514375,0.04761212844038498,0.04764520241838912,0.04769739105089495,0.047759078664427156,0.047820582940367146,0.047872829654006244,0.04790797783247793,0.04791995554452511,0.04790487237545156,0.04786128260181026,0.04779028266837963,0.04769543717397173,0.04758253852244432,0.047459216006132524,0.047334419691672756,0.04721781246379709,0.047119109459539996,0.04704740751374688,0.047010547930538896,0.04701455384852596,0.04706317880833048,0.04715759614965433,0.047296250008674316,0.04747487849602971,0.047686708766866384,0.04792281282437643,0.04817260270471883,0.0484244348320717,0.048666286351479654,0.048886461595105485,0.04907428480755571,0.04922073597979422,0.049318990074424265,0.04936482586204577,0.049356878648233155,0.049296720859691216,0.04918876516347141,0.04903999584159487,0.048859544846090064,0.04865813864222899,0.048447449997004156,0.04823939479012297,0.048045417333684316,0.04787580837691527,0.047739097898617286,0.047641560083077635,0.04758686082890649,0.04757586920658739,0.04760664400501132,0.04767459555085365,0.04777281202848983,0.04789252925239268,0.048023713908735895,0.04815572323187589,0.04827799936435347,0.04838075455801518,0.04845560403764786,0.04849610672107366,0.048498179863606564,0.04846036168861013,0.04838390568619386,0.04827270089776115,0.04813302348443806,0.04797313551684111,0.04780275655208982,0.04763244157138753,0.04747290474596978,0.04733433190072116,0.04722572524739275,0.047154321917865234,0.047125123171597894,0.047140564171548355,0.04720034536777219,0.047301436339000955,0.047438252076282945,0.047602990825647874,0.04778611241574035,0.04797692713779019,0.04816425826108859,0.04833713660600109,0.0484854835499395,0.048600739539489554,0.04867639857881854,0.048708415054740495,0.04869545726241127,0.04863899162037215,0.04854319219936667,0.048414681165782326,0.04826211637209655,0.04809565194263521,0.04792630569269351,0.04776527308938925,0.047623230833005785,0.04750967380135725,0.04743232701148466,0.04739666954285942,0.04740560032643339,0.04745926678492594,0.047555067055509215,0.04768782559650351,0.04785013105485079,0.04803281503173324,0.04822554149001294,0.048417469544480285,0.04859794771562578,0.04875719570338646,0.04888693047945986,0.048980896959981715,0.049035269496642,0.04904889853078964,0.0490233864946029,0.048962987800355615,0.04887433885596084,0.048766034789233,0.048648079276833144,0.048531241937976796,0.04842636366861355,0.04834365367241866,0.048292022580729184,0.04827849389773786,0.04830773118986524,0.048381711256428324,0.048499564427998895,0.04865759269063187,0.04884946520098999,0.04906657962655313,0.049298567313182245,0.04953391121801372,0.04976063840596,0.049967044153645036,0.05014240263305431,0.05027761989361115,0.050365788380872904,0.05040260830841249,0.05038664945210512,0.05031943685267657,0.05020535487070867,0.05005137534810171,0.04986662658748953,0.04966182977843564,0.049448637748489434,0.04923891699337358,0.049044017451315806,0.04887407522278292,0.04873739134833435,0.04863992497916573,0.048584932106611974,0.04857277191446489,0.04860089234196819,0.04866399526393256,0.0487543705009073,0.04886237736119866,0.0489770432541661,0.04908674165556724,0.049179906809315214,0.0492457403088254,0.04927486525036464,0.04925988694678392,0.049195825021464024,0.04908038969315414,0.048914084715926655,0.04870013014416796,0.04844420918555618,0.0481540541992734,0.047838896729370535,0.047508814730805975,0.047174016361759004,0.04684410350533204,0.04652735934454302,0.04623010280017189,0.04595614856989687,0.04570640516209068,0.045478635113634466,0.04526739203611603,0.0450641388543521,0.04485754121443552,0.0446339201665845,0.04437783946455115,0.044072795653027956,0.043701973938556966,0.04324902990474679,0.04269885655224043,0.042038297877715416],\"yaxis\":\"y\",\"type\":\"scatter\",\"fill\":\"tozeroy\",\"hovertemplate\":\"<b>Real</b><br>Value: %{x}<br>Frequency: %{y}<extra></extra>\"},{\"legendgroup\":\"Synthetic\",\"marker\":{\"color\":\"#01E0C9\"},\"mode\":\"lines\",\"name\":\"Synthetic\",\"showlegend\":true,\"x\":[0.0,0.04,0.08,0.12,0.16,0.2,0.24,0.28,0.32,0.36,0.4,0.44,0.48,0.52,0.56,0.6,0.64,0.68,0.72,0.76,0.8,0.84,0.88,0.92,0.96,1.0,1.04,1.08,1.12,1.16,1.2,1.24,1.28,1.32,1.36,1.4,1.44,1.48,1.52,1.56,1.6,1.64,1.68,1.72,1.76,1.8,1.84,1.88,1.92,1.96,2.0,2.04,2.08,2.12,2.16,2.2,2.24,2.28,2.32,2.36,2.4,2.44,2.48,2.52,2.56,2.6,2.64,2.68,2.72,2.76,2.8,2.84,2.88,2.92,2.96,3.0,3.04,3.08,3.12,3.16,3.2,3.24,3.28,3.32,3.36,3.4,3.44,3.48,3.52,3.56,3.6,3.64,3.68,3.72,3.76,3.8,3.84,3.88,3.92,3.96,4.0,4.04,4.08,4.12,4.16,4.2,4.24,4.28,4.32,4.36,4.4,4.44,4.48,4.52,4.56,4.6,4.64,4.68,4.72,4.76,4.8,4.84,4.88,4.92,4.96,5.0,5.04,5.08,5.12,5.16,5.2,5.24,5.28,5.32,5.36,5.4,5.44,5.48,5.52,5.56,5.6,5.64,5.68,5.72,5.76,5.8,5.84,5.88,5.92,5.96,6.0,6.04,6.08,6.12,6.16,6.2,6.24,6.28,6.32,6.36,6.4,6.44,6.48,6.52,6.56,6.6,6.64,6.68,6.72,6.76,6.8,6.84,6.88,6.92,6.96,7.0,7.04,7.08,7.12,7.16,7.2,7.24,7.28,7.32,7.36,7.4,7.44,7.48,7.52,7.56,7.6,7.64,7.68,7.72,7.76,7.8,7.84,7.88,7.92,7.96,8.0,8.04,8.08,8.12,8.16,8.2,8.24,8.28,8.32,8.36,8.4,8.44,8.48,8.52,8.56,8.6,8.64,8.68,8.72,8.76,8.8,8.84,8.88,8.92,8.96,9.0,9.04,9.08,9.12,9.16,9.2,9.24,9.28,9.32,9.36,9.4,9.44,9.48,9.52,9.56,9.6,9.64,9.68,9.72,9.76,9.8,9.84,9.88,9.92,9.96,10.0,10.04,10.08,10.12,10.16,10.2,10.24,10.28,10.32,10.36,10.4,10.44,10.48,10.52,10.56,10.6,10.64,10.68,10.72,10.76,10.8,10.84,10.88,10.92,10.96,11.0,11.04,11.08,11.12,11.16,11.2,11.24,11.28,11.32,11.36,11.4,11.44,11.48,11.52,11.56,11.6,11.64,11.68,11.72,11.76,11.8,11.84,11.88,11.92,11.96,12.0,12.04,12.08,12.12,12.16,12.2,12.24,12.28,12.32,12.36,12.4,12.44,12.48,12.52,12.56,12.6,12.64,12.68,12.72,12.76,12.8,12.84,12.88,12.92,12.96,13.0,13.04,13.08,13.12,13.16,13.2,13.24,13.28,13.32,13.36,13.4,13.44,13.48,13.52,13.56,13.6,13.64,13.68,13.72,13.76,13.8,13.84,13.88,13.92,13.96,14.0,14.04,14.08,14.12,14.16,14.2,14.24,14.28,14.32,14.36,14.4,14.44,14.48,14.52,14.56,14.6,14.64,14.68,14.72,14.76,14.8,14.84,14.88,14.92,14.96,15.0,15.04,15.08,15.12,15.16,15.2,15.24,15.28,15.32,15.36,15.4,15.44,15.48,15.52,15.56,15.6,15.64,15.68,15.72,15.76,15.8,15.84,15.88,15.92,15.96,16.0,16.04,16.08,16.12,16.16,16.2,16.24,16.28,16.32,16.36,16.4,16.44,16.48,16.52,16.56,16.6,16.64,16.68,16.72,16.76,16.8,16.84,16.88,16.92,16.96,17.0,17.04,17.08,17.12,17.16,17.2,17.24,17.28,17.32,17.36,17.4,17.44,17.48,17.52,17.56,17.6,17.64,17.68,17.72,17.76,17.8,17.84,17.88,17.92,17.96,18.0,18.04,18.08,18.12,18.16,18.2,18.24,18.28,18.32,18.36,18.4,18.44,18.48,18.52,18.56,18.6,18.64,18.68,18.72,18.76,18.8,18.84,18.88,18.92,18.96,19.0,19.04,19.08,19.12,19.16,19.2,19.24,19.28,19.32,19.36,19.4,19.44,19.48,19.52,19.56,19.6,19.64,19.68,19.72,19.76,19.8,19.84,19.88,19.92,19.96],\"xaxis\":\"x\",\"y\":[0.02326764560494208,0.023528508117591256,0.023780836046562302,0.02402452422907844,0.024259490321868804,0.02448567478894302,0.024703040799193977,0.024911574036073282,0.025111282422133556,0.025302195761763832,0.025484365305937118,0.02565786324326174,0.025822782122051084,0.02597923420852273,0.026127350786576208,0.026267281404905696,0.026399193077457896,0.026523269443437216,0.026639709893232916,0.026748728666721875,0.026850553930464736,0.02694542684030259,0.027033600595802527,0.027115339492903023,0.027190917980942177,0.027260619730052126,0.027324736714658578,0.02738356831851255,0.02743742046636679,0.02748660478702236,0.02753143781206947,0.027572240214206685,0.0276093360885614,0.027643052279943493,0.027673717758460524,0.027701663045398853,0.027727219690751335,0.02775071980322554,0.027772495633039213,0.027792879207264972,0.027812202016965017,0.02783079475483395,0.027848987101568964,0.027867107558702205,0.027885483325166178,0.027904440214432263,0.027924302608651794,0.027945393445856715,0.02796803423593482,0.02799254510079288,0.028019244833853853,0.028048450973818063,0.028080479887422,0.028115646855809546,0.028154266159020037,0.028196651153062316,0.028243114334032003,0.02829396738377653,0.02834952119170188,0.02841008584744326,0.02847597059930372,0.02854748377358538,0.028624932650192326,0.028708623290204637,0.02879886031144304,0.028895946608439894,0.029000183013642596,0.029111867897110746,0.029231296702465066,0.029358761417333068,0.029494549977074014,0.02963894560111992,0.029792226061828086,0.029954662886342593,0.030126520492543985,0.030308055260785095,0.030499514543720834,0.030701135617145103,0.03091314457537533,0.03113575517531509,0.03136916763393431,0.03161356738448017,0.03186912379729803,0.03213598887169314,0.032414295905767374,0.03270415815166395,0.033005667464104334,0.03331889295051587,0.033643879631430465,0.03398064712015619,0.03432918833101992,0.03468946822569738,0.035061422607328994,0.035444956972242286,0.03583994542915059,0.03624622969570158,0.03666361818217458,0.03709188517199002,0.037530770108491096,0.03797997699718679,0.038439173932289086,0.03890799275599077,0.03938602885841594,0.03987284112565288,0.04036795204264486,0.04087084795704035,0.04138097950935633,0.04189776223400549,0.04242057733487722,0.042948772638254654,0.04348166372488239,0.04401853524201049,0.044558642395189786,0.04510121261853948,0.04564544742110496,0.046190524405821734,0.04673559945647861,0.047279809086959286,0.0478222729459221,0.048362096468968455,0.04889837366929352,0.049430190056734075,0.0499566256741332,0.05047675823897903,0.05098966637734336,0.0514944329363087,0.051990148360291755,0.05247591411595084,0.05295084614975053,0.05341407836171786,0.053864766078482854,0.05430208950834401,0.054725257160873016,0.05513350921341888,0.05552612080686461,0.055902405253054344,0.05626171713652176,0.05660345529344494,0.05692706565117877,0.05723204391224025,0.057517938067255,0.05778435072211258,0.05803094122541669,0.058257427583243204,0.05846358814924019,0.0586492630791982,0.0588143555404149,0.058958832667379425,0.05908272625665061,0.059186133195119936,0.05926921561723738,0.0593322007882264,0.05937538071172829,0.0593991114617766,0.059403812240460305,0.05938996416407976,0.05935810878200603,0.059308846333884654,0.05924283375215564,0.059160782418193336,0.059063455681624584,0.05895166615357813,0.058826272785757895,0.05868817774827265,0.058538323120132435,0.058377687407202755,0.05820728190320506,0.058028146910038096,0.05784134783431093,0.05764797117746061,0.057449120437241805,0.057245911938662256,0.0570394706126474,0.056830925740796824,0.05662140668462921,0.056412038617574344,0.05620393827782523,0.055998209759871,0.05579594036216712,0.05559819650798806,0.05540601975597697,0.05522042291633256,0.05504238628794876,0.054872854031105416,0.05471273068957593,0.054562877875217956,0.05442411112728715,0.05429719695784151,0.05418285009372893,0.05408173092471664,0.05399444316640747,0.05392153174564111,0.053863480915126466,0.05382071260311374,0.0537935850029461,0.0537823914064036,0.05378735928381248,0.05380864961294962,0.05384635645789831,0.05390050679807526,0.05397106060679087,0.054057911177844135,0.05416088569781324,0.05427974606086392,0.05441418992213626,0.05456385198496278,0.0547283055164199,0.05490706408500672,0.05509958351350889,0.055305264039432575,0.05552345267472509,0.055753445755874785,0.05599449167483329,0.056245793780658575,0.056506513441164155,0.056775773253353166,0.0570526603908853,0.05733623007633976,0.057625509165597485,0.057919499831211765,0.05821718333127188,0.0585175238498979,0.058819472395175605,0.05912197074007701,0.05942395539167297,0.05972436157373109,0.06002212720767783,0.06031619687679433,0.06060552575845811,0.060889083509293285,0.061165858088134906,0.06143485950184098,0.06169512345921366,0.06194571491850656,0.06218573151434903,0.062414306850293456,0.06263061364364793,0.06283386670978891,0.06302332577373201,0.0631982980973961,0.0633581409117203,0.06350226364357955,0.06363012992828684,0.06374125939937422,0.06383522924830787,0.0639116755477919,0.06397029433337628,0.06401084243916962,0.06403313808459982,0.06403706121031304,0.06402255356247663,0.06398961852595947,0.06393832070806656,0.06386878527569234,0.06378119704997039,0.0636757993636914,0.06355289268788768,0.0634128330351537,0.06325603014835167,0.0630829454843872,0.0628940900037685,0.06269002177757829,0.062471343424373,0.06223869939032306,0.061992773086636345,0.06173428389894662,0.061463984083903876,0.06118265556867343,0.06089110666941991,0.0605901687451204,0.06028069280323419,0.05996354607382873,0.0596396085687383,0.05930976964220304,0.05897492456923095,0.05863597115757841,0.058293806408863114,0.05794932324380932,0.05760340730602035,0.05725693385804035,0.05691076478269385,0.05656574570187914,0.05622270322412988,0.055882442331309526,0.05554574391382286,0.0552133624626982,0.054886023925849715,0.054564423734716726,0.054249225006403105,0.0539410569253006,0.0536405133070794,0.05334815134682305,0.05306449055197424,0.052790011859716476,0.05252515693734345,0.05227032766318681,0.05202588578470324,0.05179215274940912,0.051569409703502454,0.05135789765221385,0.051157817775193654,0.05096933188958447,0.05079256305286177,0.05062759629696455,0.05047447948485179,0.05033322428024632,0.05020380722102486,0.05008617088656174,0.049980225149173024,0.04988584849977929,0.049802889437943205,0.049731167916527076,0.04967047683139354,0.049620583546820515,0.04958123144757935,0.04955214150899711,0.04953301387672437,0.049523529448374806,0.04952335144971158,0.04953212699856095,0.04954948865020277,0.049575055918558805,0.04960843676808547,0.04964922907188351,0.04969702203214956,0.04975139755966628,0.04981193160965058,0.04987819547184253,0.049949757013261105,0.05002618187261005,0.05010703460580094,0.050191879782523215,0.05028028303423858,0.05037181205435613,0.050466037551678285,0.05056253415852941,0.05066088129520514,0.050760663992605565,0.05086147367504932,0.05096290890537984,0.05106457609452496,0.0511660901776853,0.05126707525927519,0.051367165228675814,0.05146600434872096,0.0515632478186843,0.0516585623133381,0.05175162649943308,0.051842131530683636,0.05192978152209384,0.05201429400413448,0.05209540035701204,0.05217284622493898,0.05224639191000504,0.05231581274493933,0.05238089944376063,0.05244145842899429,0.05249731213389422,0.0525482992778255,0.05259427511275022,0.052635111638553375,0.05267069778478926,0.05270093955626832,0.05272576013985529,0.052745099969746294,0.052758916748521505,0.052767185421270464,0.052769898100179104,0.05276706393707971,0.052758708941618576,0.05274487574291592,0.052725623292814154,0.05270102650910998,0.05267117585748045,0.0526361768711653,0.05259614960784432,0.05255122804357472,0.05250155940407146,0.052447303434073854,0.052388631606002795,0.05232572626960168,0.052258779744716106,0.05218799335985976,0.05211357643970446,0.05203574524506147,0.05195472186941442,0.05187073309647094,0.051784009223616985,0.051694782856540195,0.051603287680636475,0.051509757215118405,0.05141442355603192,0.05131751611459567,0.051219260357487514,0.05111987655581414,0.05101957854960427,0.05091857253468938,0.050817055878831834,0.05071521597387419,0.05061322913058825,0.05051125952270061,0.05040945818636991,0.05030796208111602,0.05020689321786724,0.05010635785944577,0.05000644579839945,0.049907229716634395,0.04980876463083495,0.04971108742714003,0.049614216488006194,0.04951815141362339,0.049422872839673455,0.04932834235262221,0.049234502503132896,0.04914127691758158,0.04904857050704585,0.048956269772534575,0.04886424320463426,0.048772341775172603,0.048680399517932356,0.048588234194924716,0.04849564804420644,0.0484024286047686,0.04830834961355815,0.04821317196931452,0.048116644757512254,0.048018506330400876,0.04791848543584764,0.04781630238845992,0.04771167027627879,0.0476042961962227,0.04749388251134095,0.04738012812294267,0.04726272975065868,0.04714138321355698,0.04701578470555828,0.04688563205854086,0.04675062598672285,0.046610471306166835,0.046464878123507455,0.046313562988336235,0.04615625000402056,0.045992671892101135,0.045822571005834555,0.04564570028885288,0.0454618241753639,0.045270719428778784,0.045072175916107876,0.04486599731594935,0.0446520017583755,0.04443002239547813,0.044199907901829594,0.043961522904554635,0.04371474834316791,0.043459481759761644,0.04319563752054095,0.042923146970093584,0.042641958520148154,0.0423520376749197,0.04205336699543827,0.04174594600555079,0.04142979104252632,0.041104935055401914,0.040771427354403394,0.04042933331489949,0.04007873403947368,0.0397197259817665,0.039352420535779635,0.03897694359435286,0.03859343508048803,0.03820204845514986,0.037802950205084625,0.03739631931409254,0.03698234672104982,0.03656123476782717,0.03613319664006402,0.035698455803573365,0.03525724543893575,0.03480980787662908,0.03435639403479481,0.03389726286152735,0.03343268078331507,0.03296292116103041,0.032488263754629,0.03200899419748086,0.03152540348103194,0.031037787450284873,0.030546446310366144,0.03005168414427844,0.029553808441737696,0.029053129638854328,0.02854996066826482,0.028044616519199896,0.027537413806879317,0.027028670350531688,0.02651870475928331,0.026007836025115683,0.025496383122071774,0.024984664610886952,0.0244729982482489],\"yaxis\":\"y\",\"type\":\"scatter\",\"fill\":\"tozeroy\",\"hovertemplate\":\"<b>Synthetic</b><br>Value: %{x}<br>Frequency: %{y}<extra></extra>\"}],                        {\"barmode\":\"overlay\",\"hovermode\":\"closest\",\"legend\":{\"traceorder\":\"reversed\"},\"xaxis\":{\"anchor\":\"y2\",\"domain\":[0.0,1.0],\"zeroline\":false,\"title\":{\"text\":\"Value\"}},\"yaxis\":{\"anchor\":\"free\",\"domain\":[0.0,1],\"position\":0.0,\"title\":{\"text\":\"Frequency\"}},\"template\":{\"data\":{\"histogram2dcontour\":[{\"type\":\"histogram2dcontour\",\"colorbar\":{\"outlinewidth\":0,\"ticks\":\"\"},\"colorscale\":[[0.0,\"#0d0887\"],[0.1111111111111111,\"#46039f\"],[0.2222222222222222,\"#7201a8\"],[0.3333333333333333,\"#9c179e\"],[0.4444444444444444,\"#bd3786\"],[0.5555555555555556,\"#d8576b\"],[0.6666666666666666,\"#ed7953\"],[0.7777777777777778,\"#fb9f3a\"],[0.8888888888888888,\"#fdca26\"],[1.0,\"#f0f921\"]]}],\"choropleth\":[{\"type\":\"choropleth\",\"colorbar\":{\"outlinewidth\":0,\"ticks\":\"\"}}],\"histogram2d\":[{\"type\":\"histogram2d\",\"colorbar\":{\"outlinewidth\":0,\"ticks\":\"\"},\"colorscale\":[[0.0,\"#0d0887\"],[0.1111111111111111,\"#46039f\"],[0.2222222222222222,\"#7201a8\"],[0.3333333333333333,\"#9c179e\"],[0.4444444444444444,\"#bd3786\"],[0.5555555555555556,\"#d8576b\"],[0.6666666666666666,\"#ed7953\"],[0.7777777777777778,\"#fb9f3a\"],[0.8888888888888888,\"#fdca26\"],[1.0,\"#f0f921\"]]}],\"heatmap\":[{\"type\":\"heatmap\",\"colorbar\":{\"outlinewidth\":0,\"ticks\":\"\"},\"colorscale\":[[0.0,\"#0d0887\"],[0.1111111111111111,\"#46039f\"],[0.2222222222222222,\"#7201a8\"],[0.3333333333333333,\"#9c179e\"],[0.4444444444444444,\"#bd3786\"],[0.5555555555555556,\"#d8576b\"],[0.6666666666666666,\"#ed7953\"],[0.7777777777777778,\"#fb9f3a\"],[0.8888888888888888,\"#fdca26\"],[1.0,\"#f0f921\"]]}],\"heatmapgl\":[{\"type\":\"heatmapgl\",\"colorbar\":{\"outlinewidth\":0,\"ticks\":\"\"},\"colorscale\":[[0.0,\"#0d0887\"],[0.1111111111111111,\"#46039f\"],[0.2222222222222222,\"#7201a8\"],[0.3333333333333333,\"#9c179e\"],[0.4444444444444444,\"#bd3786\"],[0.5555555555555556,\"#d8576b\"],[0.6666666666666666,\"#ed7953\"],[0.7777777777777778,\"#fb9f3a\"],[0.8888888888888888,\"#fdca26\"],[1.0,\"#f0f921\"]]}],\"contourcarpet\":[{\"type\":\"contourcarpet\",\"colorbar\":{\"outlinewidth\":0,\"ticks\":\"\"}}],\"contour\":[{\"type\":\"contour\",\"colorbar\":{\"outlinewidth\":0,\"ticks\":\"\"},\"colorscale\":[[0.0,\"#0d0887\"],[0.1111111111111111,\"#46039f\"],[0.2222222222222222,\"#7201a8\"],[0.3333333333333333,\"#9c179e\"],[0.4444444444444444,\"#bd3786\"],[0.5555555555555556,\"#d8576b\"],[0.6666666666666666,\"#ed7953\"],[0.7777777777777778,\"#fb9f3a\"],[0.8888888888888888,\"#fdca26\"],[1.0,\"#f0f921\"]]}],\"surface\":[{\"type\":\"surface\",\"colorbar\":{\"outlinewidth\":0,\"ticks\":\"\"},\"colorscale\":[[0.0,\"#0d0887\"],[0.1111111111111111,\"#46039f\"],[0.2222222222222222,\"#7201a8\"],[0.3333333333333333,\"#9c179e\"],[0.4444444444444444,\"#bd3786\"],[0.5555555555555556,\"#d8576b\"],[0.6666666666666666,\"#ed7953\"],[0.7777777777777778,\"#fb9f3a\"],[0.8888888888888888,\"#fdca26\"],[1.0,\"#f0f921\"]]}],\"mesh3d\":[{\"type\":\"mesh3d\",\"colorbar\":{\"outlinewidth\":0,\"ticks\":\"\"}}],\"scatter\":[{\"fillpattern\":{\"fillmode\":\"overlay\",\"size\":10,\"solidity\":0.2},\"type\":\"scatter\"}],\"parcoords\":[{\"type\":\"parcoords\",\"line\":{\"colorbar\":{\"outlinewidth\":0,\"ticks\":\"\"}}}],\"scatterpolargl\":[{\"type\":\"scatterpolargl\",\"marker\":{\"colorbar\":{\"outlinewidth\":0,\"ticks\":\"\"}}}],\"bar\":[{\"error_x\":{\"color\":\"#2a3f5f\"},\"error_y\":{\"color\":\"#2a3f5f\"},\"marker\":{\"line\":{\"color\":\"#E5ECF6\",\"width\":0.5},\"pattern\":{\"fillmode\":\"overlay\",\"size\":10,\"solidity\":0.2}},\"type\":\"bar\"}],\"scattergeo\":[{\"type\":\"scattergeo\",\"marker\":{\"colorbar\":{\"outlinewidth\":0,\"ticks\":\"\"}}}],\"scatterpolar\":[{\"type\":\"scatterpolar\",\"marker\":{\"colorbar\":{\"outlinewidth\":0,\"ticks\":\"\"}}}],\"histogram\":[{\"marker\":{\"pattern\":{\"fillmode\":\"overlay\",\"size\":10,\"solidity\":0.2}},\"type\":\"histogram\"}],\"scattergl\":[{\"type\":\"scattergl\",\"marker\":{\"colorbar\":{\"outlinewidth\":0,\"ticks\":\"\"}}}],\"scatter3d\":[{\"type\":\"scatter3d\",\"line\":{\"colorbar\":{\"outlinewidth\":0,\"ticks\":\"\"}},\"marker\":{\"colorbar\":{\"outlinewidth\":0,\"ticks\":\"\"}}}],\"scattermapbox\":[{\"type\":\"scattermapbox\",\"marker\":{\"colorbar\":{\"outlinewidth\":0,\"ticks\":\"\"}}}],\"scatterternary\":[{\"type\":\"scatterternary\",\"marker\":{\"colorbar\":{\"outlinewidth\":0,\"ticks\":\"\"}}}],\"scattercarpet\":[{\"type\":\"scattercarpet\",\"marker\":{\"colorbar\":{\"outlinewidth\":0,\"ticks\":\"\"}}}],\"carpet\":[{\"aaxis\":{\"endlinecolor\":\"#2a3f5f\",\"gridcolor\":\"white\",\"linecolor\":\"white\",\"minorgridcolor\":\"white\",\"startlinecolor\":\"#2a3f5f\"},\"baxis\":{\"endlinecolor\":\"#2a3f5f\",\"gridcolor\":\"white\",\"linecolor\":\"white\",\"minorgridcolor\":\"white\",\"startlinecolor\":\"#2a3f5f\"},\"type\":\"carpet\"}],\"table\":[{\"cells\":{\"fill\":{\"color\":\"#EBF0F8\"},\"line\":{\"color\":\"white\"}},\"header\":{\"fill\":{\"color\":\"#C8D4E3\"},\"line\":{\"color\":\"white\"}},\"type\":\"table\"}],\"barpolar\":[{\"marker\":{\"line\":{\"color\":\"#E5ECF6\",\"width\":0.5},\"pattern\":{\"fillmode\":\"overlay\",\"size\":10,\"solidity\":0.2}},\"type\":\"barpolar\"}],\"pie\":[{\"automargin\":true,\"type\":\"pie\"}]},\"layout\":{\"autotypenumbers\":\"strict\",\"colorway\":[\"#636efa\",\"#EF553B\",\"#00cc96\",\"#ab63fa\",\"#FFA15A\",\"#19d3f3\",\"#FF6692\",\"#B6E880\",\"#FF97FF\",\"#FECB52\"],\"font\":{\"color\":\"#2a3f5f\"},\"hovermode\":\"closest\",\"hoverlabel\":{\"align\":\"left\"},\"paper_bgcolor\":\"white\",\"plot_bgcolor\":\"#E5ECF6\",\"polar\":{\"bgcolor\":\"#E5ECF6\",\"angularaxis\":{\"gridcolor\":\"white\",\"linecolor\":\"white\",\"ticks\":\"\"},\"radialaxis\":{\"gridcolor\":\"white\",\"linecolor\":\"white\",\"ticks\":\"\"}},\"ternary\":{\"bgcolor\":\"#E5ECF6\",\"aaxis\":{\"gridcolor\":\"white\",\"linecolor\":\"white\",\"ticks\":\"\"},\"baxis\":{\"gridcolor\":\"white\",\"linecolor\":\"white\",\"ticks\":\"\"},\"caxis\":{\"gridcolor\":\"white\",\"linecolor\":\"white\",\"ticks\":\"\"}},\"coloraxis\":{\"colorbar\":{\"outlinewidth\":0,\"ticks\":\"\"}},\"colorscale\":{\"sequential\":[[0.0,\"#0d0887\"],[0.1111111111111111,\"#46039f\"],[0.2222222222222222,\"#7201a8\"],[0.3333333333333333,\"#9c179e\"],[0.4444444444444444,\"#bd3786\"],[0.5555555555555556,\"#d8576b\"],[0.6666666666666666,\"#ed7953\"],[0.7777777777777778,\"#fb9f3a\"],[0.8888888888888888,\"#fdca26\"],[1.0,\"#f0f921\"]],\"sequentialminus\":[[0.0,\"#0d0887\"],[0.1111111111111111,\"#46039f\"],[0.2222222222222222,\"#7201a8\"],[0.3333333333333333,\"#9c179e\"],[0.4444444444444444,\"#bd3786\"],[0.5555555555555556,\"#d8576b\"],[0.6666666666666666,\"#ed7953\"],[0.7777777777777778,\"#fb9f3a\"],[0.8888888888888888,\"#fdca26\"],[1.0,\"#f0f921\"]],\"diverging\":[[0,\"#8e0152\"],[0.1,\"#c51b7d\"],[0.2,\"#de77ae\"],[0.3,\"#f1b6da\"],[0.4,\"#fde0ef\"],[0.5,\"#f7f7f7\"],[0.6,\"#e6f5d0\"],[0.7,\"#b8e186\"],[0.8,\"#7fbc41\"],[0.9,\"#4d9221\"],[1,\"#276419\"]]},\"xaxis\":{\"gridcolor\":\"white\",\"linecolor\":\"white\",\"ticks\":\"\",\"title\":{\"standoff\":15},\"zerolinecolor\":\"white\",\"automargin\":true,\"zerolinewidth\":2},\"yaxis\":{\"gridcolor\":\"white\",\"linecolor\":\"white\",\"ticks\":\"\",\"title\":{\"standoff\":15},\"zerolinecolor\":\"white\",\"automargin\":true,\"zerolinewidth\":2},\"scene\":{\"xaxis\":{\"backgroundcolor\":\"#E5ECF6\",\"gridcolor\":\"white\",\"linecolor\":\"white\",\"showbackground\":true,\"ticks\":\"\",\"zerolinecolor\":\"white\",\"gridwidth\":2},\"yaxis\":{\"backgroundcolor\":\"#E5ECF6\",\"gridcolor\":\"white\",\"linecolor\":\"white\",\"showbackground\":true,\"ticks\":\"\",\"zerolinecolor\":\"white\",\"gridwidth\":2},\"zaxis\":{\"backgroundcolor\":\"#E5ECF6\",\"gridcolor\":\"white\",\"linecolor\":\"white\",\"showbackground\":true,\"ticks\":\"\",\"zerolinecolor\":\"white\",\"gridwidth\":2}},\"shapedefaults\":{\"line\":{\"color\":\"#2a3f5f\"}},\"annotationdefaults\":{\"arrowcolor\":\"#2a3f5f\",\"arrowhead\":0,\"arrowwidth\":1},\"geo\":{\"bgcolor\":\"white\",\"landcolor\":\"#E5ECF6\",\"subunitcolor\":\"white\",\"showland\":true,\"showlakes\":true,\"lakecolor\":\"white\"},\"title\":{\"x\":0.05},\"mapbox\":{\"style\":\"light\"}}},\"title\":{\"text\":\"Real vs. Synthetic Data for column Experience\"},\"plot_bgcolor\":\"#F5F5F8\"},                        {\"responsive\": true}                    ).then(function(){\n",
              "                            \n",
              "var gd = document.getElementById('2a213726-55a6-4ce0-a5f7-452fcde171d6');\n",
              "var x = new MutationObserver(function (mutations, observer) {{\n",
              "        var display = window.getComputedStyle(gd).display;\n",
              "        if (!display || display === 'none') {{\n",
              "            console.log([gd, 'removed!']);\n",
              "            Plotly.purge(gd);\n",
              "            observer.disconnect();\n",
              "        }}\n",
              "}});\n",
              "\n",
              "// Listen for the removal of the full notebook cells\n",
              "var notebookContainer = gd.closest('#notebook-container');\n",
              "if (notebookContainer) {{\n",
              "    x.observe(notebookContainer, {childList: true});\n",
              "}}\n",
              "\n",
              "// Listen for the clearing of the current output cell\n",
              "var outputEl = gd.closest('.output');\n",
              "if (outputEl) {{\n",
              "    x.observe(outputEl, {childList: true});\n",
              "}}\n",
              "\n",
              "                        })                };                            </script>        </div>\n",
              "</body>\n",
              "</html>"
            ]
          },
          "metadata": {}
        }
      ]
    }
  ]
}